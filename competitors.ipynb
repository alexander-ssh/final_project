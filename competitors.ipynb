{
  "cells": [
    {
      "cell_type": "code",
      "execution_count": null,
      "metadata": {},
      "outputs": [
        {
          "data": {
            "text/plain": [
              "[<selenium.webdriver.remote.webelement.WebElement (session=\"a8a647fe334c582a6eed982b93a5286d\", element=\"f.A9CD43E52C42F6CA5D679EF42BF29DA7.d.00C27490D9F99801D0639A10F9E4EBDC.e.49\")>,\n",
              " <selenium.webdriver.remote.webelement.WebElement (session=\"a8a647fe334c582a6eed982b93a5286d\", element=\"f.A9CD43E52C42F6CA5D679EF42BF29DA7.d.00C27490D9F99801D0639A10F9E4EBDC.e.50\")>,\n",
              " <selenium.webdriver.remote.webelement.WebElement (session=\"a8a647fe334c582a6eed982b93a5286d\", element=\"f.A9CD43E52C42F6CA5D679EF42BF29DA7.d.00C27490D9F99801D0639A10F9E4EBDC.e.51\")>,\n",
              " <selenium.webdriver.remote.webelement.WebElement (session=\"a8a647fe334c582a6eed982b93a5286d\", element=\"f.A9CD43E52C42F6CA5D679EF42BF29DA7.d.00C27490D9F99801D0639A10F9E4EBDC.e.52\")>,\n",
              " <selenium.webdriver.remote.webelement.WebElement (session=\"a8a647fe334c582a6eed982b93a5286d\", element=\"f.A9CD43E52C42F6CA5D679EF42BF29DA7.d.00C27490D9F99801D0639A10F9E4EBDC.e.53\")>,\n",
              " <selenium.webdriver.remote.webelement.WebElement (session=\"a8a647fe334c582a6eed982b93a5286d\", element=\"f.A9CD43E52C42F6CA5D679EF42BF29DA7.d.00C27490D9F99801D0639A10F9E4EBDC.e.54\")>,\n",
              " <selenium.webdriver.remote.webelement.WebElement (session=\"a8a647fe334c582a6eed982b93a5286d\", element=\"f.A9CD43E52C42F6CA5D679EF42BF29DA7.d.00C27490D9F99801D0639A10F9E4EBDC.e.55\")>,\n",
              " <selenium.webdriver.remote.webelement.WebElement (session=\"a8a647fe334c582a6eed982b93a5286d\", element=\"f.A9CD43E52C42F6CA5D679EF42BF29DA7.d.00C27490D9F99801D0639A10F9E4EBDC.e.56\")>,\n",
              " <selenium.webdriver.remote.webelement.WebElement (session=\"a8a647fe334c582a6eed982b93a5286d\", element=\"f.A9CD43E52C42F6CA5D679EF42BF29DA7.d.00C27490D9F99801D0639A10F9E4EBDC.e.57\")>,\n",
              " <selenium.webdriver.remote.webelement.WebElement (session=\"a8a647fe334c582a6eed982b93a5286d\", element=\"f.A9CD43E52C42F6CA5D679EF42BF29DA7.d.00C27490D9F99801D0639A10F9E4EBDC.e.58\")>,\n",
              " <selenium.webdriver.remote.webelement.WebElement (session=\"a8a647fe334c582a6eed982b93a5286d\", element=\"f.A9CD43E52C42F6CA5D679EF42BF29DA7.d.00C27490D9F99801D0639A10F9E4EBDC.e.59\")>,\n",
              " <selenium.webdriver.remote.webelement.WebElement (session=\"a8a647fe334c582a6eed982b93a5286d\", element=\"f.A9CD43E52C42F6CA5D679EF42BF29DA7.d.00C27490D9F99801D0639A10F9E4EBDC.e.60\")>,\n",
              " <selenium.webdriver.remote.webelement.WebElement (session=\"a8a647fe334c582a6eed982b93a5286d\", element=\"f.A9CD43E52C42F6CA5D679EF42BF29DA7.d.00C27490D9F99801D0639A10F9E4EBDC.e.61\")>,\n",
              " <selenium.webdriver.remote.webelement.WebElement (session=\"a8a647fe334c582a6eed982b93a5286d\", element=\"f.A9CD43E52C42F6CA5D679EF42BF29DA7.d.00C27490D9F99801D0639A10F9E4EBDC.e.62\")>,\n",
              " <selenium.webdriver.remote.webelement.WebElement (session=\"a8a647fe334c582a6eed982b93a5286d\", element=\"f.A9CD43E52C42F6CA5D679EF42BF29DA7.d.00C27490D9F99801D0639A10F9E4EBDC.e.63\")>,\n",
              " <selenium.webdriver.remote.webelement.WebElement (session=\"a8a647fe334c582a6eed982b93a5286d\", element=\"f.A9CD43E52C42F6CA5D679EF42BF29DA7.d.00C27490D9F99801D0639A10F9E4EBDC.e.64\")>,\n",
              " <selenium.webdriver.remote.webelement.WebElement (session=\"a8a647fe334c582a6eed982b93a5286d\", element=\"f.A9CD43E52C42F6CA5D679EF42BF29DA7.d.00C27490D9F99801D0639A10F9E4EBDC.e.65\")>,\n",
              " <selenium.webdriver.remote.webelement.WebElement (session=\"a8a647fe334c582a6eed982b93a5286d\", element=\"f.A9CD43E52C42F6CA5D679EF42BF29DA7.d.00C27490D9F99801D0639A10F9E4EBDC.e.66\")>,\n",
              " <selenium.webdriver.remote.webelement.WebElement (session=\"a8a647fe334c582a6eed982b93a5286d\", element=\"f.A9CD43E52C42F6CA5D679EF42BF29DA7.d.00C27490D9F99801D0639A10F9E4EBDC.e.67\")>,\n",
              " <selenium.webdriver.remote.webelement.WebElement (session=\"a8a647fe334c582a6eed982b93a5286d\", element=\"f.A9CD43E52C42F6CA5D679EF42BF29DA7.d.00C27490D9F99801D0639A10F9E4EBDC.e.68\")>,\n",
              " <selenium.webdriver.remote.webelement.WebElement (session=\"a8a647fe334c582a6eed982b93a5286d\", element=\"f.A9CD43E52C42F6CA5D679EF42BF29DA7.d.00C27490D9F99801D0639A10F9E4EBDC.e.69\")>,\n",
              " <selenium.webdriver.remote.webelement.WebElement (session=\"a8a647fe334c582a6eed982b93a5286d\", element=\"f.A9CD43E52C42F6CA5D679EF42BF29DA7.d.00C27490D9F99801D0639A10F9E4EBDC.e.70\")>,\n",
              " <selenium.webdriver.remote.webelement.WebElement (session=\"a8a647fe334c582a6eed982b93a5286d\", element=\"f.A9CD43E52C42F6CA5D679EF42BF29DA7.d.00C27490D9F99801D0639A10F9E4EBDC.e.71\")>,\n",
              " <selenium.webdriver.remote.webelement.WebElement (session=\"a8a647fe334c582a6eed982b93a5286d\", element=\"f.A9CD43E52C42F6CA5D679EF42BF29DA7.d.00C27490D9F99801D0639A10F9E4EBDC.e.72\")>,\n",
              " <selenium.webdriver.remote.webelement.WebElement (session=\"a8a647fe334c582a6eed982b93a5286d\", element=\"f.A9CD43E52C42F6CA5D679EF42BF29DA7.d.00C27490D9F99801D0639A10F9E4EBDC.e.73\")>,\n",
              " <selenium.webdriver.remote.webelement.WebElement (session=\"a8a647fe334c582a6eed982b93a5286d\", element=\"f.A9CD43E52C42F6CA5D679EF42BF29DA7.d.00C27490D9F99801D0639A10F9E4EBDC.e.74\")>,\n",
              " <selenium.webdriver.remote.webelement.WebElement (session=\"a8a647fe334c582a6eed982b93a5286d\", element=\"f.A9CD43E52C42F6CA5D679EF42BF29DA7.d.00C27490D9F99801D0639A10F9E4EBDC.e.75\")>,\n",
              " <selenium.webdriver.remote.webelement.WebElement (session=\"a8a647fe334c582a6eed982b93a5286d\", element=\"f.A9CD43E52C42F6CA5D679EF42BF29DA7.d.00C27490D9F99801D0639A10F9E4EBDC.e.76\")>,\n",
              " <selenium.webdriver.remote.webelement.WebElement (session=\"a8a647fe334c582a6eed982b93a5286d\", element=\"f.A9CD43E52C42F6CA5D679EF42BF29DA7.d.00C27490D9F99801D0639A10F9E4EBDC.e.77\")>,\n",
              " <selenium.webdriver.remote.webelement.WebElement (session=\"a8a647fe334c582a6eed982b93a5286d\", element=\"f.A9CD43E52C42F6CA5D679EF42BF29DA7.d.00C27490D9F99801D0639A10F9E4EBDC.e.78\")>,\n",
              " <selenium.webdriver.remote.webelement.WebElement (session=\"a8a647fe334c582a6eed982b93a5286d\", element=\"f.A9CD43E52C42F6CA5D679EF42BF29DA7.d.00C27490D9F99801D0639A10F9E4EBDC.e.79\")>,\n",
              " <selenium.webdriver.remote.webelement.WebElement (session=\"a8a647fe334c582a6eed982b93a5286d\", element=\"f.A9CD43E52C42F6CA5D679EF42BF29DA7.d.00C27490D9F99801D0639A10F9E4EBDC.e.80\")>,\n",
              " <selenium.webdriver.remote.webelement.WebElement (session=\"a8a647fe334c582a6eed982b93a5286d\", element=\"f.A9CD43E52C42F6CA5D679EF42BF29DA7.d.00C27490D9F99801D0639A10F9E4EBDC.e.81\")>,\n",
              " <selenium.webdriver.remote.webelement.WebElement (session=\"a8a647fe334c582a6eed982b93a5286d\", element=\"f.A9CD43E52C42F6CA5D679EF42BF29DA7.d.00C27490D9F99801D0639A10F9E4EBDC.e.82\")>,\n",
              " <selenium.webdriver.remote.webelement.WebElement (session=\"a8a647fe334c582a6eed982b93a5286d\", element=\"f.A9CD43E52C42F6CA5D679EF42BF29DA7.d.00C27490D9F99801D0639A10F9E4EBDC.e.83\")>,\n",
              " <selenium.webdriver.remote.webelement.WebElement (session=\"a8a647fe334c582a6eed982b93a5286d\", element=\"f.A9CD43E52C42F6CA5D679EF42BF29DA7.d.00C27490D9F99801D0639A10F9E4EBDC.e.84\")>,\n",
              " <selenium.webdriver.remote.webelement.WebElement (session=\"a8a647fe334c582a6eed982b93a5286d\", element=\"f.A9CD43E52C42F6CA5D679EF42BF29DA7.d.00C27490D9F99801D0639A10F9E4EBDC.e.85\")>,\n",
              " <selenium.webdriver.remote.webelement.WebElement (session=\"a8a647fe334c582a6eed982b93a5286d\", element=\"f.A9CD43E52C42F6CA5D679EF42BF29DA7.d.00C27490D9F99801D0639A10F9E4EBDC.e.86\")>,\n",
              " <selenium.webdriver.remote.webelement.WebElement (session=\"a8a647fe334c582a6eed982b93a5286d\", element=\"f.A9CD43E52C42F6CA5D679EF42BF29DA7.d.00C27490D9F99801D0639A10F9E4EBDC.e.87\")>,\n",
              " <selenium.webdriver.remote.webelement.WebElement (session=\"a8a647fe334c582a6eed982b93a5286d\", element=\"f.A9CD43E52C42F6CA5D679EF42BF29DA7.d.00C27490D9F99801D0639A10F9E4EBDC.e.88\")>,\n",
              " <selenium.webdriver.remote.webelement.WebElement (session=\"a8a647fe334c582a6eed982b93a5286d\", element=\"f.A9CD43E52C42F6CA5D679EF42BF29DA7.d.00C27490D9F99801D0639A10F9E4EBDC.e.89\")>,\n",
              " <selenium.webdriver.remote.webelement.WebElement (session=\"a8a647fe334c582a6eed982b93a5286d\", element=\"f.A9CD43E52C42F6CA5D679EF42BF29DA7.d.00C27490D9F99801D0639A10F9E4EBDC.e.90\")>,\n",
              " <selenium.webdriver.remote.webelement.WebElement (session=\"a8a647fe334c582a6eed982b93a5286d\", element=\"f.A9CD43E52C42F6CA5D679EF42BF29DA7.d.00C27490D9F99801D0639A10F9E4EBDC.e.91\")>,\n",
              " <selenium.webdriver.remote.webelement.WebElement (session=\"a8a647fe334c582a6eed982b93a5286d\", element=\"f.A9CD43E52C42F6CA5D679EF42BF29DA7.d.00C27490D9F99801D0639A10F9E4EBDC.e.92\")>,\n",
              " <selenium.webdriver.remote.webelement.WebElement (session=\"a8a647fe334c582a6eed982b93a5286d\", element=\"f.A9CD43E52C42F6CA5D679EF42BF29DA7.d.00C27490D9F99801D0639A10F9E4EBDC.e.93\")>,\n",
              " <selenium.webdriver.remote.webelement.WebElement (session=\"a8a647fe334c582a6eed982b93a5286d\", element=\"f.A9CD43E52C42F6CA5D679EF42BF29DA7.d.00C27490D9F99801D0639A10F9E4EBDC.e.94\")>,\n",
              " <selenium.webdriver.remote.webelement.WebElement (session=\"a8a647fe334c582a6eed982b93a5286d\", element=\"f.A9CD43E52C42F6CA5D679EF42BF29DA7.d.00C27490D9F99801D0639A10F9E4EBDC.e.95\")>,\n",
              " <selenium.webdriver.remote.webelement.WebElement (session=\"a8a647fe334c582a6eed982b93a5286d\", element=\"f.A9CD43E52C42F6CA5D679EF42BF29DA7.d.00C27490D9F99801D0639A10F9E4EBDC.e.96\")>,\n",
              " <selenium.webdriver.remote.webelement.WebElement (session=\"a8a647fe334c582a6eed982b93a5286d\", element=\"f.A9CD43E52C42F6CA5D679EF42BF29DA7.d.00C27490D9F99801D0639A10F9E4EBDC.e.97\")>,\n",
              " <selenium.webdriver.remote.webelement.WebElement (session=\"a8a647fe334c582a6eed982b93a5286d\", element=\"f.A9CD43E52C42F6CA5D679EF42BF29DA7.d.00C27490D9F99801D0639A10F9E4EBDC.e.98\")>,\n",
              " <selenium.webdriver.remote.webelement.WebElement (session=\"a8a647fe334c582a6eed982b93a5286d\", element=\"f.A9CD43E52C42F6CA5D679EF42BF29DA7.d.00C27490D9F99801D0639A10F9E4EBDC.e.99\")>,\n",
              " <selenium.webdriver.remote.webelement.WebElement (session=\"a8a647fe334c582a6eed982b93a5286d\", element=\"f.A9CD43E52C42F6CA5D679EF42BF29DA7.d.00C27490D9F99801D0639A10F9E4EBDC.e.100\")>,\n",
              " <selenium.webdriver.remote.webelement.WebElement (session=\"a8a647fe334c582a6eed982b93a5286d\", element=\"f.A9CD43E52C42F6CA5D679EF42BF29DA7.d.00C27490D9F99801D0639A10F9E4EBDC.e.101\")>,\n",
              " <selenium.webdriver.remote.webelement.WebElement (session=\"a8a647fe334c582a6eed982b93a5286d\", element=\"f.A9CD43E52C42F6CA5D679EF42BF29DA7.d.00C27490D9F99801D0639A10F9E4EBDC.e.102\")>,\n",
              " <selenium.webdriver.remote.webelement.WebElement (session=\"a8a647fe334c582a6eed982b93a5286d\", element=\"f.A9CD43E52C42F6CA5D679EF42BF29DA7.d.00C27490D9F99801D0639A10F9E4EBDC.e.103\")>,\n",
              " <selenium.webdriver.remote.webelement.WebElement (session=\"a8a647fe334c582a6eed982b93a5286d\", element=\"f.A9CD43E52C42F6CA5D679EF42BF29DA7.d.00C27490D9F99801D0639A10F9E4EBDC.e.104\")>,\n",
              " <selenium.webdriver.remote.webelement.WebElement (session=\"a8a647fe334c582a6eed982b93a5286d\", element=\"f.A9CD43E52C42F6CA5D679EF42BF29DA7.d.00C27490D9F99801D0639A10F9E4EBDC.e.105\")>,\n",
              " <selenium.webdriver.remote.webelement.WebElement (session=\"a8a647fe334c582a6eed982b93a5286d\", element=\"f.A9CD43E52C42F6CA5D679EF42BF29DA7.d.00C27490D9F99801D0639A10F9E4EBDC.e.106\")>,\n",
              " <selenium.webdriver.remote.webelement.WebElement (session=\"a8a647fe334c582a6eed982b93a5286d\", element=\"f.A9CD43E52C42F6CA5D679EF42BF29DA7.d.00C27490D9F99801D0639A10F9E4EBDC.e.107\")>,\n",
              " <selenium.webdriver.remote.webelement.WebElement (session=\"a8a647fe334c582a6eed982b93a5286d\", element=\"f.A9CD43E52C42F6CA5D679EF42BF29DA7.d.00C27490D9F99801D0639A10F9E4EBDC.e.108\")>,\n",
              " <selenium.webdriver.remote.webelement.WebElement (session=\"a8a647fe334c582a6eed982b93a5286d\", element=\"f.A9CD43E52C42F6CA5D679EF42BF29DA7.d.00C27490D9F99801D0639A10F9E4EBDC.e.109\")>,\n",
              " <selenium.webdriver.remote.webelement.WebElement (session=\"a8a647fe334c582a6eed982b93a5286d\", element=\"f.A9CD43E52C42F6CA5D679EF42BF29DA7.d.00C27490D9F99801D0639A10F9E4EBDC.e.110\")>,\n",
              " <selenium.webdriver.remote.webelement.WebElement (session=\"a8a647fe334c582a6eed982b93a5286d\", element=\"f.A9CD43E52C42F6CA5D679EF42BF29DA7.d.00C27490D9F99801D0639A10F9E4EBDC.e.111\")>,\n",
              " <selenium.webdriver.remote.webelement.WebElement (session=\"a8a647fe334c582a6eed982b93a5286d\", element=\"f.A9CD43E52C42F6CA5D679EF42BF29DA7.d.00C27490D9F99801D0639A10F9E4EBDC.e.112\")>,\n",
              " <selenium.webdriver.remote.webelement.WebElement (session=\"a8a647fe334c582a6eed982b93a5286d\", element=\"f.A9CD43E52C42F6CA5D679EF42BF29DA7.d.00C27490D9F99801D0639A10F9E4EBDC.e.113\")>,\n",
              " <selenium.webdriver.remote.webelement.WebElement (session=\"a8a647fe334c582a6eed982b93a5286d\", element=\"f.A9CD43E52C42F6CA5D679EF42BF29DA7.d.00C27490D9F99801D0639A10F9E4EBDC.e.114\")>,\n",
              " <selenium.webdriver.remote.webelement.WebElement (session=\"a8a647fe334c582a6eed982b93a5286d\", element=\"f.A9CD43E52C42F6CA5D679EF42BF29DA7.d.00C27490D9F99801D0639A10F9E4EBDC.e.115\")>,\n",
              " <selenium.webdriver.remote.webelement.WebElement (session=\"a8a647fe334c582a6eed982b93a5286d\", element=\"f.A9CD43E52C42F6CA5D679EF42BF29DA7.d.00C27490D9F99801D0639A10F9E4EBDC.e.116\")>,\n",
              " <selenium.webdriver.remote.webelement.WebElement (session=\"a8a647fe334c582a6eed982b93a5286d\", element=\"f.A9CD43E52C42F6CA5D679EF42BF29DA7.d.00C27490D9F99801D0639A10F9E4EBDC.e.117\")>,\n",
              " <selenium.webdriver.remote.webelement.WebElement (session=\"a8a647fe334c582a6eed982b93a5286d\", element=\"f.A9CD43E52C42F6CA5D679EF42BF29DA7.d.00C27490D9F99801D0639A10F9E4EBDC.e.118\")>,\n",
              " <selenium.webdriver.remote.webelement.WebElement (session=\"a8a647fe334c582a6eed982b93a5286d\", element=\"f.A9CD43E52C42F6CA5D679EF42BF29DA7.d.00C27490D9F99801D0639A10F9E4EBDC.e.119\")>,\n",
              " <selenium.webdriver.remote.webelement.WebElement (session=\"a8a647fe334c582a6eed982b93a5286d\", element=\"f.A9CD43E52C42F6CA5D679EF42BF29DA7.d.00C27490D9F99801D0639A10F9E4EBDC.e.120\")>,\n",
              " <selenium.webdriver.remote.webelement.WebElement (session=\"a8a647fe334c582a6eed982b93a5286d\", element=\"f.A9CD43E52C42F6CA5D679EF42BF29DA7.d.00C27490D9F99801D0639A10F9E4EBDC.e.121\")>,\n",
              " <selenium.webdriver.remote.webelement.WebElement (session=\"a8a647fe334c582a6eed982b93a5286d\", element=\"f.A9CD43E52C42F6CA5D679EF42BF29DA7.d.00C27490D9F99801D0639A10F9E4EBDC.e.122\")>,\n",
              " <selenium.webdriver.remote.webelement.WebElement (session=\"a8a647fe334c582a6eed982b93a5286d\", element=\"f.A9CD43E52C42F6CA5D679EF42BF29DA7.d.00C27490D9F99801D0639A10F9E4EBDC.e.123\")>,\n",
              " <selenium.webdriver.remote.webelement.WebElement (session=\"a8a647fe334c582a6eed982b93a5286d\", element=\"f.A9CD43E52C42F6CA5D679EF42BF29DA7.d.00C27490D9F99801D0639A10F9E4EBDC.e.124\")>,\n",
              " <selenium.webdriver.remote.webelement.WebElement (session=\"a8a647fe334c582a6eed982b93a5286d\", element=\"f.A9CD43E52C42F6CA5D679EF42BF29DA7.d.00C27490D9F99801D0639A10F9E4EBDC.e.125\")>,\n",
              " <selenium.webdriver.remote.webelement.WebElement (session=\"a8a647fe334c582a6eed982b93a5286d\", element=\"f.A9CD43E52C42F6CA5D679EF42BF29DA7.d.00C27490D9F99801D0639A10F9E4EBDC.e.126\")>,\n",
              " <selenium.webdriver.remote.webelement.WebElement (session=\"a8a647fe334c582a6eed982b93a5286d\", element=\"f.A9CD43E52C42F6CA5D679EF42BF29DA7.d.00C27490D9F99801D0639A10F9E4EBDC.e.127\")>,\n",
              " <selenium.webdriver.remote.webelement.WebElement (session=\"a8a647fe334c582a6eed982b93a5286d\", element=\"f.A9CD43E52C42F6CA5D679EF42BF29DA7.d.00C27490D9F99801D0639A10F9E4EBDC.e.128\")>,\n",
              " <selenium.webdriver.remote.webelement.WebElement (session=\"a8a647fe334c582a6eed982b93a5286d\", element=\"f.A9CD43E52C42F6CA5D679EF42BF29DA7.d.00C27490D9F99801D0639A10F9E4EBDC.e.129\")>,\n",
              " <selenium.webdriver.remote.webelement.WebElement (session=\"a8a647fe334c582a6eed982b93a5286d\", element=\"f.A9CD43E52C42F6CA5D679EF42BF29DA7.d.00C27490D9F99801D0639A10F9E4EBDC.e.130\")>,\n",
              " <selenium.webdriver.remote.webelement.WebElement (session=\"a8a647fe334c582a6eed982b93a5286d\", element=\"f.A9CD43E52C42F6CA5D679EF42BF29DA7.d.00C27490D9F99801D0639A10F9E4EBDC.e.131\")>,\n",
              " <selenium.webdriver.remote.webelement.WebElement (session=\"a8a647fe334c582a6eed982b93a5286d\", element=\"f.A9CD43E52C42F6CA5D679EF42BF29DA7.d.00C27490D9F99801D0639A10F9E4EBDC.e.132\")>,\n",
              " <selenium.webdriver.remote.webelement.WebElement (session=\"a8a647fe334c582a6eed982b93a5286d\", element=\"f.A9CD43E52C42F6CA5D679EF42BF29DA7.d.00C27490D9F99801D0639A10F9E4EBDC.e.133\")>,\n",
              " <selenium.webdriver.remote.webelement.WebElement (session=\"a8a647fe334c582a6eed982b93a5286d\", element=\"f.A9CD43E52C42F6CA5D679EF42BF29DA7.d.00C27490D9F99801D0639A10F9E4EBDC.e.134\")>,\n",
              " <selenium.webdriver.remote.webelement.WebElement (session=\"a8a647fe334c582a6eed982b93a5286d\", element=\"f.A9CD43E52C42F6CA5D679EF42BF29DA7.d.00C27490D9F99801D0639A10F9E4EBDC.e.135\")>,\n",
              " <selenium.webdriver.remote.webelement.WebElement (session=\"a8a647fe334c582a6eed982b93a5286d\", element=\"f.A9CD43E52C42F6CA5D679EF42BF29DA7.d.00C27490D9F99801D0639A10F9E4EBDC.e.136\")>,\n",
              " <selenium.webdriver.remote.webelement.WebElement (session=\"a8a647fe334c582a6eed982b93a5286d\", element=\"f.A9CD43E52C42F6CA5D679EF42BF29DA7.d.00C27490D9F99801D0639A10F9E4EBDC.e.137\")>,\n",
              " <selenium.webdriver.remote.webelement.WebElement (session=\"a8a647fe334c582a6eed982b93a5286d\", element=\"f.A9CD43E52C42F6CA5D679EF42BF29DA7.d.00C27490D9F99801D0639A10F9E4EBDC.e.138\")>,\n",
              " <selenium.webdriver.remote.webelement.WebElement (session=\"a8a647fe334c582a6eed982b93a5286d\", element=\"f.A9CD43E52C42F6CA5D679EF42BF29DA7.d.00C27490D9F99801D0639A10F9E4EBDC.e.139\")>,\n",
              " <selenium.webdriver.remote.webelement.WebElement (session=\"a8a647fe334c582a6eed982b93a5286d\", element=\"f.A9CD43E52C42F6CA5D679EF42BF29DA7.d.00C27490D9F99801D0639A10F9E4EBDC.e.140\")>,\n",
              " <selenium.webdriver.remote.webelement.WebElement (session=\"a8a647fe334c582a6eed982b93a5286d\", element=\"f.A9CD43E52C42F6CA5D679EF42BF29DA7.d.00C27490D9F99801D0639A10F9E4EBDC.e.141\")>,\n",
              " <selenium.webdriver.remote.webelement.WebElement (session=\"a8a647fe334c582a6eed982b93a5286d\", element=\"f.A9CD43E52C42F6CA5D679EF42BF29DA7.d.00C27490D9F99801D0639A10F9E4EBDC.e.142\")>,\n",
              " <selenium.webdriver.remote.webelement.WebElement (session=\"a8a647fe334c582a6eed982b93a5286d\", element=\"f.A9CD43E52C42F6CA5D679EF42BF29DA7.d.00C27490D9F99801D0639A10F9E4EBDC.e.143\")>,\n",
              " <selenium.webdriver.remote.webelement.WebElement (session=\"a8a647fe334c582a6eed982b93a5286d\", element=\"f.A9CD43E52C42F6CA5D679EF42BF29DA7.d.00C27490D9F99801D0639A10F9E4EBDC.e.144\")>,\n",
              " <selenium.webdriver.remote.webelement.WebElement (session=\"a8a647fe334c582a6eed982b93a5286d\", element=\"f.A9CD43E52C42F6CA5D679EF42BF29DA7.d.00C27490D9F99801D0639A10F9E4EBDC.e.145\")>,\n",
              " <selenium.webdriver.remote.webelement.WebElement (session=\"a8a647fe334c582a6eed982b93a5286d\", element=\"f.A9CD43E52C42F6CA5D679EF42BF29DA7.d.00C27490D9F99801D0639A10F9E4EBDC.e.146\")>,\n",
              " <selenium.webdriver.remote.webelement.WebElement (session=\"a8a647fe334c582a6eed982b93a5286d\", element=\"f.A9CD43E52C42F6CA5D679EF42BF29DA7.d.00C27490D9F99801D0639A10F9E4EBDC.e.147\")>,\n",
              " <selenium.webdriver.remote.webelement.WebElement (session=\"a8a647fe334c582a6eed982b93a5286d\", element=\"f.A9CD43E52C42F6CA5D679EF42BF29DA7.d.00C27490D9F99801D0639A10F9E4EBDC.e.148\")>]"
            ]
          },
          "execution_count": 30,
          "metadata": {},
          "output_type": "execute_result"
        }
      ],
      "source": [
        "from selenium import webdriver\n",
        "from selenium.webdriver.common.by import By\n",
        "from selenium.webdriver.common.keys import Keys\n",
        "from selenium.webdriver.support.ui import WebDriverWait\n",
        "from selenium.webdriver.support import expected_conditions as EC\n",
        "import pandas as pd\n",
        "\n",
        "\n",
        "url = 'https://edtechs.ru/'\n",
        "driver = webdriver.Chrome()\n",
        "driver.get(url)\n",
        "td = WebDriverWait(driver,10).until(\n",
        "    EC.presence_of_all_elements_located((By.TAG_NAME, 'td'))\n",
        ")   \n",
        "td"
      ]
    },
    {
      "cell_type": "code",
      "execution_count": 31,
      "metadata": {},
      "outputs": [
        {
          "data": {
            "text/plain": [
              "['Партнер рейтинга\\n1',\n",
              " 'Корпорация «Синергия»',\n",
              " 'Дополнительное детское образование,\\nВысшее образование,\\nБизнес-образование',\n",
              " 'Вадим Лобов',\n",
              " '12.727 млрд\\n+50.19 %',\n",
              " 'Партнер рейтинга\\n2',\n",
              " 'Skillbox Holding Limited (Skillbox, Geekbrains, Skillfactory, Mentorama, Lerna)',\n",
              " 'ДПО',\n",
              " 'Дмитрий Крутов',\n",
              " '12.200 млрд *\\n-1.13 %',\n",
              " '3',\n",
              " 'Группа компаний Skyeng (Skyeng, Skysmart, Skypro)',\n",
              " 'Дополнительное детское образование,\\nДПО,\\nИностранные языки',\n",
              " 'Рустам Айнетдинов',\n",
              " '12.100 млрд *\\n0.83 %',\n",
              " 'Партнер рейтинга\\n4',\n",
              " 'Яндекс.Практикум',\n",
              " 'ДПО',\n",
              " 'Илья Курмышев',\n",
              " '8.250 млрд *\\n+17.02 %',\n",
              " '5',\n",
              " 'GetCourse',\n",
              " 'Разработка образовательных курсов,\\nвебинаров и ПО',\n",
              " 'Сергей Михайлов',\n",
              " '6.690 млрд *\\n+33.80 %',\n",
              " '6',\n",
              " 'Компьютерная академия ТOP',\n",
              " 'Дополнительное детское образование,\\nДПО',\n",
              " 'Павел Специан',\n",
              " '6.530 млрд *\\n+48.95 %',\n",
              " '7',\n",
              " 'Фоксфорд',\n",
              " 'Дополнительное детское образование',\n",
              " 'Андрей Сизов',\n",
              " '5.209 млрд\\n+19.61 %',\n",
              " '8',\n",
              " 'Учи.ру',\n",
              " 'Дополнительное детское образование',\n",
              " 'Илья Паршин',\n",
              " '5.200 млрд *\\n+10.64 %',\n",
              " '9',\n",
              " 'Умскул',\n",
              " 'Дополнительное детское образование',\n",
              " 'Дмитрий Данилов',\n",
              " '4.775 млрд *\\n+36.04 %',\n",
              " 'Партнер рейтинга\\n10',\n",
              " 'Актион Университет',\n",
              " 'ДПО',\n",
              " 'Алексей Стариков',\n",
              " '4.528 млрд\\n+35.94 %',\n",
              " '',\n",
              " '',\n",
              " '',\n",
              " '',\n",
              " '',\n",
              " '',\n",
              " '',\n",
              " '',\n",
              " '',\n",
              " '',\n",
              " '',\n",
              " '',\n",
              " '',\n",
              " '',\n",
              " '',\n",
              " '',\n",
              " '',\n",
              " '',\n",
              " '',\n",
              " '',\n",
              " '',\n",
              " '',\n",
              " '',\n",
              " '',\n",
              " '',\n",
              " '',\n",
              " '',\n",
              " '',\n",
              " '',\n",
              " '',\n",
              " '',\n",
              " '',\n",
              " '',\n",
              " '',\n",
              " '',\n",
              " '',\n",
              " '',\n",
              " '',\n",
              " '',\n",
              " '',\n",
              " '',\n",
              " '',\n",
              " '',\n",
              " '',\n",
              " '',\n",
              " '',\n",
              " '',\n",
              " '',\n",
              " '',\n",
              " '']"
            ]
          },
          "execution_count": 31,
          "metadata": {},
          "output_type": "execute_result"
        }
      ],
      "source": [
        "data_list = []\n",
        "for elem in td:\n",
        "    data_list.append(elem.text)\n",
        "data_list"
      ]
    },
    {
      "cell_type": "code",
      "execution_count": null,
      "metadata": {},
      "outputs": [
        {
          "data": {
            "text/html": [
              "<div>\n",
              "<style scoped>\n",
              "    .dataframe tbody tr th:only-of-type {\n",
              "        vertical-align: middle;\n",
              "    }\n",
              "\n",
              "    .dataframe tbody tr th {\n",
              "        vertical-align: top;\n",
              "    }\n",
              "\n",
              "    .dataframe thead th {\n",
              "        text-align: right;\n",
              "    }\n",
              "</style>\n",
              "<table border=\"1\" class=\"dataframe\">\n",
              "  <thead>\n",
              "    <tr style=\"text-align: right;\">\n",
              "      <th></th>\n",
              "      <th>Компания</th>\n",
              "      <th>Направление</th>\n",
              "      <th>Глава компании</th>\n",
              "      <th>Выручка (руб) 2023/2024</th>\n",
              "    </tr>\n",
              "  </thead>\n",
              "  <tbody>\n",
              "    <tr>\n",
              "      <th>1</th>\n",
              "      <td>Корпорация «Синергия»</td>\n",
              "      <td>Дополнительное детское образование,, Высшее об...</td>\n",
              "      <td>Вадим Лобов</td>\n",
              "      <td>12727.0</td>\n",
              "    </tr>\n",
              "    <tr>\n",
              "      <th>2</th>\n",
              "      <td>Skillbox Holding Limited (Skillbox, Geekbrains...</td>\n",
              "      <td>ДПО</td>\n",
              "      <td>Дмитрий Крутов</td>\n",
              "      <td>12200.0</td>\n",
              "    </tr>\n",
              "    <tr>\n",
              "      <th>3</th>\n",
              "      <td>Группа компаний Skyeng (Skyeng, Skysmart, Skypro)</td>\n",
              "      <td>Дополнительное детское образование,, ДПО,, Ино...</td>\n",
              "      <td>Рустам Айнетдинов</td>\n",
              "      <td>12100.0</td>\n",
              "    </tr>\n",
              "    <tr>\n",
              "      <th>4</th>\n",
              "      <td>Яндекс.Практикум</td>\n",
              "      <td>ДПО</td>\n",
              "      <td>Илья Курмышев</td>\n",
              "      <td>8250.0</td>\n",
              "    </tr>\n",
              "    <tr>\n",
              "      <th>5</th>\n",
              "      <td>GetCourse</td>\n",
              "      <td>Разработка образовательных курсов,, вебинаров ...</td>\n",
              "      <td>Сергей Михайлов</td>\n",
              "      <td>6690.0</td>\n",
              "    </tr>\n",
              "    <tr>\n",
              "      <th>6</th>\n",
              "      <td>Компьютерная академия ТOP</td>\n",
              "      <td>Дополнительное детское образование,, ДПО</td>\n",
              "      <td>Павел Специан</td>\n",
              "      <td>6530.0</td>\n",
              "    </tr>\n",
              "    <tr>\n",
              "      <th>7</th>\n",
              "      <td>Фоксфорд</td>\n",
              "      <td>Дополнительное детское образование</td>\n",
              "      <td>Андрей Сизов</td>\n",
              "      <td>5209.0</td>\n",
              "    </tr>\n",
              "    <tr>\n",
              "      <th>8</th>\n",
              "      <td>Учи.ру</td>\n",
              "      <td>Дополнительное детское образование</td>\n",
              "      <td>Илья Паршин</td>\n",
              "      <td>5200.0</td>\n",
              "    </tr>\n",
              "    <tr>\n",
              "      <th>9</th>\n",
              "      <td>Умскул</td>\n",
              "      <td>Дополнительное детское образование</td>\n",
              "      <td>Дмитрий Данилов</td>\n",
              "      <td>4775.0</td>\n",
              "    </tr>\n",
              "    <tr>\n",
              "      <th>10</th>\n",
              "      <td>Актион Университет</td>\n",
              "      <td>ДПО</td>\n",
              "      <td>Алексей Стариков</td>\n",
              "      <td>4528.0</td>\n",
              "    </tr>\n",
              "  </tbody>\n",
              "</table>\n",
              "</div>"
            ],
            "text/plain": [
              "                                             Компания  \\\n",
              "1                               Корпорация «Синергия»   \n",
              "2   Skillbox Holding Limited (Skillbox, Geekbrains...   \n",
              "3   Группа компаний Skyeng (Skyeng, Skysmart, Skypro)   \n",
              "4                                    Яндекс.Практикум   \n",
              "5                                           GetCourse   \n",
              "6                           Компьютерная академия ТOP   \n",
              "7                                            Фоксфорд   \n",
              "8                                              Учи.ру   \n",
              "9                                              Умскул   \n",
              "10                                 Актион Университет   \n",
              "\n",
              "                                          Направление     Глава компании  \\\n",
              "1   Дополнительное детское образование,, Высшее об...        Вадим Лобов   \n",
              "2                                                 ДПО     Дмитрий Крутов   \n",
              "3   Дополнительное детское образование,, ДПО,, Ино...  Рустам Айнетдинов   \n",
              "4                                                 ДПО      Илья Курмышев   \n",
              "5   Разработка образовательных курсов,, вебинаров ...    Сергей Михайлов   \n",
              "6            Дополнительное детское образование,, ДПО      Павел Специан   \n",
              "7                  Дополнительное детское образование       Андрей Сизов   \n",
              "8                  Дополнительное детское образование        Илья Паршин   \n",
              "9                  Дополнительное детское образование    Дмитрий Данилов   \n",
              "10                                                ДПО   Алексей Стариков   \n",
              "\n",
              "    Выручка (руб) 2023/2024  \n",
              "1                   12727.0  \n",
              "2                   12200.0  \n",
              "3                   12100.0  \n",
              "4                    8250.0  \n",
              "5                    6690.0  \n",
              "6                    6530.0  \n",
              "7                    5209.0  \n",
              "8                    5200.0  \n",
              "9                    4775.0  \n",
              "10                   4528.0  "
            ]
          },
          "execution_count": 32,
          "metadata": {},
          "output_type": "execute_result"
        }
      ],
      "source": [
        "companies = []\n",
        "directions = []\n",
        "leaders = []\n",
        "revenues = []\n",
        "\n",
        "\n",
        "for i in range(0, len(data_list), 5):  # Шаг 5, так как каждая запись состоит из 5 элементов\n",
        "    if i+4 < len(data_list):\n",
        "        company = data_list[i+1]\n",
        "        direction = data_list[i+2].replace('\\n', ', ')\n",
        "        leader = data_list[i+3]\n",
        "        revenue = data_list[i+4].split('\\n')[0]  # Берем только первую строку с выручкой\n",
        "        \n",
        "        # Извлекаем только числовое значение выручки\n",
        "        revenue_value = ''.join(filter(str.isdigit, revenue))\n",
        "        \n",
        "        # Если строка с выручкой пустая или не содержит цифры, пропускаем эту строку\n",
        "        if revenue_value:\n",
        "            revenue_value = float(revenue_value) \n",
        "        else:\n",
        "            continue\n",
        "\n",
        "        # Если хотя бы один из элементов пустой, пропускаем строку\n",
        "        if all([company, direction, leader, revenue_value]):\n",
        "            companies.append(company)\n",
        "            directions.append(direction)\n",
        "            leaders.append(leader)\n",
        "            revenues.append(revenue_value)\n",
        "\n",
        "df = pd.DataFrame({\n",
        "    'Компания': companies,\n",
        "    'Направление': directions,\n",
        "    'Глава компании': leaders,\n",
        "    'Выручка (руб) 2023/2024': revenues\n",
        "})\n",
        "\n",
        "df.index += 1  # Начинаем нумерацию с 1\n",
        "df"
      ]
    },
    {
      "cell_type": "code",
      "execution_count": null,
      "metadata": {},
      "outputs": [
        {
          "data": {
            "application/vnd.plotly.v1+json": {
              "config": {
                "plotlyServerURL": "https://plot.ly"
              },
              "data": [
                {
                  "domain": {
                    "x": [
                      0,
                      1
                    ],
                    "y": [
                      0,
                      1
                    ]
                  },
                  "hole": 0.3,
                  "hovertemplate": "Компания=%{label}<br>Выручка (руб)=%{value}<extra></extra>",
                  "insidetextorientation": "radial",
                  "labels": [
                    "Корпорация «Синергия»",
                    "Skillbox Holding Limited",
                    "Группа компаний Skyeng",
                    "Яндекс.Практикум",
                    "GetCourse",
                    "Компьютерная академия ТOP",
                    "Фоксфорд",
                    "Учи.ру",
                    "Умскул",
                    "Актион Университет"
                  ],
                  "legendgroup": "",
                  "name": "",
                  "pull": [
                    0.1,
                    0,
                    0,
                    0,
                    0
                  ],
                  "showlegend": true,
                  "textfont": {
                    "size": 12
                  },
                  "textinfo": "percent+label",
                  "textposition": "inside",
                  "type": "pie",
                  "values": {
                    "bdata": "AAAAAIDbyEAAAAAAANTHQAAAAAAAosdAAAAAAAAdwEAAAAAAACK6QAAAAAAAgrlAAAAAAABZtEAAAAAAAFC0QAAAAAAAp7JAAAAAAACwsUA=",
                    "dtype": "f8"
                  }
                }
              ],
              "layout": {
                "legend": {
                  "tracegroupgap": 0
                },
                "margin": {
                  "b": 0,
                  "l": 0,
                  "r": 0,
                  "t": 0
                },
                "showlegend": true,
                "template": {
                  "data": {
                    "bar": [
                      {
                        "error_x": {
                          "color": "#2a3f5f"
                        },
                        "error_y": {
                          "color": "#2a3f5f"
                        },
                        "marker": {
                          "line": {
                            "color": "#E5ECF6",
                            "width": 0.5
                          },
                          "pattern": {
                            "fillmode": "overlay",
                            "size": 10,
                            "solidity": 0.2
                          }
                        },
                        "type": "bar"
                      }
                    ],
                    "barpolar": [
                      {
                        "marker": {
                          "line": {
                            "color": "#E5ECF6",
                            "width": 0.5
                          },
                          "pattern": {
                            "fillmode": "overlay",
                            "size": 10,
                            "solidity": 0.2
                          }
                        },
                        "type": "barpolar"
                      }
                    ],
                    "carpet": [
                      {
                        "aaxis": {
                          "endlinecolor": "#2a3f5f",
                          "gridcolor": "white",
                          "linecolor": "white",
                          "minorgridcolor": "white",
                          "startlinecolor": "#2a3f5f"
                        },
                        "baxis": {
                          "endlinecolor": "#2a3f5f",
                          "gridcolor": "white",
                          "linecolor": "white",
                          "minorgridcolor": "white",
                          "startlinecolor": "#2a3f5f"
                        },
                        "type": "carpet"
                      }
                    ],
                    "choropleth": [
                      {
                        "colorbar": {
                          "outlinewidth": 0,
                          "ticks": ""
                        },
                        "type": "choropleth"
                      }
                    ],
                    "contour": [
                      {
                        "colorbar": {
                          "outlinewidth": 0,
                          "ticks": ""
                        },
                        "colorscale": [
                          [
                            0,
                            "#0d0887"
                          ],
                          [
                            0.1111111111111111,
                            "#46039f"
                          ],
                          [
                            0.2222222222222222,
                            "#7201a8"
                          ],
                          [
                            0.3333333333333333,
                            "#9c179e"
                          ],
                          [
                            0.4444444444444444,
                            "#bd3786"
                          ],
                          [
                            0.5555555555555556,
                            "#d8576b"
                          ],
                          [
                            0.6666666666666666,
                            "#ed7953"
                          ],
                          [
                            0.7777777777777778,
                            "#fb9f3a"
                          ],
                          [
                            0.8888888888888888,
                            "#fdca26"
                          ],
                          [
                            1,
                            "#f0f921"
                          ]
                        ],
                        "type": "contour"
                      }
                    ],
                    "contourcarpet": [
                      {
                        "colorbar": {
                          "outlinewidth": 0,
                          "ticks": ""
                        },
                        "type": "contourcarpet"
                      }
                    ],
                    "heatmap": [
                      {
                        "colorbar": {
                          "outlinewidth": 0,
                          "ticks": ""
                        },
                        "colorscale": [
                          [
                            0,
                            "#0d0887"
                          ],
                          [
                            0.1111111111111111,
                            "#46039f"
                          ],
                          [
                            0.2222222222222222,
                            "#7201a8"
                          ],
                          [
                            0.3333333333333333,
                            "#9c179e"
                          ],
                          [
                            0.4444444444444444,
                            "#bd3786"
                          ],
                          [
                            0.5555555555555556,
                            "#d8576b"
                          ],
                          [
                            0.6666666666666666,
                            "#ed7953"
                          ],
                          [
                            0.7777777777777778,
                            "#fb9f3a"
                          ],
                          [
                            0.8888888888888888,
                            "#fdca26"
                          ],
                          [
                            1,
                            "#f0f921"
                          ]
                        ],
                        "type": "heatmap"
                      }
                    ],
                    "histogram": [
                      {
                        "marker": {
                          "pattern": {
                            "fillmode": "overlay",
                            "size": 10,
                            "solidity": 0.2
                          }
                        },
                        "type": "histogram"
                      }
                    ],
                    "histogram2d": [
                      {
                        "colorbar": {
                          "outlinewidth": 0,
                          "ticks": ""
                        },
                        "colorscale": [
                          [
                            0,
                            "#0d0887"
                          ],
                          [
                            0.1111111111111111,
                            "#46039f"
                          ],
                          [
                            0.2222222222222222,
                            "#7201a8"
                          ],
                          [
                            0.3333333333333333,
                            "#9c179e"
                          ],
                          [
                            0.4444444444444444,
                            "#bd3786"
                          ],
                          [
                            0.5555555555555556,
                            "#d8576b"
                          ],
                          [
                            0.6666666666666666,
                            "#ed7953"
                          ],
                          [
                            0.7777777777777778,
                            "#fb9f3a"
                          ],
                          [
                            0.8888888888888888,
                            "#fdca26"
                          ],
                          [
                            1,
                            "#f0f921"
                          ]
                        ],
                        "type": "histogram2d"
                      }
                    ],
                    "histogram2dcontour": [
                      {
                        "colorbar": {
                          "outlinewidth": 0,
                          "ticks": ""
                        },
                        "colorscale": [
                          [
                            0,
                            "#0d0887"
                          ],
                          [
                            0.1111111111111111,
                            "#46039f"
                          ],
                          [
                            0.2222222222222222,
                            "#7201a8"
                          ],
                          [
                            0.3333333333333333,
                            "#9c179e"
                          ],
                          [
                            0.4444444444444444,
                            "#bd3786"
                          ],
                          [
                            0.5555555555555556,
                            "#d8576b"
                          ],
                          [
                            0.6666666666666666,
                            "#ed7953"
                          ],
                          [
                            0.7777777777777778,
                            "#fb9f3a"
                          ],
                          [
                            0.8888888888888888,
                            "#fdca26"
                          ],
                          [
                            1,
                            "#f0f921"
                          ]
                        ],
                        "type": "histogram2dcontour"
                      }
                    ],
                    "mesh3d": [
                      {
                        "colorbar": {
                          "outlinewidth": 0,
                          "ticks": ""
                        },
                        "type": "mesh3d"
                      }
                    ],
                    "parcoords": [
                      {
                        "line": {
                          "colorbar": {
                            "outlinewidth": 0,
                            "ticks": ""
                          }
                        },
                        "type": "parcoords"
                      }
                    ],
                    "pie": [
                      {
                        "automargin": true,
                        "type": "pie"
                      }
                    ],
                    "scatter": [
                      {
                        "fillpattern": {
                          "fillmode": "overlay",
                          "size": 10,
                          "solidity": 0.2
                        },
                        "type": "scatter"
                      }
                    ],
                    "scatter3d": [
                      {
                        "line": {
                          "colorbar": {
                            "outlinewidth": 0,
                            "ticks": ""
                          }
                        },
                        "marker": {
                          "colorbar": {
                            "outlinewidth": 0,
                            "ticks": ""
                          }
                        },
                        "type": "scatter3d"
                      }
                    ],
                    "scattercarpet": [
                      {
                        "marker": {
                          "colorbar": {
                            "outlinewidth": 0,
                            "ticks": ""
                          }
                        },
                        "type": "scattercarpet"
                      }
                    ],
                    "scattergeo": [
                      {
                        "marker": {
                          "colorbar": {
                            "outlinewidth": 0,
                            "ticks": ""
                          }
                        },
                        "type": "scattergeo"
                      }
                    ],
                    "scattergl": [
                      {
                        "marker": {
                          "colorbar": {
                            "outlinewidth": 0,
                            "ticks": ""
                          }
                        },
                        "type": "scattergl"
                      }
                    ],
                    "scattermap": [
                      {
                        "marker": {
                          "colorbar": {
                            "outlinewidth": 0,
                            "ticks": ""
                          }
                        },
                        "type": "scattermap"
                      }
                    ],
                    "scattermapbox": [
                      {
                        "marker": {
                          "colorbar": {
                            "outlinewidth": 0,
                            "ticks": ""
                          }
                        },
                        "type": "scattermapbox"
                      }
                    ],
                    "scatterpolar": [
                      {
                        "marker": {
                          "colorbar": {
                            "outlinewidth": 0,
                            "ticks": ""
                          }
                        },
                        "type": "scatterpolar"
                      }
                    ],
                    "scatterpolargl": [
                      {
                        "marker": {
                          "colorbar": {
                            "outlinewidth": 0,
                            "ticks": ""
                          }
                        },
                        "type": "scatterpolargl"
                      }
                    ],
                    "scatterternary": [
                      {
                        "marker": {
                          "colorbar": {
                            "outlinewidth": 0,
                            "ticks": ""
                          }
                        },
                        "type": "scatterternary"
                      }
                    ],
                    "surface": [
                      {
                        "colorbar": {
                          "outlinewidth": 0,
                          "ticks": ""
                        },
                        "colorscale": [
                          [
                            0,
                            "#0d0887"
                          ],
                          [
                            0.1111111111111111,
                            "#46039f"
                          ],
                          [
                            0.2222222222222222,
                            "#7201a8"
                          ],
                          [
                            0.3333333333333333,
                            "#9c179e"
                          ],
                          [
                            0.4444444444444444,
                            "#bd3786"
                          ],
                          [
                            0.5555555555555556,
                            "#d8576b"
                          ],
                          [
                            0.6666666666666666,
                            "#ed7953"
                          ],
                          [
                            0.7777777777777778,
                            "#fb9f3a"
                          ],
                          [
                            0.8888888888888888,
                            "#fdca26"
                          ],
                          [
                            1,
                            "#f0f921"
                          ]
                        ],
                        "type": "surface"
                      }
                    ],
                    "table": [
                      {
                        "cells": {
                          "fill": {
                            "color": "#EBF0F8"
                          },
                          "line": {
                            "color": "white"
                          }
                        },
                        "header": {
                          "fill": {
                            "color": "#C8D4E3"
                          },
                          "line": {
                            "color": "white"
                          }
                        },
                        "type": "table"
                      }
                    ]
                  },
                  "layout": {
                    "annotationdefaults": {
                      "arrowcolor": "#2a3f5f",
                      "arrowhead": 0,
                      "arrowwidth": 1
                    },
                    "autotypenumbers": "strict",
                    "coloraxis": {
                      "colorbar": {
                        "outlinewidth": 0,
                        "ticks": ""
                      }
                    },
                    "colorscale": {
                      "diverging": [
                        [
                          0,
                          "#8e0152"
                        ],
                        [
                          0.1,
                          "#c51b7d"
                        ],
                        [
                          0.2,
                          "#de77ae"
                        ],
                        [
                          0.3,
                          "#f1b6da"
                        ],
                        [
                          0.4,
                          "#fde0ef"
                        ],
                        [
                          0.5,
                          "#f7f7f7"
                        ],
                        [
                          0.6,
                          "#e6f5d0"
                        ],
                        [
                          0.7,
                          "#b8e186"
                        ],
                        [
                          0.8,
                          "#7fbc41"
                        ],
                        [
                          0.9,
                          "#4d9221"
                        ],
                        [
                          1,
                          "#276419"
                        ]
                      ],
                      "sequential": [
                        [
                          0,
                          "#0d0887"
                        ],
                        [
                          0.1111111111111111,
                          "#46039f"
                        ],
                        [
                          0.2222222222222222,
                          "#7201a8"
                        ],
                        [
                          0.3333333333333333,
                          "#9c179e"
                        ],
                        [
                          0.4444444444444444,
                          "#bd3786"
                        ],
                        [
                          0.5555555555555556,
                          "#d8576b"
                        ],
                        [
                          0.6666666666666666,
                          "#ed7953"
                        ],
                        [
                          0.7777777777777778,
                          "#fb9f3a"
                        ],
                        [
                          0.8888888888888888,
                          "#fdca26"
                        ],
                        [
                          1,
                          "#f0f921"
                        ]
                      ],
                      "sequentialminus": [
                        [
                          0,
                          "#0d0887"
                        ],
                        [
                          0.1111111111111111,
                          "#46039f"
                        ],
                        [
                          0.2222222222222222,
                          "#7201a8"
                        ],
                        [
                          0.3333333333333333,
                          "#9c179e"
                        ],
                        [
                          0.4444444444444444,
                          "#bd3786"
                        ],
                        [
                          0.5555555555555556,
                          "#d8576b"
                        ],
                        [
                          0.6666666666666666,
                          "#ed7953"
                        ],
                        [
                          0.7777777777777778,
                          "#fb9f3a"
                        ],
                        [
                          0.8888888888888888,
                          "#fdca26"
                        ],
                        [
                          1,
                          "#f0f921"
                        ]
                      ]
                    },
                    "colorway": [
                      "#636efa",
                      "#EF553B",
                      "#00cc96",
                      "#ab63fa",
                      "#FFA15A",
                      "#19d3f3",
                      "#FF6692",
                      "#B6E880",
                      "#FF97FF",
                      "#FECB52"
                    ],
                    "font": {
                      "color": "#2a3f5f"
                    },
                    "geo": {
                      "bgcolor": "white",
                      "lakecolor": "white",
                      "landcolor": "#E5ECF6",
                      "showlakes": true,
                      "showland": true,
                      "subunitcolor": "white"
                    },
                    "hoverlabel": {
                      "align": "left"
                    },
                    "hovermode": "closest",
                    "mapbox": {
                      "style": "light"
                    },
                    "paper_bgcolor": "white",
                    "plot_bgcolor": "#E5ECF6",
                    "polar": {
                      "angularaxis": {
                        "gridcolor": "white",
                        "linecolor": "white",
                        "ticks": ""
                      },
                      "bgcolor": "#E5ECF6",
                      "radialaxis": {
                        "gridcolor": "white",
                        "linecolor": "white",
                        "ticks": ""
                      }
                    },
                    "scene": {
                      "xaxis": {
                        "backgroundcolor": "#E5ECF6",
                        "gridcolor": "white",
                        "gridwidth": 2,
                        "linecolor": "white",
                        "showbackground": true,
                        "ticks": "",
                        "zerolinecolor": "white"
                      },
                      "yaxis": {
                        "backgroundcolor": "#E5ECF6",
                        "gridcolor": "white",
                        "gridwidth": 2,
                        "linecolor": "white",
                        "showbackground": true,
                        "ticks": "",
                        "zerolinecolor": "white"
                      },
                      "zaxis": {
                        "backgroundcolor": "#E5ECF6",
                        "gridcolor": "white",
                        "gridwidth": 2,
                        "linecolor": "white",
                        "showbackground": true,
                        "ticks": "",
                        "zerolinecolor": "white"
                      }
                    },
                    "shapedefaults": {
                      "line": {
                        "color": "#2a3f5f"
                      }
                    },
                    "ternary": {
                      "aaxis": {
                        "gridcolor": "white",
                        "linecolor": "white",
                        "ticks": ""
                      },
                      "baxis": {
                        "gridcolor": "white",
                        "linecolor": "white",
                        "ticks": ""
                      },
                      "bgcolor": "#E5ECF6",
                      "caxis": {
                        "gridcolor": "white",
                        "linecolor": "white",
                        "ticks": ""
                      }
                    },
                    "title": {
                      "x": 0.05
                    },
                    "xaxis": {
                      "automargin": true,
                      "gridcolor": "white",
                      "linecolor": "white",
                      "ticks": "",
                      "title": {
                        "standoff": 15
                      },
                      "zerolinecolor": "white",
                      "zerolinewidth": 2
                    },
                    "yaxis": {
                      "automargin": true,
                      "gridcolor": "white",
                      "linecolor": "white",
                      "ticks": "",
                      "title": {
                        "standoff": 15
                      },
                      "zerolinecolor": "white",
                      "zerolinewidth": 2
                    }
                  }
                },
                "title": {
                  "text": "Распределение выручки по компаниям"
                }
              }
            }
          },
          "metadata": {},
          "output_type": "display_data"
        }
      ],
      "source": [
        "# Краткие названия компаний для отображения\n",
        "df['Краткое название'] = df['Компания'].apply(lambda x: ' '.join(x.split()[:3]))\n",
        "\n",
        "# Строим круговую диаграмму\n",
        "fig = px.pie(df, \n",
        "             names='Краткое название',  \n",
        "             values='Выручка (руб) 2023/2024', \n",
        "             title='Распределение выручки по компаниям',\n",
        "             labels={'Краткое название': 'Компания', 'Выручка (руб) 2023/2024': 'Выручка (руб)'},\n",
        "             hole=0.3) \n",
        "\n",
        "fig.update_traces(\n",
        "    textinfo='percent+label',   # Показываем только проценты и краткие названия\n",
        "    textposition='inside',      \n",
        "    insidetextorientation='radial',  # Ориентируем текст по радиусу\n",
        "    textfont_size=12,           \n",
        "    pull=[0.1, 0, 0, 0, 0]      # Можно выделить определенную часть\n",
        ")\n",
        "\n",
        "fig.update_layout(\n",
        "    margin=dict(t=0, b=0, l=0, r=0),  # Убираем отступы\n",
        "    showlegend=True                 \n",
        ")\n",
        "\n",
        "fig.show()"
      ]
    },
    {
      "cell_type": "code",
      "execution_count": 43,
      "metadata": {},
      "outputs": [
        {
          "data": {
            "text/html": [
              "<div>\n",
              "<style scoped>\n",
              "    .dataframe tbody tr th:only-of-type {\n",
              "        vertical-align: middle;\n",
              "    }\n",
              "\n",
              "    .dataframe tbody tr th {\n",
              "        vertical-align: top;\n",
              "    }\n",
              "\n",
              "    .dataframe thead th {\n",
              "        text-align: right;\n",
              "    }\n",
              "</style>\n",
              "<table border=\"1\" class=\"dataframe\">\n",
              "  <thead>\n",
              "    <tr style=\"text-align: right;\">\n",
              "      <th></th>\n",
              "      <th>Компания</th>\n",
              "      <th>Направление</th>\n",
              "      <th>Глава компании</th>\n",
              "      <th>Выручка (руб) 2023/2024</th>\n",
              "      <th>Краткое название</th>\n",
              "    </tr>\n",
              "  </thead>\n",
              "  <tbody>\n",
              "    <tr>\n",
              "      <th>1</th>\n",
              "      <td>Корпорация «Синергия»</td>\n",
              "      <td>Дополнительное детское образование,, Высшее об...</td>\n",
              "      <td>Вадим Лобов</td>\n",
              "      <td>12727.0</td>\n",
              "      <td>Корпорация «Синергия»</td>\n",
              "    </tr>\n",
              "    <tr>\n",
              "      <th>2</th>\n",
              "      <td>Skillbox Holding Limited (Skillbox, Geekbrains...</td>\n",
              "      <td>ДПО</td>\n",
              "      <td>Дмитрий Крутов</td>\n",
              "      <td>12200.0</td>\n",
              "      <td>Skillbox Holding Limited</td>\n",
              "    </tr>\n",
              "    <tr>\n",
              "      <th>3</th>\n",
              "      <td>Группа компаний Skyeng (Skyeng, Skysmart, Skypro)</td>\n",
              "      <td>Дополнительное детское образование,, ДПО,, Ино...</td>\n",
              "      <td>Рустам Айнетдинов</td>\n",
              "      <td>12100.0</td>\n",
              "      <td>Группа компаний Skyeng</td>\n",
              "    </tr>\n",
              "    <tr>\n",
              "      <th>4</th>\n",
              "      <td>Яндекс.Практикум</td>\n",
              "      <td>ДПО</td>\n",
              "      <td>Илья Курмышев</td>\n",
              "      <td>8250.0</td>\n",
              "      <td>Яндекс.Практикум</td>\n",
              "    </tr>\n",
              "    <tr>\n",
              "      <th>5</th>\n",
              "      <td>GetCourse</td>\n",
              "      <td>Разработка образовательных курсов,, вебинаров ...</td>\n",
              "      <td>Сергей Михайлов</td>\n",
              "      <td>6690.0</td>\n",
              "      <td>GetCourse</td>\n",
              "    </tr>\n",
              "    <tr>\n",
              "      <th>6</th>\n",
              "      <td>Компьютерная академия ТOP</td>\n",
              "      <td>Дополнительное детское образование,, ДПО</td>\n",
              "      <td>Павел Специан</td>\n",
              "      <td>6530.0</td>\n",
              "      <td>Компьютерная академия ТOP</td>\n",
              "    </tr>\n",
              "    <tr>\n",
              "      <th>7</th>\n",
              "      <td>Фоксфорд</td>\n",
              "      <td>Дополнительное детское образование</td>\n",
              "      <td>Андрей Сизов</td>\n",
              "      <td>5209.0</td>\n",
              "      <td>Фоксфорд</td>\n",
              "    </tr>\n",
              "    <tr>\n",
              "      <th>8</th>\n",
              "      <td>Учи.ру</td>\n",
              "      <td>Дополнительное детское образование</td>\n",
              "      <td>Илья Паршин</td>\n",
              "      <td>5200.0</td>\n",
              "      <td>Учи.ру</td>\n",
              "    </tr>\n",
              "    <tr>\n",
              "      <th>9</th>\n",
              "      <td>Умскул</td>\n",
              "      <td>Дополнительное детское образование</td>\n",
              "      <td>Дмитрий Данилов</td>\n",
              "      <td>4775.0</td>\n",
              "      <td>Умскул</td>\n",
              "    </tr>\n",
              "    <tr>\n",
              "      <th>10</th>\n",
              "      <td>Актион Университет</td>\n",
              "      <td>ДПО</td>\n",
              "      <td>Алексей Стариков</td>\n",
              "      <td>4528.0</td>\n",
              "      <td>Актион Университет</td>\n",
              "    </tr>\n",
              "  </tbody>\n",
              "</table>\n",
              "</div>"
            ],
            "text/plain": [
              "                                             Компания  \\\n",
              "1                               Корпорация «Синергия»   \n",
              "2   Skillbox Holding Limited (Skillbox, Geekbrains...   \n",
              "3   Группа компаний Skyeng (Skyeng, Skysmart, Skypro)   \n",
              "4                                    Яндекс.Практикум   \n",
              "5                                           GetCourse   \n",
              "6                           Компьютерная академия ТOP   \n",
              "7                                            Фоксфорд   \n",
              "8                                              Учи.ру   \n",
              "9                                              Умскул   \n",
              "10                                 Актион Университет   \n",
              "\n",
              "                                          Направление     Глава компании  \\\n",
              "1   Дополнительное детское образование,, Высшее об...        Вадим Лобов   \n",
              "2                                                 ДПО     Дмитрий Крутов   \n",
              "3   Дополнительное детское образование,, ДПО,, Ино...  Рустам Айнетдинов   \n",
              "4                                                 ДПО      Илья Курмышев   \n",
              "5   Разработка образовательных курсов,, вебинаров ...    Сергей Михайлов   \n",
              "6            Дополнительное детское образование,, ДПО      Павел Специан   \n",
              "7                  Дополнительное детское образование       Андрей Сизов   \n",
              "8                  Дополнительное детское образование        Илья Паршин   \n",
              "9                  Дополнительное детское образование    Дмитрий Данилов   \n",
              "10                                                ДПО   Алексей Стариков   \n",
              "\n",
              "    Выручка (руб) 2023/2024           Краткое название  \n",
              "1                   12727.0      Корпорация «Синергия»  \n",
              "2                   12200.0   Skillbox Holding Limited  \n",
              "3                   12100.0     Группа компаний Skyeng  \n",
              "4                    8250.0           Яндекс.Практикум  \n",
              "5                    6690.0                  GetCourse  \n",
              "6                    6530.0  Компьютерная академия ТOP  \n",
              "7                    5209.0                   Фоксфорд  \n",
              "8                    5200.0                     Учи.ру  \n",
              "9                    4775.0                     Умскул  \n",
              "10                   4528.0         Актион Университет  "
            ]
          },
          "execution_count": 43,
          "metadata": {},
          "output_type": "execute_result"
        }
      ],
      "source": [
        "df"
      ]
    },
    {
      "cell_type": "code",
      "execution_count": null,
      "metadata": {},
      "outputs": [
        {
          "data": {
            "application/vnd.plotly.v1+json": {
              "config": {
                "plotlyServerURL": "https://plot.ly"
              },
              "data": [
                {
                  "bingroup": "x",
                  "hovertemplate": "Выручка (руб) 2023/2024=%{x}<br>count=%{y}<extra></extra>",
                  "legendgroup": "",
                  "marker": {
                    "color": "#636efa",
                    "pattern": {
                      "shape": ""
                    }
                  },
                  "name": "",
                  "nbinsx": 10,
                  "orientation": "v",
                  "showlegend": false,
                  "type": "histogram",
                  "x": {
                    "bdata": "AAAAAIDbyEAAAAAAANTHQAAAAAAAosdAAAAAAAAdwEAAAAAAACK6QAAAAAAAgrlAAAAAAABZtEAAAAAAAFC0QAAAAAAAp7JAAAAAAACwsUA=",
                    "dtype": "f8"
                  },
                  "xaxis": "x",
                  "yaxis": "y"
                }
              ],
              "layout": {
                "barmode": "relative",
                "legend": {
                  "tracegroupgap": 0
                },
                "template": {
                  "data": {
                    "bar": [
                      {
                        "error_x": {
                          "color": "#2a3f5f"
                        },
                        "error_y": {
                          "color": "#2a3f5f"
                        },
                        "marker": {
                          "line": {
                            "color": "#E5ECF6",
                            "width": 0.5
                          },
                          "pattern": {
                            "fillmode": "overlay",
                            "size": 10,
                            "solidity": 0.2
                          }
                        },
                        "type": "bar"
                      }
                    ],
                    "barpolar": [
                      {
                        "marker": {
                          "line": {
                            "color": "#E5ECF6",
                            "width": 0.5
                          },
                          "pattern": {
                            "fillmode": "overlay",
                            "size": 10,
                            "solidity": 0.2
                          }
                        },
                        "type": "barpolar"
                      }
                    ],
                    "carpet": [
                      {
                        "aaxis": {
                          "endlinecolor": "#2a3f5f",
                          "gridcolor": "white",
                          "linecolor": "white",
                          "minorgridcolor": "white",
                          "startlinecolor": "#2a3f5f"
                        },
                        "baxis": {
                          "endlinecolor": "#2a3f5f",
                          "gridcolor": "white",
                          "linecolor": "white",
                          "minorgridcolor": "white",
                          "startlinecolor": "#2a3f5f"
                        },
                        "type": "carpet"
                      }
                    ],
                    "choropleth": [
                      {
                        "colorbar": {
                          "outlinewidth": 0,
                          "ticks": ""
                        },
                        "type": "choropleth"
                      }
                    ],
                    "contour": [
                      {
                        "colorbar": {
                          "outlinewidth": 0,
                          "ticks": ""
                        },
                        "colorscale": [
                          [
                            0,
                            "#0d0887"
                          ],
                          [
                            0.1111111111111111,
                            "#46039f"
                          ],
                          [
                            0.2222222222222222,
                            "#7201a8"
                          ],
                          [
                            0.3333333333333333,
                            "#9c179e"
                          ],
                          [
                            0.4444444444444444,
                            "#bd3786"
                          ],
                          [
                            0.5555555555555556,
                            "#d8576b"
                          ],
                          [
                            0.6666666666666666,
                            "#ed7953"
                          ],
                          [
                            0.7777777777777778,
                            "#fb9f3a"
                          ],
                          [
                            0.8888888888888888,
                            "#fdca26"
                          ],
                          [
                            1,
                            "#f0f921"
                          ]
                        ],
                        "type": "contour"
                      }
                    ],
                    "contourcarpet": [
                      {
                        "colorbar": {
                          "outlinewidth": 0,
                          "ticks": ""
                        },
                        "type": "contourcarpet"
                      }
                    ],
                    "heatmap": [
                      {
                        "colorbar": {
                          "outlinewidth": 0,
                          "ticks": ""
                        },
                        "colorscale": [
                          [
                            0,
                            "#0d0887"
                          ],
                          [
                            0.1111111111111111,
                            "#46039f"
                          ],
                          [
                            0.2222222222222222,
                            "#7201a8"
                          ],
                          [
                            0.3333333333333333,
                            "#9c179e"
                          ],
                          [
                            0.4444444444444444,
                            "#bd3786"
                          ],
                          [
                            0.5555555555555556,
                            "#d8576b"
                          ],
                          [
                            0.6666666666666666,
                            "#ed7953"
                          ],
                          [
                            0.7777777777777778,
                            "#fb9f3a"
                          ],
                          [
                            0.8888888888888888,
                            "#fdca26"
                          ],
                          [
                            1,
                            "#f0f921"
                          ]
                        ],
                        "type": "heatmap"
                      }
                    ],
                    "histogram": [
                      {
                        "marker": {
                          "pattern": {
                            "fillmode": "overlay",
                            "size": 10,
                            "solidity": 0.2
                          }
                        },
                        "type": "histogram"
                      }
                    ],
                    "histogram2d": [
                      {
                        "colorbar": {
                          "outlinewidth": 0,
                          "ticks": ""
                        },
                        "colorscale": [
                          [
                            0,
                            "#0d0887"
                          ],
                          [
                            0.1111111111111111,
                            "#46039f"
                          ],
                          [
                            0.2222222222222222,
                            "#7201a8"
                          ],
                          [
                            0.3333333333333333,
                            "#9c179e"
                          ],
                          [
                            0.4444444444444444,
                            "#bd3786"
                          ],
                          [
                            0.5555555555555556,
                            "#d8576b"
                          ],
                          [
                            0.6666666666666666,
                            "#ed7953"
                          ],
                          [
                            0.7777777777777778,
                            "#fb9f3a"
                          ],
                          [
                            0.8888888888888888,
                            "#fdca26"
                          ],
                          [
                            1,
                            "#f0f921"
                          ]
                        ],
                        "type": "histogram2d"
                      }
                    ],
                    "histogram2dcontour": [
                      {
                        "colorbar": {
                          "outlinewidth": 0,
                          "ticks": ""
                        },
                        "colorscale": [
                          [
                            0,
                            "#0d0887"
                          ],
                          [
                            0.1111111111111111,
                            "#46039f"
                          ],
                          [
                            0.2222222222222222,
                            "#7201a8"
                          ],
                          [
                            0.3333333333333333,
                            "#9c179e"
                          ],
                          [
                            0.4444444444444444,
                            "#bd3786"
                          ],
                          [
                            0.5555555555555556,
                            "#d8576b"
                          ],
                          [
                            0.6666666666666666,
                            "#ed7953"
                          ],
                          [
                            0.7777777777777778,
                            "#fb9f3a"
                          ],
                          [
                            0.8888888888888888,
                            "#fdca26"
                          ],
                          [
                            1,
                            "#f0f921"
                          ]
                        ],
                        "type": "histogram2dcontour"
                      }
                    ],
                    "mesh3d": [
                      {
                        "colorbar": {
                          "outlinewidth": 0,
                          "ticks": ""
                        },
                        "type": "mesh3d"
                      }
                    ],
                    "parcoords": [
                      {
                        "line": {
                          "colorbar": {
                            "outlinewidth": 0,
                            "ticks": ""
                          }
                        },
                        "type": "parcoords"
                      }
                    ],
                    "pie": [
                      {
                        "automargin": true,
                        "type": "pie"
                      }
                    ],
                    "scatter": [
                      {
                        "fillpattern": {
                          "fillmode": "overlay",
                          "size": 10,
                          "solidity": 0.2
                        },
                        "type": "scatter"
                      }
                    ],
                    "scatter3d": [
                      {
                        "line": {
                          "colorbar": {
                            "outlinewidth": 0,
                            "ticks": ""
                          }
                        },
                        "marker": {
                          "colorbar": {
                            "outlinewidth": 0,
                            "ticks": ""
                          }
                        },
                        "type": "scatter3d"
                      }
                    ],
                    "scattercarpet": [
                      {
                        "marker": {
                          "colorbar": {
                            "outlinewidth": 0,
                            "ticks": ""
                          }
                        },
                        "type": "scattercarpet"
                      }
                    ],
                    "scattergeo": [
                      {
                        "marker": {
                          "colorbar": {
                            "outlinewidth": 0,
                            "ticks": ""
                          }
                        },
                        "type": "scattergeo"
                      }
                    ],
                    "scattergl": [
                      {
                        "marker": {
                          "colorbar": {
                            "outlinewidth": 0,
                            "ticks": ""
                          }
                        },
                        "type": "scattergl"
                      }
                    ],
                    "scattermap": [
                      {
                        "marker": {
                          "colorbar": {
                            "outlinewidth": 0,
                            "ticks": ""
                          }
                        },
                        "type": "scattermap"
                      }
                    ],
                    "scattermapbox": [
                      {
                        "marker": {
                          "colorbar": {
                            "outlinewidth": 0,
                            "ticks": ""
                          }
                        },
                        "type": "scattermapbox"
                      }
                    ],
                    "scatterpolar": [
                      {
                        "marker": {
                          "colorbar": {
                            "outlinewidth": 0,
                            "ticks": ""
                          }
                        },
                        "type": "scatterpolar"
                      }
                    ],
                    "scatterpolargl": [
                      {
                        "marker": {
                          "colorbar": {
                            "outlinewidth": 0,
                            "ticks": ""
                          }
                        },
                        "type": "scatterpolargl"
                      }
                    ],
                    "scatterternary": [
                      {
                        "marker": {
                          "colorbar": {
                            "outlinewidth": 0,
                            "ticks": ""
                          }
                        },
                        "type": "scatterternary"
                      }
                    ],
                    "surface": [
                      {
                        "colorbar": {
                          "outlinewidth": 0,
                          "ticks": ""
                        },
                        "colorscale": [
                          [
                            0,
                            "#0d0887"
                          ],
                          [
                            0.1111111111111111,
                            "#46039f"
                          ],
                          [
                            0.2222222222222222,
                            "#7201a8"
                          ],
                          [
                            0.3333333333333333,
                            "#9c179e"
                          ],
                          [
                            0.4444444444444444,
                            "#bd3786"
                          ],
                          [
                            0.5555555555555556,
                            "#d8576b"
                          ],
                          [
                            0.6666666666666666,
                            "#ed7953"
                          ],
                          [
                            0.7777777777777778,
                            "#fb9f3a"
                          ],
                          [
                            0.8888888888888888,
                            "#fdca26"
                          ],
                          [
                            1,
                            "#f0f921"
                          ]
                        ],
                        "type": "surface"
                      }
                    ],
                    "table": [
                      {
                        "cells": {
                          "fill": {
                            "color": "#EBF0F8"
                          },
                          "line": {
                            "color": "white"
                          }
                        },
                        "header": {
                          "fill": {
                            "color": "#C8D4E3"
                          },
                          "line": {
                            "color": "white"
                          }
                        },
                        "type": "table"
                      }
                    ]
                  },
                  "layout": {
                    "annotationdefaults": {
                      "arrowcolor": "#2a3f5f",
                      "arrowhead": 0,
                      "arrowwidth": 1
                    },
                    "autotypenumbers": "strict",
                    "coloraxis": {
                      "colorbar": {
                        "outlinewidth": 0,
                        "ticks": ""
                      }
                    },
                    "colorscale": {
                      "diverging": [
                        [
                          0,
                          "#8e0152"
                        ],
                        [
                          0.1,
                          "#c51b7d"
                        ],
                        [
                          0.2,
                          "#de77ae"
                        ],
                        [
                          0.3,
                          "#f1b6da"
                        ],
                        [
                          0.4,
                          "#fde0ef"
                        ],
                        [
                          0.5,
                          "#f7f7f7"
                        ],
                        [
                          0.6,
                          "#e6f5d0"
                        ],
                        [
                          0.7,
                          "#b8e186"
                        ],
                        [
                          0.8,
                          "#7fbc41"
                        ],
                        [
                          0.9,
                          "#4d9221"
                        ],
                        [
                          1,
                          "#276419"
                        ]
                      ],
                      "sequential": [
                        [
                          0,
                          "#0d0887"
                        ],
                        [
                          0.1111111111111111,
                          "#46039f"
                        ],
                        [
                          0.2222222222222222,
                          "#7201a8"
                        ],
                        [
                          0.3333333333333333,
                          "#9c179e"
                        ],
                        [
                          0.4444444444444444,
                          "#bd3786"
                        ],
                        [
                          0.5555555555555556,
                          "#d8576b"
                        ],
                        [
                          0.6666666666666666,
                          "#ed7953"
                        ],
                        [
                          0.7777777777777778,
                          "#fb9f3a"
                        ],
                        [
                          0.8888888888888888,
                          "#fdca26"
                        ],
                        [
                          1,
                          "#f0f921"
                        ]
                      ],
                      "sequentialminus": [
                        [
                          0,
                          "#0d0887"
                        ],
                        [
                          0.1111111111111111,
                          "#46039f"
                        ],
                        [
                          0.2222222222222222,
                          "#7201a8"
                        ],
                        [
                          0.3333333333333333,
                          "#9c179e"
                        ],
                        [
                          0.4444444444444444,
                          "#bd3786"
                        ],
                        [
                          0.5555555555555556,
                          "#d8576b"
                        ],
                        [
                          0.6666666666666666,
                          "#ed7953"
                        ],
                        [
                          0.7777777777777778,
                          "#fb9f3a"
                        ],
                        [
                          0.8888888888888888,
                          "#fdca26"
                        ],
                        [
                          1,
                          "#f0f921"
                        ]
                      ]
                    },
                    "colorway": [
                      "#636efa",
                      "#EF553B",
                      "#00cc96",
                      "#ab63fa",
                      "#FFA15A",
                      "#19d3f3",
                      "#FF6692",
                      "#B6E880",
                      "#FF97FF",
                      "#FECB52"
                    ],
                    "font": {
                      "color": "#2a3f5f"
                    },
                    "geo": {
                      "bgcolor": "white",
                      "lakecolor": "white",
                      "landcolor": "#E5ECF6",
                      "showlakes": true,
                      "showland": true,
                      "subunitcolor": "white"
                    },
                    "hoverlabel": {
                      "align": "left"
                    },
                    "hovermode": "closest",
                    "mapbox": {
                      "style": "light"
                    },
                    "paper_bgcolor": "white",
                    "plot_bgcolor": "#E5ECF6",
                    "polar": {
                      "angularaxis": {
                        "gridcolor": "white",
                        "linecolor": "white",
                        "ticks": ""
                      },
                      "bgcolor": "#E5ECF6",
                      "radialaxis": {
                        "gridcolor": "white",
                        "linecolor": "white",
                        "ticks": ""
                      }
                    },
                    "scene": {
                      "xaxis": {
                        "backgroundcolor": "#E5ECF6",
                        "gridcolor": "white",
                        "gridwidth": 2,
                        "linecolor": "white",
                        "showbackground": true,
                        "ticks": "",
                        "zerolinecolor": "white"
                      },
                      "yaxis": {
                        "backgroundcolor": "#E5ECF6",
                        "gridcolor": "white",
                        "gridwidth": 2,
                        "linecolor": "white",
                        "showbackground": true,
                        "ticks": "",
                        "zerolinecolor": "white"
                      },
                      "zaxis": {
                        "backgroundcolor": "#E5ECF6",
                        "gridcolor": "white",
                        "gridwidth": 2,
                        "linecolor": "white",
                        "showbackground": true,
                        "ticks": "",
                        "zerolinecolor": "white"
                      }
                    },
                    "shapedefaults": {
                      "line": {
                        "color": "#2a3f5f"
                      }
                    },
                    "ternary": {
                      "aaxis": {
                        "gridcolor": "white",
                        "linecolor": "white",
                        "ticks": ""
                      },
                      "baxis": {
                        "gridcolor": "white",
                        "linecolor": "white",
                        "ticks": ""
                      },
                      "bgcolor": "#E5ECF6",
                      "caxis": {
                        "gridcolor": "white",
                        "linecolor": "white",
                        "ticks": ""
                      }
                    },
                    "title": {
                      "x": 0.05
                    },
                    "xaxis": {
                      "automargin": true,
                      "gridcolor": "white",
                      "linecolor": "white",
                      "ticks": "",
                      "title": {
                        "standoff": 15
                      },
                      "zerolinecolor": "white",
                      "zerolinewidth": 2
                    },
                    "yaxis": {
                      "automargin": true,
                      "gridcolor": "white",
                      "linecolor": "white",
                      "ticks": "",
                      "title": {
                        "standoff": 15
                      },
                      "zerolinecolor": "white",
                      "zerolinewidth": 2
                    }
                  }
                },
                "title": {
                  "text": "Гистограмма выручки по компаниям"
                },
                "xaxis": {
                  "anchor": "y",
                  "domain": [
                    0,
                    1
                  ],
                  "title": {
                    "text": "Выручка (руб) 2023/2024"
                  }
                },
                "yaxis": {
                  "anchor": "x",
                  "domain": [
                    0,
                    1
                  ],
                  "title": {
                    "text": "count"
                  }
                }
              }
            }
          },
          "metadata": {},
          "output_type": "display_data"
        },
        {
          "data": {
            "application/vnd.plotly.v1+json": {
              "config": {
                "plotlyServerURL": "https://plot.ly"
              },
              "data": [
                {
                  "hovertemplate": "Краткое название=%{x}<br>Выручка (руб) 2023/2024=%{y}<extra></extra>",
                  "legendgroup": "",
                  "line": {
                    "color": "#636efa",
                    "dash": "solid"
                  },
                  "marker": {
                    "symbol": "circle"
                  },
                  "mode": "lines+markers",
                  "name": "",
                  "orientation": "v",
                  "showlegend": false,
                  "type": "scatter",
                  "x": [
                    "Корпорация «Синергия»",
                    "Skillbox Holding Limited",
                    "Группа компаний Skyeng",
                    "Яндекс.Практикум",
                    "GetCourse",
                    "Компьютерная академия ТOP",
                    "Фоксфорд",
                    "Учи.ру",
                    "Умскул",
                    "Актион Университет"
                  ],
                  "xaxis": "x",
                  "y": {
                    "bdata": "AAAAAIDbyEAAAAAAANTHQAAAAAAAosdAAAAAAAAdwEAAAAAAACK6QAAAAAAAgrlAAAAAAABZtEAAAAAAAFC0QAAAAAAAp7JAAAAAAACwsUA=",
                    "dtype": "f8"
                  },
                  "yaxis": "y"
                }
              ],
              "layout": {
                "legend": {
                  "tracegroupgap": 0
                },
                "template": {
                  "data": {
                    "bar": [
                      {
                        "error_x": {
                          "color": "#2a3f5f"
                        },
                        "error_y": {
                          "color": "#2a3f5f"
                        },
                        "marker": {
                          "line": {
                            "color": "#E5ECF6",
                            "width": 0.5
                          },
                          "pattern": {
                            "fillmode": "overlay",
                            "size": 10,
                            "solidity": 0.2
                          }
                        },
                        "type": "bar"
                      }
                    ],
                    "barpolar": [
                      {
                        "marker": {
                          "line": {
                            "color": "#E5ECF6",
                            "width": 0.5
                          },
                          "pattern": {
                            "fillmode": "overlay",
                            "size": 10,
                            "solidity": 0.2
                          }
                        },
                        "type": "barpolar"
                      }
                    ],
                    "carpet": [
                      {
                        "aaxis": {
                          "endlinecolor": "#2a3f5f",
                          "gridcolor": "white",
                          "linecolor": "white",
                          "minorgridcolor": "white",
                          "startlinecolor": "#2a3f5f"
                        },
                        "baxis": {
                          "endlinecolor": "#2a3f5f",
                          "gridcolor": "white",
                          "linecolor": "white",
                          "minorgridcolor": "white",
                          "startlinecolor": "#2a3f5f"
                        },
                        "type": "carpet"
                      }
                    ],
                    "choropleth": [
                      {
                        "colorbar": {
                          "outlinewidth": 0,
                          "ticks": ""
                        },
                        "type": "choropleth"
                      }
                    ],
                    "contour": [
                      {
                        "colorbar": {
                          "outlinewidth": 0,
                          "ticks": ""
                        },
                        "colorscale": [
                          [
                            0,
                            "#0d0887"
                          ],
                          [
                            0.1111111111111111,
                            "#46039f"
                          ],
                          [
                            0.2222222222222222,
                            "#7201a8"
                          ],
                          [
                            0.3333333333333333,
                            "#9c179e"
                          ],
                          [
                            0.4444444444444444,
                            "#bd3786"
                          ],
                          [
                            0.5555555555555556,
                            "#d8576b"
                          ],
                          [
                            0.6666666666666666,
                            "#ed7953"
                          ],
                          [
                            0.7777777777777778,
                            "#fb9f3a"
                          ],
                          [
                            0.8888888888888888,
                            "#fdca26"
                          ],
                          [
                            1,
                            "#f0f921"
                          ]
                        ],
                        "type": "contour"
                      }
                    ],
                    "contourcarpet": [
                      {
                        "colorbar": {
                          "outlinewidth": 0,
                          "ticks": ""
                        },
                        "type": "contourcarpet"
                      }
                    ],
                    "heatmap": [
                      {
                        "colorbar": {
                          "outlinewidth": 0,
                          "ticks": ""
                        },
                        "colorscale": [
                          [
                            0,
                            "#0d0887"
                          ],
                          [
                            0.1111111111111111,
                            "#46039f"
                          ],
                          [
                            0.2222222222222222,
                            "#7201a8"
                          ],
                          [
                            0.3333333333333333,
                            "#9c179e"
                          ],
                          [
                            0.4444444444444444,
                            "#bd3786"
                          ],
                          [
                            0.5555555555555556,
                            "#d8576b"
                          ],
                          [
                            0.6666666666666666,
                            "#ed7953"
                          ],
                          [
                            0.7777777777777778,
                            "#fb9f3a"
                          ],
                          [
                            0.8888888888888888,
                            "#fdca26"
                          ],
                          [
                            1,
                            "#f0f921"
                          ]
                        ],
                        "type": "heatmap"
                      }
                    ],
                    "histogram": [
                      {
                        "marker": {
                          "pattern": {
                            "fillmode": "overlay",
                            "size": 10,
                            "solidity": 0.2
                          }
                        },
                        "type": "histogram"
                      }
                    ],
                    "histogram2d": [
                      {
                        "colorbar": {
                          "outlinewidth": 0,
                          "ticks": ""
                        },
                        "colorscale": [
                          [
                            0,
                            "#0d0887"
                          ],
                          [
                            0.1111111111111111,
                            "#46039f"
                          ],
                          [
                            0.2222222222222222,
                            "#7201a8"
                          ],
                          [
                            0.3333333333333333,
                            "#9c179e"
                          ],
                          [
                            0.4444444444444444,
                            "#bd3786"
                          ],
                          [
                            0.5555555555555556,
                            "#d8576b"
                          ],
                          [
                            0.6666666666666666,
                            "#ed7953"
                          ],
                          [
                            0.7777777777777778,
                            "#fb9f3a"
                          ],
                          [
                            0.8888888888888888,
                            "#fdca26"
                          ],
                          [
                            1,
                            "#f0f921"
                          ]
                        ],
                        "type": "histogram2d"
                      }
                    ],
                    "histogram2dcontour": [
                      {
                        "colorbar": {
                          "outlinewidth": 0,
                          "ticks": ""
                        },
                        "colorscale": [
                          [
                            0,
                            "#0d0887"
                          ],
                          [
                            0.1111111111111111,
                            "#46039f"
                          ],
                          [
                            0.2222222222222222,
                            "#7201a8"
                          ],
                          [
                            0.3333333333333333,
                            "#9c179e"
                          ],
                          [
                            0.4444444444444444,
                            "#bd3786"
                          ],
                          [
                            0.5555555555555556,
                            "#d8576b"
                          ],
                          [
                            0.6666666666666666,
                            "#ed7953"
                          ],
                          [
                            0.7777777777777778,
                            "#fb9f3a"
                          ],
                          [
                            0.8888888888888888,
                            "#fdca26"
                          ],
                          [
                            1,
                            "#f0f921"
                          ]
                        ],
                        "type": "histogram2dcontour"
                      }
                    ],
                    "mesh3d": [
                      {
                        "colorbar": {
                          "outlinewidth": 0,
                          "ticks": ""
                        },
                        "type": "mesh3d"
                      }
                    ],
                    "parcoords": [
                      {
                        "line": {
                          "colorbar": {
                            "outlinewidth": 0,
                            "ticks": ""
                          }
                        },
                        "type": "parcoords"
                      }
                    ],
                    "pie": [
                      {
                        "automargin": true,
                        "type": "pie"
                      }
                    ],
                    "scatter": [
                      {
                        "fillpattern": {
                          "fillmode": "overlay",
                          "size": 10,
                          "solidity": 0.2
                        },
                        "type": "scatter"
                      }
                    ],
                    "scatter3d": [
                      {
                        "line": {
                          "colorbar": {
                            "outlinewidth": 0,
                            "ticks": ""
                          }
                        },
                        "marker": {
                          "colorbar": {
                            "outlinewidth": 0,
                            "ticks": ""
                          }
                        },
                        "type": "scatter3d"
                      }
                    ],
                    "scattercarpet": [
                      {
                        "marker": {
                          "colorbar": {
                            "outlinewidth": 0,
                            "ticks": ""
                          }
                        },
                        "type": "scattercarpet"
                      }
                    ],
                    "scattergeo": [
                      {
                        "marker": {
                          "colorbar": {
                            "outlinewidth": 0,
                            "ticks": ""
                          }
                        },
                        "type": "scattergeo"
                      }
                    ],
                    "scattergl": [
                      {
                        "marker": {
                          "colorbar": {
                            "outlinewidth": 0,
                            "ticks": ""
                          }
                        },
                        "type": "scattergl"
                      }
                    ],
                    "scattermap": [
                      {
                        "marker": {
                          "colorbar": {
                            "outlinewidth": 0,
                            "ticks": ""
                          }
                        },
                        "type": "scattermap"
                      }
                    ],
                    "scattermapbox": [
                      {
                        "marker": {
                          "colorbar": {
                            "outlinewidth": 0,
                            "ticks": ""
                          }
                        },
                        "type": "scattermapbox"
                      }
                    ],
                    "scatterpolar": [
                      {
                        "marker": {
                          "colorbar": {
                            "outlinewidth": 0,
                            "ticks": ""
                          }
                        },
                        "type": "scatterpolar"
                      }
                    ],
                    "scatterpolargl": [
                      {
                        "marker": {
                          "colorbar": {
                            "outlinewidth": 0,
                            "ticks": ""
                          }
                        },
                        "type": "scatterpolargl"
                      }
                    ],
                    "scatterternary": [
                      {
                        "marker": {
                          "colorbar": {
                            "outlinewidth": 0,
                            "ticks": ""
                          }
                        },
                        "type": "scatterternary"
                      }
                    ],
                    "surface": [
                      {
                        "colorbar": {
                          "outlinewidth": 0,
                          "ticks": ""
                        },
                        "colorscale": [
                          [
                            0,
                            "#0d0887"
                          ],
                          [
                            0.1111111111111111,
                            "#46039f"
                          ],
                          [
                            0.2222222222222222,
                            "#7201a8"
                          ],
                          [
                            0.3333333333333333,
                            "#9c179e"
                          ],
                          [
                            0.4444444444444444,
                            "#bd3786"
                          ],
                          [
                            0.5555555555555556,
                            "#d8576b"
                          ],
                          [
                            0.6666666666666666,
                            "#ed7953"
                          ],
                          [
                            0.7777777777777778,
                            "#fb9f3a"
                          ],
                          [
                            0.8888888888888888,
                            "#fdca26"
                          ],
                          [
                            1,
                            "#f0f921"
                          ]
                        ],
                        "type": "surface"
                      }
                    ],
                    "table": [
                      {
                        "cells": {
                          "fill": {
                            "color": "#EBF0F8"
                          },
                          "line": {
                            "color": "white"
                          }
                        },
                        "header": {
                          "fill": {
                            "color": "#C8D4E3"
                          },
                          "line": {
                            "color": "white"
                          }
                        },
                        "type": "table"
                      }
                    ]
                  },
                  "layout": {
                    "annotationdefaults": {
                      "arrowcolor": "#2a3f5f",
                      "arrowhead": 0,
                      "arrowwidth": 1
                    },
                    "autotypenumbers": "strict",
                    "coloraxis": {
                      "colorbar": {
                        "outlinewidth": 0,
                        "ticks": ""
                      }
                    },
                    "colorscale": {
                      "diverging": [
                        [
                          0,
                          "#8e0152"
                        ],
                        [
                          0.1,
                          "#c51b7d"
                        ],
                        [
                          0.2,
                          "#de77ae"
                        ],
                        [
                          0.3,
                          "#f1b6da"
                        ],
                        [
                          0.4,
                          "#fde0ef"
                        ],
                        [
                          0.5,
                          "#f7f7f7"
                        ],
                        [
                          0.6,
                          "#e6f5d0"
                        ],
                        [
                          0.7,
                          "#b8e186"
                        ],
                        [
                          0.8,
                          "#7fbc41"
                        ],
                        [
                          0.9,
                          "#4d9221"
                        ],
                        [
                          1,
                          "#276419"
                        ]
                      ],
                      "sequential": [
                        [
                          0,
                          "#0d0887"
                        ],
                        [
                          0.1111111111111111,
                          "#46039f"
                        ],
                        [
                          0.2222222222222222,
                          "#7201a8"
                        ],
                        [
                          0.3333333333333333,
                          "#9c179e"
                        ],
                        [
                          0.4444444444444444,
                          "#bd3786"
                        ],
                        [
                          0.5555555555555556,
                          "#d8576b"
                        ],
                        [
                          0.6666666666666666,
                          "#ed7953"
                        ],
                        [
                          0.7777777777777778,
                          "#fb9f3a"
                        ],
                        [
                          0.8888888888888888,
                          "#fdca26"
                        ],
                        [
                          1,
                          "#f0f921"
                        ]
                      ],
                      "sequentialminus": [
                        [
                          0,
                          "#0d0887"
                        ],
                        [
                          0.1111111111111111,
                          "#46039f"
                        ],
                        [
                          0.2222222222222222,
                          "#7201a8"
                        ],
                        [
                          0.3333333333333333,
                          "#9c179e"
                        ],
                        [
                          0.4444444444444444,
                          "#bd3786"
                        ],
                        [
                          0.5555555555555556,
                          "#d8576b"
                        ],
                        [
                          0.6666666666666666,
                          "#ed7953"
                        ],
                        [
                          0.7777777777777778,
                          "#fb9f3a"
                        ],
                        [
                          0.8888888888888888,
                          "#fdca26"
                        ],
                        [
                          1,
                          "#f0f921"
                        ]
                      ]
                    },
                    "colorway": [
                      "#636efa",
                      "#EF553B",
                      "#00cc96",
                      "#ab63fa",
                      "#FFA15A",
                      "#19d3f3",
                      "#FF6692",
                      "#B6E880",
                      "#FF97FF",
                      "#FECB52"
                    ],
                    "font": {
                      "color": "#2a3f5f"
                    },
                    "geo": {
                      "bgcolor": "white",
                      "lakecolor": "white",
                      "landcolor": "#E5ECF6",
                      "showlakes": true,
                      "showland": true,
                      "subunitcolor": "white"
                    },
                    "hoverlabel": {
                      "align": "left"
                    },
                    "hovermode": "closest",
                    "mapbox": {
                      "style": "light"
                    },
                    "paper_bgcolor": "white",
                    "plot_bgcolor": "#E5ECF6",
                    "polar": {
                      "angularaxis": {
                        "gridcolor": "white",
                        "linecolor": "white",
                        "ticks": ""
                      },
                      "bgcolor": "#E5ECF6",
                      "radialaxis": {
                        "gridcolor": "white",
                        "linecolor": "white",
                        "ticks": ""
                      }
                    },
                    "scene": {
                      "xaxis": {
                        "backgroundcolor": "#E5ECF6",
                        "gridcolor": "white",
                        "gridwidth": 2,
                        "linecolor": "white",
                        "showbackground": true,
                        "ticks": "",
                        "zerolinecolor": "white"
                      },
                      "yaxis": {
                        "backgroundcolor": "#E5ECF6",
                        "gridcolor": "white",
                        "gridwidth": 2,
                        "linecolor": "white",
                        "showbackground": true,
                        "ticks": "",
                        "zerolinecolor": "white"
                      },
                      "zaxis": {
                        "backgroundcolor": "#E5ECF6",
                        "gridcolor": "white",
                        "gridwidth": 2,
                        "linecolor": "white",
                        "showbackground": true,
                        "ticks": "",
                        "zerolinecolor": "white"
                      }
                    },
                    "shapedefaults": {
                      "line": {
                        "color": "#2a3f5f"
                      }
                    },
                    "ternary": {
                      "aaxis": {
                        "gridcolor": "white",
                        "linecolor": "white",
                        "ticks": ""
                      },
                      "baxis": {
                        "gridcolor": "white",
                        "linecolor": "white",
                        "ticks": ""
                      },
                      "bgcolor": "#E5ECF6",
                      "caxis": {
                        "gridcolor": "white",
                        "linecolor": "white",
                        "ticks": ""
                      }
                    },
                    "title": {
                      "x": 0.05
                    },
                    "xaxis": {
                      "automargin": true,
                      "gridcolor": "white",
                      "linecolor": "white",
                      "ticks": "",
                      "title": {
                        "standoff": 15
                      },
                      "zerolinecolor": "white",
                      "zerolinewidth": 2
                    },
                    "yaxis": {
                      "automargin": true,
                      "gridcolor": "white",
                      "linecolor": "white",
                      "ticks": "",
                      "title": {
                        "standoff": 15
                      },
                      "zerolinecolor": "white",
                      "zerolinewidth": 2
                    }
                  }
                },
                "title": {
                  "text": "Линейный график выручки по компаниям"
                },
                "xaxis": {
                  "anchor": "y",
                  "domain": [
                    0,
                    1
                  ],
                  "title": {
                    "text": "Краткое название"
                  }
                },
                "yaxis": {
                  "anchor": "x",
                  "domain": [
                    0,
                    1
                  ],
                  "title": {
                    "text": "Выручка (руб) 2023/2024"
                  }
                }
              }
            }
          },
          "metadata": {},
          "output_type": "display_data"
        },
        {
          "data": {
            "application/vnd.plotly.v1+json": {
              "config": {
                "plotlyServerURL": "https://plot.ly"
              },
              "data": [
                {
                  "hovertemplate": "Краткое название=%{x}<br>Выручка (руб) 2023/2024=%{y}<extra></extra>",
                  "legendgroup": "",
                  "marker": {
                    "color": "#636efa",
                    "pattern": {
                      "shape": ""
                    }
                  },
                  "name": "",
                  "orientation": "v",
                  "showlegend": false,
                  "textposition": "auto",
                  "type": "bar",
                  "x": [
                    "Корпорация «Синергия»",
                    "Skillbox Holding Limited",
                    "Группа компаний Skyeng",
                    "Яндекс.Практикум",
                    "GetCourse",
                    "Компьютерная академия ТOP",
                    "Фоксфорд",
                    "Учи.ру",
                    "Умскул",
                    "Актион Университет"
                  ],
                  "xaxis": "x",
                  "y": {
                    "bdata": "AAAAAIDbyEAAAAAAANTHQAAAAAAAosdAAAAAAAAdwEAAAAAAACK6QAAAAAAAgrlAAAAAAABZtEAAAAAAAFC0QAAAAAAAp7JAAAAAAACwsUA=",
                    "dtype": "f8"
                  },
                  "yaxis": "y"
                }
              ],
              "layout": {
                "barmode": "relative",
                "legend": {
                  "tracegroupgap": 0
                },
                "template": {
                  "data": {
                    "bar": [
                      {
                        "error_x": {
                          "color": "#2a3f5f"
                        },
                        "error_y": {
                          "color": "#2a3f5f"
                        },
                        "marker": {
                          "line": {
                            "color": "#E5ECF6",
                            "width": 0.5
                          },
                          "pattern": {
                            "fillmode": "overlay",
                            "size": 10,
                            "solidity": 0.2
                          }
                        },
                        "type": "bar"
                      }
                    ],
                    "barpolar": [
                      {
                        "marker": {
                          "line": {
                            "color": "#E5ECF6",
                            "width": 0.5
                          },
                          "pattern": {
                            "fillmode": "overlay",
                            "size": 10,
                            "solidity": 0.2
                          }
                        },
                        "type": "barpolar"
                      }
                    ],
                    "carpet": [
                      {
                        "aaxis": {
                          "endlinecolor": "#2a3f5f",
                          "gridcolor": "white",
                          "linecolor": "white",
                          "minorgridcolor": "white",
                          "startlinecolor": "#2a3f5f"
                        },
                        "baxis": {
                          "endlinecolor": "#2a3f5f",
                          "gridcolor": "white",
                          "linecolor": "white",
                          "minorgridcolor": "white",
                          "startlinecolor": "#2a3f5f"
                        },
                        "type": "carpet"
                      }
                    ],
                    "choropleth": [
                      {
                        "colorbar": {
                          "outlinewidth": 0,
                          "ticks": ""
                        },
                        "type": "choropleth"
                      }
                    ],
                    "contour": [
                      {
                        "colorbar": {
                          "outlinewidth": 0,
                          "ticks": ""
                        },
                        "colorscale": [
                          [
                            0,
                            "#0d0887"
                          ],
                          [
                            0.1111111111111111,
                            "#46039f"
                          ],
                          [
                            0.2222222222222222,
                            "#7201a8"
                          ],
                          [
                            0.3333333333333333,
                            "#9c179e"
                          ],
                          [
                            0.4444444444444444,
                            "#bd3786"
                          ],
                          [
                            0.5555555555555556,
                            "#d8576b"
                          ],
                          [
                            0.6666666666666666,
                            "#ed7953"
                          ],
                          [
                            0.7777777777777778,
                            "#fb9f3a"
                          ],
                          [
                            0.8888888888888888,
                            "#fdca26"
                          ],
                          [
                            1,
                            "#f0f921"
                          ]
                        ],
                        "type": "contour"
                      }
                    ],
                    "contourcarpet": [
                      {
                        "colorbar": {
                          "outlinewidth": 0,
                          "ticks": ""
                        },
                        "type": "contourcarpet"
                      }
                    ],
                    "heatmap": [
                      {
                        "colorbar": {
                          "outlinewidth": 0,
                          "ticks": ""
                        },
                        "colorscale": [
                          [
                            0,
                            "#0d0887"
                          ],
                          [
                            0.1111111111111111,
                            "#46039f"
                          ],
                          [
                            0.2222222222222222,
                            "#7201a8"
                          ],
                          [
                            0.3333333333333333,
                            "#9c179e"
                          ],
                          [
                            0.4444444444444444,
                            "#bd3786"
                          ],
                          [
                            0.5555555555555556,
                            "#d8576b"
                          ],
                          [
                            0.6666666666666666,
                            "#ed7953"
                          ],
                          [
                            0.7777777777777778,
                            "#fb9f3a"
                          ],
                          [
                            0.8888888888888888,
                            "#fdca26"
                          ],
                          [
                            1,
                            "#f0f921"
                          ]
                        ],
                        "type": "heatmap"
                      }
                    ],
                    "histogram": [
                      {
                        "marker": {
                          "pattern": {
                            "fillmode": "overlay",
                            "size": 10,
                            "solidity": 0.2
                          }
                        },
                        "type": "histogram"
                      }
                    ],
                    "histogram2d": [
                      {
                        "colorbar": {
                          "outlinewidth": 0,
                          "ticks": ""
                        },
                        "colorscale": [
                          [
                            0,
                            "#0d0887"
                          ],
                          [
                            0.1111111111111111,
                            "#46039f"
                          ],
                          [
                            0.2222222222222222,
                            "#7201a8"
                          ],
                          [
                            0.3333333333333333,
                            "#9c179e"
                          ],
                          [
                            0.4444444444444444,
                            "#bd3786"
                          ],
                          [
                            0.5555555555555556,
                            "#d8576b"
                          ],
                          [
                            0.6666666666666666,
                            "#ed7953"
                          ],
                          [
                            0.7777777777777778,
                            "#fb9f3a"
                          ],
                          [
                            0.8888888888888888,
                            "#fdca26"
                          ],
                          [
                            1,
                            "#f0f921"
                          ]
                        ],
                        "type": "histogram2d"
                      }
                    ],
                    "histogram2dcontour": [
                      {
                        "colorbar": {
                          "outlinewidth": 0,
                          "ticks": ""
                        },
                        "colorscale": [
                          [
                            0,
                            "#0d0887"
                          ],
                          [
                            0.1111111111111111,
                            "#46039f"
                          ],
                          [
                            0.2222222222222222,
                            "#7201a8"
                          ],
                          [
                            0.3333333333333333,
                            "#9c179e"
                          ],
                          [
                            0.4444444444444444,
                            "#bd3786"
                          ],
                          [
                            0.5555555555555556,
                            "#d8576b"
                          ],
                          [
                            0.6666666666666666,
                            "#ed7953"
                          ],
                          [
                            0.7777777777777778,
                            "#fb9f3a"
                          ],
                          [
                            0.8888888888888888,
                            "#fdca26"
                          ],
                          [
                            1,
                            "#f0f921"
                          ]
                        ],
                        "type": "histogram2dcontour"
                      }
                    ],
                    "mesh3d": [
                      {
                        "colorbar": {
                          "outlinewidth": 0,
                          "ticks": ""
                        },
                        "type": "mesh3d"
                      }
                    ],
                    "parcoords": [
                      {
                        "line": {
                          "colorbar": {
                            "outlinewidth": 0,
                            "ticks": ""
                          }
                        },
                        "type": "parcoords"
                      }
                    ],
                    "pie": [
                      {
                        "automargin": true,
                        "type": "pie"
                      }
                    ],
                    "scatter": [
                      {
                        "fillpattern": {
                          "fillmode": "overlay",
                          "size": 10,
                          "solidity": 0.2
                        },
                        "type": "scatter"
                      }
                    ],
                    "scatter3d": [
                      {
                        "line": {
                          "colorbar": {
                            "outlinewidth": 0,
                            "ticks": ""
                          }
                        },
                        "marker": {
                          "colorbar": {
                            "outlinewidth": 0,
                            "ticks": ""
                          }
                        },
                        "type": "scatter3d"
                      }
                    ],
                    "scattercarpet": [
                      {
                        "marker": {
                          "colorbar": {
                            "outlinewidth": 0,
                            "ticks": ""
                          }
                        },
                        "type": "scattercarpet"
                      }
                    ],
                    "scattergeo": [
                      {
                        "marker": {
                          "colorbar": {
                            "outlinewidth": 0,
                            "ticks": ""
                          }
                        },
                        "type": "scattergeo"
                      }
                    ],
                    "scattergl": [
                      {
                        "marker": {
                          "colorbar": {
                            "outlinewidth": 0,
                            "ticks": ""
                          }
                        },
                        "type": "scattergl"
                      }
                    ],
                    "scattermap": [
                      {
                        "marker": {
                          "colorbar": {
                            "outlinewidth": 0,
                            "ticks": ""
                          }
                        },
                        "type": "scattermap"
                      }
                    ],
                    "scattermapbox": [
                      {
                        "marker": {
                          "colorbar": {
                            "outlinewidth": 0,
                            "ticks": ""
                          }
                        },
                        "type": "scattermapbox"
                      }
                    ],
                    "scatterpolar": [
                      {
                        "marker": {
                          "colorbar": {
                            "outlinewidth": 0,
                            "ticks": ""
                          }
                        },
                        "type": "scatterpolar"
                      }
                    ],
                    "scatterpolargl": [
                      {
                        "marker": {
                          "colorbar": {
                            "outlinewidth": 0,
                            "ticks": ""
                          }
                        },
                        "type": "scatterpolargl"
                      }
                    ],
                    "scatterternary": [
                      {
                        "marker": {
                          "colorbar": {
                            "outlinewidth": 0,
                            "ticks": ""
                          }
                        },
                        "type": "scatterternary"
                      }
                    ],
                    "surface": [
                      {
                        "colorbar": {
                          "outlinewidth": 0,
                          "ticks": ""
                        },
                        "colorscale": [
                          [
                            0,
                            "#0d0887"
                          ],
                          [
                            0.1111111111111111,
                            "#46039f"
                          ],
                          [
                            0.2222222222222222,
                            "#7201a8"
                          ],
                          [
                            0.3333333333333333,
                            "#9c179e"
                          ],
                          [
                            0.4444444444444444,
                            "#bd3786"
                          ],
                          [
                            0.5555555555555556,
                            "#d8576b"
                          ],
                          [
                            0.6666666666666666,
                            "#ed7953"
                          ],
                          [
                            0.7777777777777778,
                            "#fb9f3a"
                          ],
                          [
                            0.8888888888888888,
                            "#fdca26"
                          ],
                          [
                            1,
                            "#f0f921"
                          ]
                        ],
                        "type": "surface"
                      }
                    ],
                    "table": [
                      {
                        "cells": {
                          "fill": {
                            "color": "#EBF0F8"
                          },
                          "line": {
                            "color": "white"
                          }
                        },
                        "header": {
                          "fill": {
                            "color": "#C8D4E3"
                          },
                          "line": {
                            "color": "white"
                          }
                        },
                        "type": "table"
                      }
                    ]
                  },
                  "layout": {
                    "annotationdefaults": {
                      "arrowcolor": "#2a3f5f",
                      "arrowhead": 0,
                      "arrowwidth": 1
                    },
                    "autotypenumbers": "strict",
                    "coloraxis": {
                      "colorbar": {
                        "outlinewidth": 0,
                        "ticks": ""
                      }
                    },
                    "colorscale": {
                      "diverging": [
                        [
                          0,
                          "#8e0152"
                        ],
                        [
                          0.1,
                          "#c51b7d"
                        ],
                        [
                          0.2,
                          "#de77ae"
                        ],
                        [
                          0.3,
                          "#f1b6da"
                        ],
                        [
                          0.4,
                          "#fde0ef"
                        ],
                        [
                          0.5,
                          "#f7f7f7"
                        ],
                        [
                          0.6,
                          "#e6f5d0"
                        ],
                        [
                          0.7,
                          "#b8e186"
                        ],
                        [
                          0.8,
                          "#7fbc41"
                        ],
                        [
                          0.9,
                          "#4d9221"
                        ],
                        [
                          1,
                          "#276419"
                        ]
                      ],
                      "sequential": [
                        [
                          0,
                          "#0d0887"
                        ],
                        [
                          0.1111111111111111,
                          "#46039f"
                        ],
                        [
                          0.2222222222222222,
                          "#7201a8"
                        ],
                        [
                          0.3333333333333333,
                          "#9c179e"
                        ],
                        [
                          0.4444444444444444,
                          "#bd3786"
                        ],
                        [
                          0.5555555555555556,
                          "#d8576b"
                        ],
                        [
                          0.6666666666666666,
                          "#ed7953"
                        ],
                        [
                          0.7777777777777778,
                          "#fb9f3a"
                        ],
                        [
                          0.8888888888888888,
                          "#fdca26"
                        ],
                        [
                          1,
                          "#f0f921"
                        ]
                      ],
                      "sequentialminus": [
                        [
                          0,
                          "#0d0887"
                        ],
                        [
                          0.1111111111111111,
                          "#46039f"
                        ],
                        [
                          0.2222222222222222,
                          "#7201a8"
                        ],
                        [
                          0.3333333333333333,
                          "#9c179e"
                        ],
                        [
                          0.4444444444444444,
                          "#bd3786"
                        ],
                        [
                          0.5555555555555556,
                          "#d8576b"
                        ],
                        [
                          0.6666666666666666,
                          "#ed7953"
                        ],
                        [
                          0.7777777777777778,
                          "#fb9f3a"
                        ],
                        [
                          0.8888888888888888,
                          "#fdca26"
                        ],
                        [
                          1,
                          "#f0f921"
                        ]
                      ]
                    },
                    "colorway": [
                      "#636efa",
                      "#EF553B",
                      "#00cc96",
                      "#ab63fa",
                      "#FFA15A",
                      "#19d3f3",
                      "#FF6692",
                      "#B6E880",
                      "#FF97FF",
                      "#FECB52"
                    ],
                    "font": {
                      "color": "#2a3f5f"
                    },
                    "geo": {
                      "bgcolor": "white",
                      "lakecolor": "white",
                      "landcolor": "#E5ECF6",
                      "showlakes": true,
                      "showland": true,
                      "subunitcolor": "white"
                    },
                    "hoverlabel": {
                      "align": "left"
                    },
                    "hovermode": "closest",
                    "mapbox": {
                      "style": "light"
                    },
                    "paper_bgcolor": "white",
                    "plot_bgcolor": "#E5ECF6",
                    "polar": {
                      "angularaxis": {
                        "gridcolor": "white",
                        "linecolor": "white",
                        "ticks": ""
                      },
                      "bgcolor": "#E5ECF6",
                      "radialaxis": {
                        "gridcolor": "white",
                        "linecolor": "white",
                        "ticks": ""
                      }
                    },
                    "scene": {
                      "xaxis": {
                        "backgroundcolor": "#E5ECF6",
                        "gridcolor": "white",
                        "gridwidth": 2,
                        "linecolor": "white",
                        "showbackground": true,
                        "ticks": "",
                        "zerolinecolor": "white"
                      },
                      "yaxis": {
                        "backgroundcolor": "#E5ECF6",
                        "gridcolor": "white",
                        "gridwidth": 2,
                        "linecolor": "white",
                        "showbackground": true,
                        "ticks": "",
                        "zerolinecolor": "white"
                      },
                      "zaxis": {
                        "backgroundcolor": "#E5ECF6",
                        "gridcolor": "white",
                        "gridwidth": 2,
                        "linecolor": "white",
                        "showbackground": true,
                        "ticks": "",
                        "zerolinecolor": "white"
                      }
                    },
                    "shapedefaults": {
                      "line": {
                        "color": "#2a3f5f"
                      }
                    },
                    "ternary": {
                      "aaxis": {
                        "gridcolor": "white",
                        "linecolor": "white",
                        "ticks": ""
                      },
                      "baxis": {
                        "gridcolor": "white",
                        "linecolor": "white",
                        "ticks": ""
                      },
                      "bgcolor": "#E5ECF6",
                      "caxis": {
                        "gridcolor": "white",
                        "linecolor": "white",
                        "ticks": ""
                      }
                    },
                    "title": {
                      "x": 0.05
                    },
                    "xaxis": {
                      "automargin": true,
                      "gridcolor": "white",
                      "linecolor": "white",
                      "ticks": "",
                      "title": {
                        "standoff": 15
                      },
                      "zerolinecolor": "white",
                      "zerolinewidth": 2
                    },
                    "yaxis": {
                      "automargin": true,
                      "gridcolor": "white",
                      "linecolor": "white",
                      "ticks": "",
                      "title": {
                        "standoff": 15
                      },
                      "zerolinecolor": "white",
                      "zerolinewidth": 2
                    }
                  }
                },
                "title": {
                  "text": "Столбчатая диаграмма выручки по компаниям"
                },
                "xaxis": {
                  "anchor": "y",
                  "domain": [
                    0,
                    1
                  ],
                  "title": {
                    "text": "Краткое название"
                  }
                },
                "yaxis": {
                  "anchor": "x",
                  "domain": [
                    0,
                    1
                  ],
                  "title": {
                    "text": "Выручка (руб) 2023/2024"
                  }
                }
              }
            }
          },
          "metadata": {},
          "output_type": "display_data"
        },
        {
          "data": {
            "application/vnd.plotly.v1+json": {
              "config": {
                "plotlyServerURL": "https://plot.ly"
              },
              "data": [
                {
                  "hovertemplate": "Выручка (руб) 2023/2024=%{x}<br>Краткое название=%{y}<extra></extra>",
                  "legendgroup": "",
                  "marker": {
                    "color": "#636efa",
                    "pattern": {
                      "shape": ""
                    }
                  },
                  "name": "",
                  "orientation": "h",
                  "showlegend": false,
                  "textposition": "auto",
                  "type": "bar",
                  "x": {
                    "bdata": "AAAAAIDbyEAAAAAAANTHQAAAAAAAosdAAAAAAAAdwEAAAAAAACK6QAAAAAAAgrlAAAAAAABZtEAAAAAAAFC0QAAAAAAAp7JAAAAAAACwsUA=",
                    "dtype": "f8"
                  },
                  "xaxis": "x",
                  "y": [
                    "Корпорация «Синергия»",
                    "Skillbox Holding Limited",
                    "Группа компаний Skyeng",
                    "Яндекс.Практикум",
                    "GetCourse",
                    "Компьютерная академия ТOP",
                    "Фоксфорд",
                    "Учи.ру",
                    "Умскул",
                    "Актион Университет"
                  ],
                  "yaxis": "y"
                }
              ],
              "layout": {
                "barmode": "relative",
                "legend": {
                  "tracegroupgap": 0
                },
                "template": {
                  "data": {
                    "bar": [
                      {
                        "error_x": {
                          "color": "#2a3f5f"
                        },
                        "error_y": {
                          "color": "#2a3f5f"
                        },
                        "marker": {
                          "line": {
                            "color": "#E5ECF6",
                            "width": 0.5
                          },
                          "pattern": {
                            "fillmode": "overlay",
                            "size": 10,
                            "solidity": 0.2
                          }
                        },
                        "type": "bar"
                      }
                    ],
                    "barpolar": [
                      {
                        "marker": {
                          "line": {
                            "color": "#E5ECF6",
                            "width": 0.5
                          },
                          "pattern": {
                            "fillmode": "overlay",
                            "size": 10,
                            "solidity": 0.2
                          }
                        },
                        "type": "barpolar"
                      }
                    ],
                    "carpet": [
                      {
                        "aaxis": {
                          "endlinecolor": "#2a3f5f",
                          "gridcolor": "white",
                          "linecolor": "white",
                          "minorgridcolor": "white",
                          "startlinecolor": "#2a3f5f"
                        },
                        "baxis": {
                          "endlinecolor": "#2a3f5f",
                          "gridcolor": "white",
                          "linecolor": "white",
                          "minorgridcolor": "white",
                          "startlinecolor": "#2a3f5f"
                        },
                        "type": "carpet"
                      }
                    ],
                    "choropleth": [
                      {
                        "colorbar": {
                          "outlinewidth": 0,
                          "ticks": ""
                        },
                        "type": "choropleth"
                      }
                    ],
                    "contour": [
                      {
                        "colorbar": {
                          "outlinewidth": 0,
                          "ticks": ""
                        },
                        "colorscale": [
                          [
                            0,
                            "#0d0887"
                          ],
                          [
                            0.1111111111111111,
                            "#46039f"
                          ],
                          [
                            0.2222222222222222,
                            "#7201a8"
                          ],
                          [
                            0.3333333333333333,
                            "#9c179e"
                          ],
                          [
                            0.4444444444444444,
                            "#bd3786"
                          ],
                          [
                            0.5555555555555556,
                            "#d8576b"
                          ],
                          [
                            0.6666666666666666,
                            "#ed7953"
                          ],
                          [
                            0.7777777777777778,
                            "#fb9f3a"
                          ],
                          [
                            0.8888888888888888,
                            "#fdca26"
                          ],
                          [
                            1,
                            "#f0f921"
                          ]
                        ],
                        "type": "contour"
                      }
                    ],
                    "contourcarpet": [
                      {
                        "colorbar": {
                          "outlinewidth": 0,
                          "ticks": ""
                        },
                        "type": "contourcarpet"
                      }
                    ],
                    "heatmap": [
                      {
                        "colorbar": {
                          "outlinewidth": 0,
                          "ticks": ""
                        },
                        "colorscale": [
                          [
                            0,
                            "#0d0887"
                          ],
                          [
                            0.1111111111111111,
                            "#46039f"
                          ],
                          [
                            0.2222222222222222,
                            "#7201a8"
                          ],
                          [
                            0.3333333333333333,
                            "#9c179e"
                          ],
                          [
                            0.4444444444444444,
                            "#bd3786"
                          ],
                          [
                            0.5555555555555556,
                            "#d8576b"
                          ],
                          [
                            0.6666666666666666,
                            "#ed7953"
                          ],
                          [
                            0.7777777777777778,
                            "#fb9f3a"
                          ],
                          [
                            0.8888888888888888,
                            "#fdca26"
                          ],
                          [
                            1,
                            "#f0f921"
                          ]
                        ],
                        "type": "heatmap"
                      }
                    ],
                    "histogram": [
                      {
                        "marker": {
                          "pattern": {
                            "fillmode": "overlay",
                            "size": 10,
                            "solidity": 0.2
                          }
                        },
                        "type": "histogram"
                      }
                    ],
                    "histogram2d": [
                      {
                        "colorbar": {
                          "outlinewidth": 0,
                          "ticks": ""
                        },
                        "colorscale": [
                          [
                            0,
                            "#0d0887"
                          ],
                          [
                            0.1111111111111111,
                            "#46039f"
                          ],
                          [
                            0.2222222222222222,
                            "#7201a8"
                          ],
                          [
                            0.3333333333333333,
                            "#9c179e"
                          ],
                          [
                            0.4444444444444444,
                            "#bd3786"
                          ],
                          [
                            0.5555555555555556,
                            "#d8576b"
                          ],
                          [
                            0.6666666666666666,
                            "#ed7953"
                          ],
                          [
                            0.7777777777777778,
                            "#fb9f3a"
                          ],
                          [
                            0.8888888888888888,
                            "#fdca26"
                          ],
                          [
                            1,
                            "#f0f921"
                          ]
                        ],
                        "type": "histogram2d"
                      }
                    ],
                    "histogram2dcontour": [
                      {
                        "colorbar": {
                          "outlinewidth": 0,
                          "ticks": ""
                        },
                        "colorscale": [
                          [
                            0,
                            "#0d0887"
                          ],
                          [
                            0.1111111111111111,
                            "#46039f"
                          ],
                          [
                            0.2222222222222222,
                            "#7201a8"
                          ],
                          [
                            0.3333333333333333,
                            "#9c179e"
                          ],
                          [
                            0.4444444444444444,
                            "#bd3786"
                          ],
                          [
                            0.5555555555555556,
                            "#d8576b"
                          ],
                          [
                            0.6666666666666666,
                            "#ed7953"
                          ],
                          [
                            0.7777777777777778,
                            "#fb9f3a"
                          ],
                          [
                            0.8888888888888888,
                            "#fdca26"
                          ],
                          [
                            1,
                            "#f0f921"
                          ]
                        ],
                        "type": "histogram2dcontour"
                      }
                    ],
                    "mesh3d": [
                      {
                        "colorbar": {
                          "outlinewidth": 0,
                          "ticks": ""
                        },
                        "type": "mesh3d"
                      }
                    ],
                    "parcoords": [
                      {
                        "line": {
                          "colorbar": {
                            "outlinewidth": 0,
                            "ticks": ""
                          }
                        },
                        "type": "parcoords"
                      }
                    ],
                    "pie": [
                      {
                        "automargin": true,
                        "type": "pie"
                      }
                    ],
                    "scatter": [
                      {
                        "fillpattern": {
                          "fillmode": "overlay",
                          "size": 10,
                          "solidity": 0.2
                        },
                        "type": "scatter"
                      }
                    ],
                    "scatter3d": [
                      {
                        "line": {
                          "colorbar": {
                            "outlinewidth": 0,
                            "ticks": ""
                          }
                        },
                        "marker": {
                          "colorbar": {
                            "outlinewidth": 0,
                            "ticks": ""
                          }
                        },
                        "type": "scatter3d"
                      }
                    ],
                    "scattercarpet": [
                      {
                        "marker": {
                          "colorbar": {
                            "outlinewidth": 0,
                            "ticks": ""
                          }
                        },
                        "type": "scattercarpet"
                      }
                    ],
                    "scattergeo": [
                      {
                        "marker": {
                          "colorbar": {
                            "outlinewidth": 0,
                            "ticks": ""
                          }
                        },
                        "type": "scattergeo"
                      }
                    ],
                    "scattergl": [
                      {
                        "marker": {
                          "colorbar": {
                            "outlinewidth": 0,
                            "ticks": ""
                          }
                        },
                        "type": "scattergl"
                      }
                    ],
                    "scattermap": [
                      {
                        "marker": {
                          "colorbar": {
                            "outlinewidth": 0,
                            "ticks": ""
                          }
                        },
                        "type": "scattermap"
                      }
                    ],
                    "scattermapbox": [
                      {
                        "marker": {
                          "colorbar": {
                            "outlinewidth": 0,
                            "ticks": ""
                          }
                        },
                        "type": "scattermapbox"
                      }
                    ],
                    "scatterpolar": [
                      {
                        "marker": {
                          "colorbar": {
                            "outlinewidth": 0,
                            "ticks": ""
                          }
                        },
                        "type": "scatterpolar"
                      }
                    ],
                    "scatterpolargl": [
                      {
                        "marker": {
                          "colorbar": {
                            "outlinewidth": 0,
                            "ticks": ""
                          }
                        },
                        "type": "scatterpolargl"
                      }
                    ],
                    "scatterternary": [
                      {
                        "marker": {
                          "colorbar": {
                            "outlinewidth": 0,
                            "ticks": ""
                          }
                        },
                        "type": "scatterternary"
                      }
                    ],
                    "surface": [
                      {
                        "colorbar": {
                          "outlinewidth": 0,
                          "ticks": ""
                        },
                        "colorscale": [
                          [
                            0,
                            "#0d0887"
                          ],
                          [
                            0.1111111111111111,
                            "#46039f"
                          ],
                          [
                            0.2222222222222222,
                            "#7201a8"
                          ],
                          [
                            0.3333333333333333,
                            "#9c179e"
                          ],
                          [
                            0.4444444444444444,
                            "#bd3786"
                          ],
                          [
                            0.5555555555555556,
                            "#d8576b"
                          ],
                          [
                            0.6666666666666666,
                            "#ed7953"
                          ],
                          [
                            0.7777777777777778,
                            "#fb9f3a"
                          ],
                          [
                            0.8888888888888888,
                            "#fdca26"
                          ],
                          [
                            1,
                            "#f0f921"
                          ]
                        ],
                        "type": "surface"
                      }
                    ],
                    "table": [
                      {
                        "cells": {
                          "fill": {
                            "color": "#EBF0F8"
                          },
                          "line": {
                            "color": "white"
                          }
                        },
                        "header": {
                          "fill": {
                            "color": "#C8D4E3"
                          },
                          "line": {
                            "color": "white"
                          }
                        },
                        "type": "table"
                      }
                    ]
                  },
                  "layout": {
                    "annotationdefaults": {
                      "arrowcolor": "#2a3f5f",
                      "arrowhead": 0,
                      "arrowwidth": 1
                    },
                    "autotypenumbers": "strict",
                    "coloraxis": {
                      "colorbar": {
                        "outlinewidth": 0,
                        "ticks": ""
                      }
                    },
                    "colorscale": {
                      "diverging": [
                        [
                          0,
                          "#8e0152"
                        ],
                        [
                          0.1,
                          "#c51b7d"
                        ],
                        [
                          0.2,
                          "#de77ae"
                        ],
                        [
                          0.3,
                          "#f1b6da"
                        ],
                        [
                          0.4,
                          "#fde0ef"
                        ],
                        [
                          0.5,
                          "#f7f7f7"
                        ],
                        [
                          0.6,
                          "#e6f5d0"
                        ],
                        [
                          0.7,
                          "#b8e186"
                        ],
                        [
                          0.8,
                          "#7fbc41"
                        ],
                        [
                          0.9,
                          "#4d9221"
                        ],
                        [
                          1,
                          "#276419"
                        ]
                      ],
                      "sequential": [
                        [
                          0,
                          "#0d0887"
                        ],
                        [
                          0.1111111111111111,
                          "#46039f"
                        ],
                        [
                          0.2222222222222222,
                          "#7201a8"
                        ],
                        [
                          0.3333333333333333,
                          "#9c179e"
                        ],
                        [
                          0.4444444444444444,
                          "#bd3786"
                        ],
                        [
                          0.5555555555555556,
                          "#d8576b"
                        ],
                        [
                          0.6666666666666666,
                          "#ed7953"
                        ],
                        [
                          0.7777777777777778,
                          "#fb9f3a"
                        ],
                        [
                          0.8888888888888888,
                          "#fdca26"
                        ],
                        [
                          1,
                          "#f0f921"
                        ]
                      ],
                      "sequentialminus": [
                        [
                          0,
                          "#0d0887"
                        ],
                        [
                          0.1111111111111111,
                          "#46039f"
                        ],
                        [
                          0.2222222222222222,
                          "#7201a8"
                        ],
                        [
                          0.3333333333333333,
                          "#9c179e"
                        ],
                        [
                          0.4444444444444444,
                          "#bd3786"
                        ],
                        [
                          0.5555555555555556,
                          "#d8576b"
                        ],
                        [
                          0.6666666666666666,
                          "#ed7953"
                        ],
                        [
                          0.7777777777777778,
                          "#fb9f3a"
                        ],
                        [
                          0.8888888888888888,
                          "#fdca26"
                        ],
                        [
                          1,
                          "#f0f921"
                        ]
                      ]
                    },
                    "colorway": [
                      "#636efa",
                      "#EF553B",
                      "#00cc96",
                      "#ab63fa",
                      "#FFA15A",
                      "#19d3f3",
                      "#FF6692",
                      "#B6E880",
                      "#FF97FF",
                      "#FECB52"
                    ],
                    "font": {
                      "color": "#2a3f5f"
                    },
                    "geo": {
                      "bgcolor": "white",
                      "lakecolor": "white",
                      "landcolor": "#E5ECF6",
                      "showlakes": true,
                      "showland": true,
                      "subunitcolor": "white"
                    },
                    "hoverlabel": {
                      "align": "left"
                    },
                    "hovermode": "closest",
                    "mapbox": {
                      "style": "light"
                    },
                    "paper_bgcolor": "white",
                    "plot_bgcolor": "#E5ECF6",
                    "polar": {
                      "angularaxis": {
                        "gridcolor": "white",
                        "linecolor": "white",
                        "ticks": ""
                      },
                      "bgcolor": "#E5ECF6",
                      "radialaxis": {
                        "gridcolor": "white",
                        "linecolor": "white",
                        "ticks": ""
                      }
                    },
                    "scene": {
                      "xaxis": {
                        "backgroundcolor": "#E5ECF6",
                        "gridcolor": "white",
                        "gridwidth": 2,
                        "linecolor": "white",
                        "showbackground": true,
                        "ticks": "",
                        "zerolinecolor": "white"
                      },
                      "yaxis": {
                        "backgroundcolor": "#E5ECF6",
                        "gridcolor": "white",
                        "gridwidth": 2,
                        "linecolor": "white",
                        "showbackground": true,
                        "ticks": "",
                        "zerolinecolor": "white"
                      },
                      "zaxis": {
                        "backgroundcolor": "#E5ECF6",
                        "gridcolor": "white",
                        "gridwidth": 2,
                        "linecolor": "white",
                        "showbackground": true,
                        "ticks": "",
                        "zerolinecolor": "white"
                      }
                    },
                    "shapedefaults": {
                      "line": {
                        "color": "#2a3f5f"
                      }
                    },
                    "ternary": {
                      "aaxis": {
                        "gridcolor": "white",
                        "linecolor": "white",
                        "ticks": ""
                      },
                      "baxis": {
                        "gridcolor": "white",
                        "linecolor": "white",
                        "ticks": ""
                      },
                      "bgcolor": "#E5ECF6",
                      "caxis": {
                        "gridcolor": "white",
                        "linecolor": "white",
                        "ticks": ""
                      }
                    },
                    "title": {
                      "x": 0.05
                    },
                    "xaxis": {
                      "automargin": true,
                      "gridcolor": "white",
                      "linecolor": "white",
                      "ticks": "",
                      "title": {
                        "standoff": 15
                      },
                      "zerolinecolor": "white",
                      "zerolinewidth": 2
                    },
                    "yaxis": {
                      "automargin": true,
                      "gridcolor": "white",
                      "linecolor": "white",
                      "ticks": "",
                      "title": {
                        "standoff": 15
                      },
                      "zerolinecolor": "white",
                      "zerolinewidth": 2
                    }
                  }
                },
                "title": {
                  "text": "Горизонтальная столбчатая диаграмма выручки по компаниям"
                },
                "xaxis": {
                  "anchor": "y",
                  "domain": [
                    0,
                    1
                  ],
                  "title": {
                    "text": "Выручка (руб) 2023/2024"
                  }
                },
                "yaxis": {
                  "anchor": "x",
                  "domain": [
                    0,
                    1
                  ],
                  "title": {
                    "text": "Краткое название"
                  }
                }
              }
            }
          },
          "metadata": {},
          "output_type": "display_data"
        },
        {
          "data": {
            "application/vnd.plotly.v1+json": {
              "config": {
                "plotlyServerURL": "https://plot.ly"
              },
              "data": [
                {
                  "hovertemplate": "Компания=Корпорация «Синергия»<br>Краткое название=%{x}<br>Выручка (руб) 2023/2024=%{marker.size}<extra></extra>",
                  "legendgroup": "Корпорация «Синергия»",
                  "marker": {
                    "color": "#636efa",
                    "size": {
                      "bdata": "AAAAAIDbyEA=",
                      "dtype": "f8"
                    },
                    "sizemode": "area",
                    "sizeref": 31.8175,
                    "symbol": "circle"
                  },
                  "mode": "markers",
                  "name": "Корпорация «Синергия»",
                  "orientation": "v",
                  "showlegend": true,
                  "type": "scatter",
                  "x": [
                    "Корпорация «Синергия»"
                  ],
                  "xaxis": "x",
                  "y": {
                    "bdata": "AAAAAIDbyEA=",
                    "dtype": "f8"
                  },
                  "yaxis": "y"
                },
                {
                  "hovertemplate": "Компания=Skillbox Holding Limited (Skillbox, Geekbrains, Skillfactory, Mentorama, Lerna)<br>Краткое название=%{x}<br>Выручка (руб) 2023/2024=%{marker.size}<extra></extra>",
                  "legendgroup": "Skillbox Holding Limited (Skillbox, Geekbrains, Skillfactory, Mentorama, Lerna)",
                  "marker": {
                    "color": "#EF553B",
                    "size": {
                      "bdata": "AAAAAADUx0A=",
                      "dtype": "f8"
                    },
                    "sizemode": "area",
                    "sizeref": 31.8175,
                    "symbol": "circle"
                  },
                  "mode": "markers",
                  "name": "Skillbox Holding Limited (Skillbox, Geekbrains, Skillfactory, Mentorama, Lerna)",
                  "orientation": "v",
                  "showlegend": true,
                  "type": "scatter",
                  "x": [
                    "Skillbox Holding Limited"
                  ],
                  "xaxis": "x",
                  "y": {
                    "bdata": "AAAAAADUx0A=",
                    "dtype": "f8"
                  },
                  "yaxis": "y"
                },
                {
                  "hovertemplate": "Компания=Группа компаний Skyeng (Skyeng, Skysmart, Skypro)<br>Краткое название=%{x}<br>Выручка (руб) 2023/2024=%{marker.size}<extra></extra>",
                  "legendgroup": "Группа компаний Skyeng (Skyeng, Skysmart, Skypro)",
                  "marker": {
                    "color": "#00cc96",
                    "size": {
                      "bdata": "AAAAAACix0A=",
                      "dtype": "f8"
                    },
                    "sizemode": "area",
                    "sizeref": 31.8175,
                    "symbol": "circle"
                  },
                  "mode": "markers",
                  "name": "Группа компаний Skyeng (Skyeng, Skysmart, Skypro)",
                  "orientation": "v",
                  "showlegend": true,
                  "type": "scatter",
                  "x": [
                    "Группа компаний Skyeng"
                  ],
                  "xaxis": "x",
                  "y": {
                    "bdata": "AAAAAACix0A=",
                    "dtype": "f8"
                  },
                  "yaxis": "y"
                },
                {
                  "hovertemplate": "Компания=Яндекс.Практикум<br>Краткое название=%{x}<br>Выручка (руб) 2023/2024=%{marker.size}<extra></extra>",
                  "legendgroup": "Яндекс.Практикум",
                  "marker": {
                    "color": "#ab63fa",
                    "size": {
                      "bdata": "AAAAAAAdwEA=",
                      "dtype": "f8"
                    },
                    "sizemode": "area",
                    "sizeref": 31.8175,
                    "symbol": "circle"
                  },
                  "mode": "markers",
                  "name": "Яндекс.Практикум",
                  "orientation": "v",
                  "showlegend": true,
                  "type": "scatter",
                  "x": [
                    "Яндекс.Практикум"
                  ],
                  "xaxis": "x",
                  "y": {
                    "bdata": "AAAAAAAdwEA=",
                    "dtype": "f8"
                  },
                  "yaxis": "y"
                },
                {
                  "hovertemplate": "Компания=GetCourse<br>Краткое название=%{x}<br>Выручка (руб) 2023/2024=%{marker.size}<extra></extra>",
                  "legendgroup": "GetCourse",
                  "marker": {
                    "color": "#FFA15A",
                    "size": {
                      "bdata": "AAAAAAAiukA=",
                      "dtype": "f8"
                    },
                    "sizemode": "area",
                    "sizeref": 31.8175,
                    "symbol": "circle"
                  },
                  "mode": "markers",
                  "name": "GetCourse",
                  "orientation": "v",
                  "showlegend": true,
                  "type": "scatter",
                  "x": [
                    "GetCourse"
                  ],
                  "xaxis": "x",
                  "y": {
                    "bdata": "AAAAAAAiukA=",
                    "dtype": "f8"
                  },
                  "yaxis": "y"
                },
                {
                  "hovertemplate": "Компания=Компьютерная академия ТOP<br>Краткое название=%{x}<br>Выручка (руб) 2023/2024=%{marker.size}<extra></extra>",
                  "legendgroup": "Компьютерная академия ТOP",
                  "marker": {
                    "color": "#19d3f3",
                    "size": {
                      "bdata": "AAAAAACCuUA=",
                      "dtype": "f8"
                    },
                    "sizemode": "area",
                    "sizeref": 31.8175,
                    "symbol": "circle"
                  },
                  "mode": "markers",
                  "name": "Компьютерная академия ТOP",
                  "orientation": "v",
                  "showlegend": true,
                  "type": "scatter",
                  "x": [
                    "Компьютерная академия ТOP"
                  ],
                  "xaxis": "x",
                  "y": {
                    "bdata": "AAAAAACCuUA=",
                    "dtype": "f8"
                  },
                  "yaxis": "y"
                },
                {
                  "hovertemplate": "Компания=Фоксфорд<br>Краткое название=%{x}<br>Выручка (руб) 2023/2024=%{marker.size}<extra></extra>",
                  "legendgroup": "Фоксфорд",
                  "marker": {
                    "color": "#FF6692",
                    "size": {
                      "bdata": "AAAAAABZtEA=",
                      "dtype": "f8"
                    },
                    "sizemode": "area",
                    "sizeref": 31.8175,
                    "symbol": "circle"
                  },
                  "mode": "markers",
                  "name": "Фоксфорд",
                  "orientation": "v",
                  "showlegend": true,
                  "type": "scatter",
                  "x": [
                    "Фоксфорд"
                  ],
                  "xaxis": "x",
                  "y": {
                    "bdata": "AAAAAABZtEA=",
                    "dtype": "f8"
                  },
                  "yaxis": "y"
                },
                {
                  "hovertemplate": "Компания=Учи.ру<br>Краткое название=%{x}<br>Выручка (руб) 2023/2024=%{marker.size}<extra></extra>",
                  "legendgroup": "Учи.ру",
                  "marker": {
                    "color": "#B6E880",
                    "size": {
                      "bdata": "AAAAAABQtEA=",
                      "dtype": "f8"
                    },
                    "sizemode": "area",
                    "sizeref": 31.8175,
                    "symbol": "circle"
                  },
                  "mode": "markers",
                  "name": "Учи.ру",
                  "orientation": "v",
                  "showlegend": true,
                  "type": "scatter",
                  "x": [
                    "Учи.ру"
                  ],
                  "xaxis": "x",
                  "y": {
                    "bdata": "AAAAAABQtEA=",
                    "dtype": "f8"
                  },
                  "yaxis": "y"
                },
                {
                  "hovertemplate": "Компания=Умскул<br>Краткое название=%{x}<br>Выручка (руб) 2023/2024=%{marker.size}<extra></extra>",
                  "legendgroup": "Умскул",
                  "marker": {
                    "color": "#FF97FF",
                    "size": {
                      "bdata": "AAAAAACnskA=",
                      "dtype": "f8"
                    },
                    "sizemode": "area",
                    "sizeref": 31.8175,
                    "symbol": "circle"
                  },
                  "mode": "markers",
                  "name": "Умскул",
                  "orientation": "v",
                  "showlegend": true,
                  "type": "scatter",
                  "x": [
                    "Умскул"
                  ],
                  "xaxis": "x",
                  "y": {
                    "bdata": "AAAAAACnskA=",
                    "dtype": "f8"
                  },
                  "yaxis": "y"
                },
                {
                  "hovertemplate": "Компания=Актион Университет<br>Краткое название=%{x}<br>Выручка (руб) 2023/2024=%{marker.size}<extra></extra>",
                  "legendgroup": "Актион Университет",
                  "marker": {
                    "color": "#FECB52",
                    "size": {
                      "bdata": "AAAAAACwsUA=",
                      "dtype": "f8"
                    },
                    "sizemode": "area",
                    "sizeref": 31.8175,
                    "symbol": "circle"
                  },
                  "mode": "markers",
                  "name": "Актион Университет",
                  "orientation": "v",
                  "showlegend": true,
                  "type": "scatter",
                  "x": [
                    "Актион Университет"
                  ],
                  "xaxis": "x",
                  "y": {
                    "bdata": "AAAAAACwsUA=",
                    "dtype": "f8"
                  },
                  "yaxis": "y"
                }
              ],
              "layout": {
                "legend": {
                  "itemsizing": "constant",
                  "title": {
                    "text": "Компания"
                  },
                  "tracegroupgap": 0
                },
                "template": {
                  "data": {
                    "bar": [
                      {
                        "error_x": {
                          "color": "#2a3f5f"
                        },
                        "error_y": {
                          "color": "#2a3f5f"
                        },
                        "marker": {
                          "line": {
                            "color": "#E5ECF6",
                            "width": 0.5
                          },
                          "pattern": {
                            "fillmode": "overlay",
                            "size": 10,
                            "solidity": 0.2
                          }
                        },
                        "type": "bar"
                      }
                    ],
                    "barpolar": [
                      {
                        "marker": {
                          "line": {
                            "color": "#E5ECF6",
                            "width": 0.5
                          },
                          "pattern": {
                            "fillmode": "overlay",
                            "size": 10,
                            "solidity": 0.2
                          }
                        },
                        "type": "barpolar"
                      }
                    ],
                    "carpet": [
                      {
                        "aaxis": {
                          "endlinecolor": "#2a3f5f",
                          "gridcolor": "white",
                          "linecolor": "white",
                          "minorgridcolor": "white",
                          "startlinecolor": "#2a3f5f"
                        },
                        "baxis": {
                          "endlinecolor": "#2a3f5f",
                          "gridcolor": "white",
                          "linecolor": "white",
                          "minorgridcolor": "white",
                          "startlinecolor": "#2a3f5f"
                        },
                        "type": "carpet"
                      }
                    ],
                    "choropleth": [
                      {
                        "colorbar": {
                          "outlinewidth": 0,
                          "ticks": ""
                        },
                        "type": "choropleth"
                      }
                    ],
                    "contour": [
                      {
                        "colorbar": {
                          "outlinewidth": 0,
                          "ticks": ""
                        },
                        "colorscale": [
                          [
                            0,
                            "#0d0887"
                          ],
                          [
                            0.1111111111111111,
                            "#46039f"
                          ],
                          [
                            0.2222222222222222,
                            "#7201a8"
                          ],
                          [
                            0.3333333333333333,
                            "#9c179e"
                          ],
                          [
                            0.4444444444444444,
                            "#bd3786"
                          ],
                          [
                            0.5555555555555556,
                            "#d8576b"
                          ],
                          [
                            0.6666666666666666,
                            "#ed7953"
                          ],
                          [
                            0.7777777777777778,
                            "#fb9f3a"
                          ],
                          [
                            0.8888888888888888,
                            "#fdca26"
                          ],
                          [
                            1,
                            "#f0f921"
                          ]
                        ],
                        "type": "contour"
                      }
                    ],
                    "contourcarpet": [
                      {
                        "colorbar": {
                          "outlinewidth": 0,
                          "ticks": ""
                        },
                        "type": "contourcarpet"
                      }
                    ],
                    "heatmap": [
                      {
                        "colorbar": {
                          "outlinewidth": 0,
                          "ticks": ""
                        },
                        "colorscale": [
                          [
                            0,
                            "#0d0887"
                          ],
                          [
                            0.1111111111111111,
                            "#46039f"
                          ],
                          [
                            0.2222222222222222,
                            "#7201a8"
                          ],
                          [
                            0.3333333333333333,
                            "#9c179e"
                          ],
                          [
                            0.4444444444444444,
                            "#bd3786"
                          ],
                          [
                            0.5555555555555556,
                            "#d8576b"
                          ],
                          [
                            0.6666666666666666,
                            "#ed7953"
                          ],
                          [
                            0.7777777777777778,
                            "#fb9f3a"
                          ],
                          [
                            0.8888888888888888,
                            "#fdca26"
                          ],
                          [
                            1,
                            "#f0f921"
                          ]
                        ],
                        "type": "heatmap"
                      }
                    ],
                    "histogram": [
                      {
                        "marker": {
                          "pattern": {
                            "fillmode": "overlay",
                            "size": 10,
                            "solidity": 0.2
                          }
                        },
                        "type": "histogram"
                      }
                    ],
                    "histogram2d": [
                      {
                        "colorbar": {
                          "outlinewidth": 0,
                          "ticks": ""
                        },
                        "colorscale": [
                          [
                            0,
                            "#0d0887"
                          ],
                          [
                            0.1111111111111111,
                            "#46039f"
                          ],
                          [
                            0.2222222222222222,
                            "#7201a8"
                          ],
                          [
                            0.3333333333333333,
                            "#9c179e"
                          ],
                          [
                            0.4444444444444444,
                            "#bd3786"
                          ],
                          [
                            0.5555555555555556,
                            "#d8576b"
                          ],
                          [
                            0.6666666666666666,
                            "#ed7953"
                          ],
                          [
                            0.7777777777777778,
                            "#fb9f3a"
                          ],
                          [
                            0.8888888888888888,
                            "#fdca26"
                          ],
                          [
                            1,
                            "#f0f921"
                          ]
                        ],
                        "type": "histogram2d"
                      }
                    ],
                    "histogram2dcontour": [
                      {
                        "colorbar": {
                          "outlinewidth": 0,
                          "ticks": ""
                        },
                        "colorscale": [
                          [
                            0,
                            "#0d0887"
                          ],
                          [
                            0.1111111111111111,
                            "#46039f"
                          ],
                          [
                            0.2222222222222222,
                            "#7201a8"
                          ],
                          [
                            0.3333333333333333,
                            "#9c179e"
                          ],
                          [
                            0.4444444444444444,
                            "#bd3786"
                          ],
                          [
                            0.5555555555555556,
                            "#d8576b"
                          ],
                          [
                            0.6666666666666666,
                            "#ed7953"
                          ],
                          [
                            0.7777777777777778,
                            "#fb9f3a"
                          ],
                          [
                            0.8888888888888888,
                            "#fdca26"
                          ],
                          [
                            1,
                            "#f0f921"
                          ]
                        ],
                        "type": "histogram2dcontour"
                      }
                    ],
                    "mesh3d": [
                      {
                        "colorbar": {
                          "outlinewidth": 0,
                          "ticks": ""
                        },
                        "type": "mesh3d"
                      }
                    ],
                    "parcoords": [
                      {
                        "line": {
                          "colorbar": {
                            "outlinewidth": 0,
                            "ticks": ""
                          }
                        },
                        "type": "parcoords"
                      }
                    ],
                    "pie": [
                      {
                        "automargin": true,
                        "type": "pie"
                      }
                    ],
                    "scatter": [
                      {
                        "fillpattern": {
                          "fillmode": "overlay",
                          "size": 10,
                          "solidity": 0.2
                        },
                        "type": "scatter"
                      }
                    ],
                    "scatter3d": [
                      {
                        "line": {
                          "colorbar": {
                            "outlinewidth": 0,
                            "ticks": ""
                          }
                        },
                        "marker": {
                          "colorbar": {
                            "outlinewidth": 0,
                            "ticks": ""
                          }
                        },
                        "type": "scatter3d"
                      }
                    ],
                    "scattercarpet": [
                      {
                        "marker": {
                          "colorbar": {
                            "outlinewidth": 0,
                            "ticks": ""
                          }
                        },
                        "type": "scattercarpet"
                      }
                    ],
                    "scattergeo": [
                      {
                        "marker": {
                          "colorbar": {
                            "outlinewidth": 0,
                            "ticks": ""
                          }
                        },
                        "type": "scattergeo"
                      }
                    ],
                    "scattergl": [
                      {
                        "marker": {
                          "colorbar": {
                            "outlinewidth": 0,
                            "ticks": ""
                          }
                        },
                        "type": "scattergl"
                      }
                    ],
                    "scattermap": [
                      {
                        "marker": {
                          "colorbar": {
                            "outlinewidth": 0,
                            "ticks": ""
                          }
                        },
                        "type": "scattermap"
                      }
                    ],
                    "scattermapbox": [
                      {
                        "marker": {
                          "colorbar": {
                            "outlinewidth": 0,
                            "ticks": ""
                          }
                        },
                        "type": "scattermapbox"
                      }
                    ],
                    "scatterpolar": [
                      {
                        "marker": {
                          "colorbar": {
                            "outlinewidth": 0,
                            "ticks": ""
                          }
                        },
                        "type": "scatterpolar"
                      }
                    ],
                    "scatterpolargl": [
                      {
                        "marker": {
                          "colorbar": {
                            "outlinewidth": 0,
                            "ticks": ""
                          }
                        },
                        "type": "scatterpolargl"
                      }
                    ],
                    "scatterternary": [
                      {
                        "marker": {
                          "colorbar": {
                            "outlinewidth": 0,
                            "ticks": ""
                          }
                        },
                        "type": "scatterternary"
                      }
                    ],
                    "surface": [
                      {
                        "colorbar": {
                          "outlinewidth": 0,
                          "ticks": ""
                        },
                        "colorscale": [
                          [
                            0,
                            "#0d0887"
                          ],
                          [
                            0.1111111111111111,
                            "#46039f"
                          ],
                          [
                            0.2222222222222222,
                            "#7201a8"
                          ],
                          [
                            0.3333333333333333,
                            "#9c179e"
                          ],
                          [
                            0.4444444444444444,
                            "#bd3786"
                          ],
                          [
                            0.5555555555555556,
                            "#d8576b"
                          ],
                          [
                            0.6666666666666666,
                            "#ed7953"
                          ],
                          [
                            0.7777777777777778,
                            "#fb9f3a"
                          ],
                          [
                            0.8888888888888888,
                            "#fdca26"
                          ],
                          [
                            1,
                            "#f0f921"
                          ]
                        ],
                        "type": "surface"
                      }
                    ],
                    "table": [
                      {
                        "cells": {
                          "fill": {
                            "color": "#EBF0F8"
                          },
                          "line": {
                            "color": "white"
                          }
                        },
                        "header": {
                          "fill": {
                            "color": "#C8D4E3"
                          },
                          "line": {
                            "color": "white"
                          }
                        },
                        "type": "table"
                      }
                    ]
                  },
                  "layout": {
                    "annotationdefaults": {
                      "arrowcolor": "#2a3f5f",
                      "arrowhead": 0,
                      "arrowwidth": 1
                    },
                    "autotypenumbers": "strict",
                    "coloraxis": {
                      "colorbar": {
                        "outlinewidth": 0,
                        "ticks": ""
                      }
                    },
                    "colorscale": {
                      "diverging": [
                        [
                          0,
                          "#8e0152"
                        ],
                        [
                          0.1,
                          "#c51b7d"
                        ],
                        [
                          0.2,
                          "#de77ae"
                        ],
                        [
                          0.3,
                          "#f1b6da"
                        ],
                        [
                          0.4,
                          "#fde0ef"
                        ],
                        [
                          0.5,
                          "#f7f7f7"
                        ],
                        [
                          0.6,
                          "#e6f5d0"
                        ],
                        [
                          0.7,
                          "#b8e186"
                        ],
                        [
                          0.8,
                          "#7fbc41"
                        ],
                        [
                          0.9,
                          "#4d9221"
                        ],
                        [
                          1,
                          "#276419"
                        ]
                      ],
                      "sequential": [
                        [
                          0,
                          "#0d0887"
                        ],
                        [
                          0.1111111111111111,
                          "#46039f"
                        ],
                        [
                          0.2222222222222222,
                          "#7201a8"
                        ],
                        [
                          0.3333333333333333,
                          "#9c179e"
                        ],
                        [
                          0.4444444444444444,
                          "#bd3786"
                        ],
                        [
                          0.5555555555555556,
                          "#d8576b"
                        ],
                        [
                          0.6666666666666666,
                          "#ed7953"
                        ],
                        [
                          0.7777777777777778,
                          "#fb9f3a"
                        ],
                        [
                          0.8888888888888888,
                          "#fdca26"
                        ],
                        [
                          1,
                          "#f0f921"
                        ]
                      ],
                      "sequentialminus": [
                        [
                          0,
                          "#0d0887"
                        ],
                        [
                          0.1111111111111111,
                          "#46039f"
                        ],
                        [
                          0.2222222222222222,
                          "#7201a8"
                        ],
                        [
                          0.3333333333333333,
                          "#9c179e"
                        ],
                        [
                          0.4444444444444444,
                          "#bd3786"
                        ],
                        [
                          0.5555555555555556,
                          "#d8576b"
                        ],
                        [
                          0.6666666666666666,
                          "#ed7953"
                        ],
                        [
                          0.7777777777777778,
                          "#fb9f3a"
                        ],
                        [
                          0.8888888888888888,
                          "#fdca26"
                        ],
                        [
                          1,
                          "#f0f921"
                        ]
                      ]
                    },
                    "colorway": [
                      "#636efa",
                      "#EF553B",
                      "#00cc96",
                      "#ab63fa",
                      "#FFA15A",
                      "#19d3f3",
                      "#FF6692",
                      "#B6E880",
                      "#FF97FF",
                      "#FECB52"
                    ],
                    "font": {
                      "color": "#2a3f5f"
                    },
                    "geo": {
                      "bgcolor": "white",
                      "lakecolor": "white",
                      "landcolor": "#E5ECF6",
                      "showlakes": true,
                      "showland": true,
                      "subunitcolor": "white"
                    },
                    "hoverlabel": {
                      "align": "left"
                    },
                    "hovermode": "closest",
                    "mapbox": {
                      "style": "light"
                    },
                    "paper_bgcolor": "white",
                    "plot_bgcolor": "#E5ECF6",
                    "polar": {
                      "angularaxis": {
                        "gridcolor": "white",
                        "linecolor": "white",
                        "ticks": ""
                      },
                      "bgcolor": "#E5ECF6",
                      "radialaxis": {
                        "gridcolor": "white",
                        "linecolor": "white",
                        "ticks": ""
                      }
                    },
                    "scene": {
                      "xaxis": {
                        "backgroundcolor": "#E5ECF6",
                        "gridcolor": "white",
                        "gridwidth": 2,
                        "linecolor": "white",
                        "showbackground": true,
                        "ticks": "",
                        "zerolinecolor": "white"
                      },
                      "yaxis": {
                        "backgroundcolor": "#E5ECF6",
                        "gridcolor": "white",
                        "gridwidth": 2,
                        "linecolor": "white",
                        "showbackground": true,
                        "ticks": "",
                        "zerolinecolor": "white"
                      },
                      "zaxis": {
                        "backgroundcolor": "#E5ECF6",
                        "gridcolor": "white",
                        "gridwidth": 2,
                        "linecolor": "white",
                        "showbackground": true,
                        "ticks": "",
                        "zerolinecolor": "white"
                      }
                    },
                    "shapedefaults": {
                      "line": {
                        "color": "#2a3f5f"
                      }
                    },
                    "ternary": {
                      "aaxis": {
                        "gridcolor": "white",
                        "linecolor": "white",
                        "ticks": ""
                      },
                      "baxis": {
                        "gridcolor": "white",
                        "linecolor": "white",
                        "ticks": ""
                      },
                      "bgcolor": "#E5ECF6",
                      "caxis": {
                        "gridcolor": "white",
                        "linecolor": "white",
                        "ticks": ""
                      }
                    },
                    "title": {
                      "x": 0.05
                    },
                    "xaxis": {
                      "automargin": true,
                      "gridcolor": "white",
                      "linecolor": "white",
                      "ticks": "",
                      "title": {
                        "standoff": 15
                      },
                      "zerolinecolor": "white",
                      "zerolinewidth": 2
                    },
                    "yaxis": {
                      "automargin": true,
                      "gridcolor": "white",
                      "linecolor": "white",
                      "ticks": "",
                      "title": {
                        "standoff": 15
                      },
                      "zerolinecolor": "white",
                      "zerolinewidth": 2
                    }
                  }
                },
                "title": {
                  "text": "Диаграмма с точками выручки по компаниям"
                },
                "xaxis": {
                  "anchor": "y",
                  "domain": [
                    0,
                    1
                  ],
                  "title": {
                    "text": "Краткое название"
                  }
                },
                "yaxis": {
                  "anchor": "x",
                  "domain": [
                    0,
                    1
                  ],
                  "title": {
                    "text": "Выручка (руб) 2023/2024"
                  }
                }
              }
            }
          },
          "metadata": {},
          "output_type": "display_data"
        }
      ],
      "source": [
        "# 1. Гистограмма \n",
        "fig1 = px.histogram(df, x='Выручка (руб) 2023/2024', title=\"Гистограмма выручки по компаниям\", nbins=10)\n",
        "fig1.show()\n",
        "\n",
        "# 2. Линейный график\n",
        "fig2 = px.line(df, x='Краткое название', y='Выручка (руб) 2023/2024', title=\"Линейный график выручки по компаниям\", markers=True)\n",
        "fig2.show()\n",
        "\n",
        "# 3. Столбчатая диаграмма\n",
        "fig3 = px.bar(df, x='Краткое название', y='Выручка (руб) 2023/2024', title=\"Столбчатая диаграмма выручки по компаниям\")\n",
        "fig3.show()\n",
        "\n",
        "# 4. Горизонтальная столбчатая диаграмма\n",
        "fig4 = px.bar(df, x='Выручка (руб) 2023/2024', y='Краткое название', title=\"Горизонтальная столбчатая диаграмма выручки по компаниям\", orientation='h')\n",
        "fig4.show()\n",
        "\n",
        "# 5. Диаграмма с точками \n",
        "fig5 = px.scatter(df, x='Краткое название', y='Выручка (руб) 2023/2024', title=\"Диаграмма с точками выручки по компаниям\", size='Выручка (руб) 2023/2024', color='Компания')\n",
        "fig5.show()"
      ]
    }
  ],
  "metadata": {
    "colab": {
      "provenance": []
    },
    "kernelspec": {
      "display_name": "base",
      "language": "python",
      "name": "python3"
    },
    "language_info": {
      "codemirror_mode": {
        "name": "ipython",
        "version": 3
      },
      "file_extension": ".py",
      "mimetype": "text/x-python",
      "name": "python",
      "nbconvert_exporter": "python",
      "pygments_lexer": "ipython3",
      "version": "3.8.5"
    }
  },
  "nbformat": 4,
  "nbformat_minor": 0
}
