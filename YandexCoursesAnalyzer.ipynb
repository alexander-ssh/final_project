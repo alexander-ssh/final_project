{
 "cells": [
  {
   "cell_type": "code",
   "execution_count": null,
   "metadata": {},
   "outputs": [],
   "source": [
    "import requests\n",
    "from bs4 import BeautifulSoup\n",
    "import pandas as pd"
   ]
  },
  {
   "cell_type": "code",
   "execution_count": null,
   "metadata": {},
   "outputs": [],
   "source": [
    "response = requests.get('https://practicum.yandex.ru/catalog/programming/')\n",
    "soup = BeautifulSoup(response.text, 'html.parser')\n",
    "cards = soup.find_all('a', class_='prof-card__content-link')"
   ]
  },
  {
   "cell_type": "code",
   "execution_count": null,
   "metadata": {},
   "outputs": [],
   "source": [
    "courses = []\n",
    "links = []\n",
    "for card in cards:\n",
    "    courses.append(card.text)\n",
    "    links.append(card.get('href'))"
   ]
  },
  {
   "cell_type": "code",
   "execution_count": null,
   "metadata": {},
   "outputs": [],
   "source": [
    "courses.pop(0)\n",
    "links.pop(0)"
   ]
  },
  {
   "cell_type": "code",
   "execution_count": null,
   "metadata": {},
   "outputs": [],
   "source": [
    "courses = [course.replace(\"\\xa0\", \"\") for course in courses]\n",
    "links = ['https://practicum.yandex.ru' + link for link in links]\n",
    "links = [link.replace(\"/?from=catalog\",\"\") for link in links]"
   ]
  },
  {
   "cell_type": "code",
   "execution_count": null,
   "metadata": {},
   "outputs": [],
   "source": [
    "df = pd.DataFrame({'Course':courses, 'Link':links, 'Price':None})"
   ]
  },
  {
   "cell_type": "code",
   "execution_count": null,
   "metadata": {},
   "outputs": [],
   "source": [
    "df['Price'] = None\n",
    "df.head()"
   ]
  },
  {
   "cell_type": "code",
   "execution_count": null,
   "metadata": {},
   "outputs": [],
   "source": [
    "\n",
    "from selenium import webdriver\n",
    "from selenium.webdriver.common.by import By\n",
    "from selenium.webdriver.common.keys import Keys\n",
    "from selenium.webdriver.support.ui import WebDriverWait\n",
    "from selenium.webdriver.support import expected_conditions as EC\n",
    "driver = webdriver.Chrome()\n",
    "driver.get('https://practicum.yandex.ru/catalog/programming')\n",
    "cards = WebDriverWait(driver,20).until(\n",
    "    EC.presence_of_all_elements_located((By.CLASS_NAME, \"prof-card__content-link\"))\n",
    ")   \n"
   ]
  },
  {
   "cell_type": "code",
   "execution_count": null,
   "metadata": {},
   "outputs": [],
   "source": [
    "\n",
    "import time\n",
    "for i, card in enumerate(cards):\n",
    "    \n",
    "    driver.execute_script(\"arguments[0].scrollIntoView(true);\", card)\n",
    "    time.sleep(1)\n",
    "    driver.implicitly_wait(5)\n",
    "    card.screenshot(f'{i}.png')\n",
    "    "
   ]
  },
  {
   "cell_type": "code",
   "execution_count": null,
   "metadata": {},
   "outputs": [],
   "source": [
    "import pytesseract\n",
    "import re\n",
    "from PIL import Image\n",
    "for i in range(1, len(cards)):\n",
    "    image = Image.open(f'{i}.png')\n",
    "    text = pytesseract.image_to_string(image, lang='rus')\n",
    "    pattern = r'(?:\\d+\\s)*\\d*[2Р?]\\b' \n",
    "    matches = re.findall(pattern, text)\n",
    "    if len(matches) == 0:\n",
    "        df.iloc[i-1]['Price'] = None\n",
    "    if len(matches) == 1:\n",
    "        df.iloc[i-1]['Price'] = int(matches[0][:-1].replace(\" \", \"\"))\n",
    "    if len(matches) == 2:\n",
    "        df.iloc[i-1]['Price'] = int(matches[1][:-1].replace(\" \", \"\"))"
   ]
  },
  {
   "cell_type": "code",
   "execution_count": null,
   "metadata": {},
   "outputs": [],
   "source": [
    "df"
   ]
  },
  {
   "cell_type": "code",
   "execution_count": null,
   "metadata": {},
   "outputs": [],
   "source": [
    "df.dropna(inplace=True)\n",
    "df"
   ]
  },
  {
   "cell_type": "code",
   "execution_count": null,
   "metadata": {},
   "outputs": [],
   "source": [
    "df.drop([54,55, 57], inplace=True) #Обработка исключений\n",
    "df\n"
   ]
  },
  {
   "cell_type": "code",
   "execution_count": null,
   "metadata": {},
   "outputs": [],
   "source": [
    "import seaborn as sns\n",
    "import matplotlib.pyplot as plt\n",
    "import numpy as np\n",
    "prices = df['Price'].to_numpy()\n",
    "print(prices)\n",
    "sns.set(style=\"whitegrid\")\n",
    "\n",
    "# Создание гистограммы\n",
    "plt.figure(figsize=(10, 6))  # Размер графика\n",
    "sns.histplot(prices, color='skyblue', bins=10, edgecolor='black')\n",
    "\n",
    "# Добавление заголовка и подписей осей\n",
    "plt.title('Распределение цен курсов Яндекс Практикума', fontsize=16)\n",
    "plt.xlabel('Значения', fontsize=14)\n",
    "plt.ylabel('Кол-во курсов', fontsize=14)\n",
    "\n",
    "# Отображение графика\n",
    "plt.show()"
   ]
  },
  {
   "cell_type": "code",
   "execution_count": null,
   "metadata": {},
   "outputs": [],
   "source": [
    "df_sorted = df.sort_values(by='Price')\n",
    "del df_sorted['Link']\n",
    "df_sorted = df_sorted.tail()"
   ]
  },
  {
   "cell_type": "code",
   "execution_count": null,
   "metadata": {},
   "outputs": [],
   "source": [
    "plt.figure(figsize=(8, 4))\n",
    "sns.set_style(\"whitegrid\")\n",
    "# Создаем таблицу с помощью seaborn\n",
    "table = plt.table(cellText=df_sorted.values,\n",
    "                  colLabels=df_sorted.columns,\n",
    "                  loc='center',\n",
    "                  cellLoc='center',\n",
    "                  colColours=['#f0f0f0']*len(df.columns))  # цвет заголовков\n",
    "\n",
    "# Настраиваем внешний вид таблицы\n",
    "table.auto_set_font_size(False)\n",
    "table.set_fontsize(12)\n",
    "table.scale(1.2, 1.5)  # масштабируем таблицу (ширина, высота ячеек)\n",
    "\n",
    "# Убираем оси\n",
    "plt.axis('off')\n",
    "\n",
    "# Показываем таблицу\n",
    "plt.show()"
   ]
  }
 ],
 "metadata": {
  "kernelspec": {
   "display_name": "Python 3",
   "language": "python",
   "name": "python3"
  },
  "language_info": {
   "codemirror_mode": {
    "name": "ipython",
    "version": 3
   },
   "file_extension": ".py",
   "mimetype": "text/x-python",
   "name": "python",
   "nbconvert_exporter": "python",
   "pygments_lexer": "ipython3",
   "version": "3.8.5"
  }
 },
 "nbformat": 4,
 "nbformat_minor": 2
}
