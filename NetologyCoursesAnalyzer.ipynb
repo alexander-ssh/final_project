{
 "cells": [
  {
   "cell_type": "code",
   "execution_count": null,
   "metadata": {},
   "outputs": [],
   "source": [
    "import requests\n",
    "from bs4 import BeautifulSoup\n",
    "import pandas as pd\n",
    "from selenium import webdriver\n",
    "from selenium.webdriver.common.by import By\n",
    "from selenium.webdriver.common.keys import Keys\n",
    "from selenium.webdriver.support.ui import WebDriverWait\n",
    "from selenium.webdriver.support import expected_conditions as EC\n",
    "driver = webdriver.Chrome()"
   ]
  },
  {
   "cell_type": "code",
   "execution_count": null,
   "metadata": {},
   "outputs": [],
   "source": [
    "driver.get('https://netology.ru/development')\n",
    "cards = WebDriverWait(driver,10).until(\n",
    "    EC.presence_of_all_elements_located((By.CLASS_NAME, \"programCard_root__7g9NK\"))\n",
    ")   "
   ]
  },
  {
   "cell_type": "code",
   "execution_count": null,
   "metadata": {},
   "outputs": [],
   "source": [
    "courses = []\n",
    "links = []\n",
    "for card in cards:\n",
    "    name = card.find_element(By.CLASS_NAME, '_eading_heading__K1tOF')\n",
    "    courses.append(name.text)\n",
    "    link = card.get_attribute('href')\n",
    "    links.append(link)"
   ]
  },
  {
   "cell_type": "code",
   "execution_count": null,
   "metadata": {},
   "outputs": [],
   "source": [
    "df = pd.DataFrame({'Course':courses, 'Link':links, 'Price':None})\n"
   ]
  },
  {
   "cell_type": "code",
   "execution_count": null,
   "metadata": {},
   "outputs": [],
   "source": [
    "import time\n",
    "from selenium import webdriver\n",
    "from selenium.webdriver.common.by import By\n",
    "from selenium.webdriver.support.ui import WebDriverWait\n",
    "from selenium.webdriver.support import expected_conditions as EC\n",
    "from selenium.common.exceptions import TimeoutException\n",
    "\n",
    "for index, row in df.iterrows():\n",
    "    driver.get(row['Link'])\n",
    "    \n",
    "    try:\n",
    "        # Пробуем найти первый класс\n",
    "        prices = WebDriverWait(driver, 10).until(\n",
    "            EC.presence_of_all_elements_located((By.CLASS_NAME, \"styles_price__Yfebc\"))\n",
    "        )\n",
    "        print(row['Course'], [price.text for price in prices])\n",
    "        if len(prices[0].text) == 0:\n",
    "            row['Price'] = int(prices[1].text.replace(\"\\n ₽\", \"\").replace(\" \", \"\"))\n",
    "        else:\n",
    "   \n",
    "            row['Price'] = int(prices[0].text.replace(\"\\n ₽\", \"\").replace(\" \", \"\"))\n",
    "    except TimeoutException:\n",
    "        # Если первый класс не найден, пробуем второй\n",
    "        try:\n",
    "            prices = WebDriverWait(driver, 10).until(\n",
    "                EC.presence_of_all_elements_located((By.CLASS_NAME, \"styles_currentPrice__Pf7BA\"))\n",
    "            )\n",
    "            print(row['Course'], [price.text for price in prices])\n",
    "            if len(prices[0].text) == 0:\n",
    "                row['Price'] = int(prices[1].text.replace(\"\\n ₽\", \"\").replace(\" \", \"\"))\n",
    "            else:\n",
    "\n",
    "                row['Price'] = int(prices[0].text.replace(\"\\n ₽\", \"\").replace(\" \", \"\"))\n",
    "        except TimeoutException:\n",
    "            print(f\"Для курса {row['Course']} цена не найдена по обоим классам\")\n",
    "    print(row['Course'], row['Price'])\n",
    "    time.sleep(1)"
   ]
  },
  {
   "cell_type": "code",
   "execution_count": null,
   "metadata": {},
   "outputs": [],
   "source": [
    "df"
   ]
  }
 ],
 "metadata": {
  "kernelspec": {
   "display_name": "Python 3",
   "language": "python",
   "name": "python3"
  },
  "language_info": {
   "codemirror_mode": {
    "name": "ipython",
    "version": 3
   },
   "file_extension": ".py",
   "mimetype": "text/x-python",
   "name": "python",
   "nbconvert_exporter": "python",
   "pygments_lexer": "ipython3",
   "version": "3.8.5"
  }
 },
 "nbformat": 4,
 "nbformat_minor": 2
}
