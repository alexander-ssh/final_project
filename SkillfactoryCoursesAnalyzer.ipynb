{
 "cells": [
  {
   "cell_type": "code",
   "execution_count": 1,
   "metadata": {},
   "outputs": [
    {
     "name": "stderr",
     "output_type": "stream",
     "text": [
      "There was an error managing chromedriver (error sending request for url (https://googlechromelabs.github.io/chrome-for-testing/known-good-versions-with-downloads.json)); using driver found in the cache\n"
     ]
    }
   ],
   "source": [
    "import requests\n",
    "from bs4 import BeautifulSoup\n",
    "import pandas as pd\n",
    "from selenium import webdriver\n",
    "from selenium.webdriver.common.by import By\n",
    "from selenium.webdriver.common.keys import Keys\n",
    "from selenium.webdriver.support.ui import WebDriverWait\n",
    "from selenium.webdriver.support import expected_conditions as EC\n",
    "driver = webdriver.Chrome()"
   ]
  },
  {
   "cell_type": "code",
   "execution_count": 2,
   "metadata": {},
   "outputs": [],
   "source": [
    "driver.get('https://skillfactory.ru/courses/programmirovanie')\n",
    "cards = WebDriverWait(driver,10).until(\n",
    "    EC.presence_of_all_elements_located((By.CLASS_NAME, \"card\"))\n",
    ")   "
   ]
  },
  {
   "cell_type": "code",
   "execution_count": 3,
   "metadata": {},
   "outputs": [],
   "source": [
    "courses = []\n",
    "prices = []\n",
    "for card in cards:\n",
    "    try:\n",
    "        name = card.find_element(By.CLASS_NAME, 'title__link')\n",
    "        price = card.find_element(By.CLASS_NAME, 'card__current-price')\n",
    "        \n",
    "        prices.append(int(price.text.replace(\" ₽/мес\", \"\"))) #Если бесплатно или стоимость не в месяц, то здесь выдаст ошибку и данные просто не добавятся\n",
    "        courses.append(name.text)\n",
    "    except:\n",
    "        pass\n"
   ]
  },
  {
   "cell_type": "code",
   "execution_count": 9,
   "metadata": {},
   "outputs": [],
   "source": [
    "driver.quit()"
   ]
  },
  {
   "cell_type": "code",
   "execution_count": 4,
   "metadata": {},
   "outputs": [],
   "source": [
    "df = pd.DataFrame({'Course':courses,  'Price (monthly)': prices})"
   ]
  },
  {
   "cell_type": "code",
   "execution_count": 5,
   "metadata": {},
   "outputs": [
    {
     "data": {
      "text/html": [
       "<div>\n",
       "<style scoped>\n",
       "    .dataframe tbody tr th:only-of-type {\n",
       "        vertical-align: middle;\n",
       "    }\n",
       "\n",
       "    .dataframe tbody tr th {\n",
       "        vertical-align: top;\n",
       "    }\n",
       "\n",
       "    .dataframe thead th {\n",
       "        text-align: right;\n",
       "    }\n",
       "</style>\n",
       "<table border=\"1\" class=\"dataframe\">\n",
       "  <thead>\n",
       "    <tr style=\"text-align: right;\">\n",
       "      <th></th>\n",
       "      <th>Course</th>\n",
       "      <th>Price (monthly)</th>\n",
       "    </tr>\n",
       "  </thead>\n",
       "  <tbody>\n",
       "    <tr>\n",
       "      <th>0</th>\n",
       "      <td>C++ разработчик</td>\n",
       "      <td>3190</td>\n",
       "    </tr>\n",
       "    <tr>\n",
       "      <th>1</th>\n",
       "      <td>DevOps-инженер</td>\n",
       "      <td>3016</td>\n",
       "    </tr>\n",
       "    <tr>\n",
       "      <th>2</th>\n",
       "      <td>Frontend-разработчик</td>\n",
       "      <td>2548</td>\n",
       "    </tr>\n",
       "    <tr>\n",
       "      <th>3</th>\n",
       "      <td>Frontend-разработчик PRO</td>\n",
       "      <td>3722</td>\n",
       "    </tr>\n",
       "    <tr>\n",
       "      <th>4</th>\n",
       "      <td>Разработчик игр на Unity PRO</td>\n",
       "      <td>5243</td>\n",
       "    </tr>\n",
       "    <tr>\n",
       "      <th>5</th>\n",
       "      <td>Backend-разработчик на Go</td>\n",
       "      <td>3392</td>\n",
       "    </tr>\n",
       "    <tr>\n",
       "      <th>6</th>\n",
       "      <td>«Белый» хакер</td>\n",
       "      <td>3997</td>\n",
       "    </tr>\n",
       "    <tr>\n",
       "      <th>7</th>\n",
       "      <td>Мобильный разработчик</td>\n",
       "      <td>4690</td>\n",
       "    </tr>\n",
       "    <tr>\n",
       "      <th>8</th>\n",
       "      <td>Python для веб-разработки</td>\n",
       "      <td>4386</td>\n",
       "    </tr>\n",
       "    <tr>\n",
       "      <th>9</th>\n",
       "      <td>Инженер по ручному тестированию</td>\n",
       "      <td>2200</td>\n",
       "    </tr>\n",
       "    <tr>\n",
       "      <th>10</th>\n",
       "      <td>Тестировщик-автоматизатор на Python</td>\n",
       "      <td>3584</td>\n",
       "    </tr>\n",
       "    <tr>\n",
       "      <th>11</th>\n",
       "      <td>Fullstack-разработчик на PHP и JavaScript</td>\n",
       "      <td>4391</td>\n",
       "    </tr>\n",
       "    <tr>\n",
       "      <th>12</th>\n",
       "      <td>Java-разработчик</td>\n",
       "      <td>3933</td>\n",
       "    </tr>\n",
       "    <tr>\n",
       "      <th>13</th>\n",
       "      <td>C#-разработчик</td>\n",
       "      <td>3108</td>\n",
       "    </tr>\n",
       "    <tr>\n",
       "      <th>14</th>\n",
       "      <td>Веб-разработчик с нуля</td>\n",
       "      <td>3804</td>\n",
       "    </tr>\n",
       "    <tr>\n",
       "      <th>15</th>\n",
       "      <td>JavaScript-разработчик</td>\n",
       "      <td>2548</td>\n",
       "    </tr>\n",
       "    <tr>\n",
       "      <th>16</th>\n",
       "      <td>SQL для анализа данных</td>\n",
       "      <td>1733</td>\n",
       "    </tr>\n",
       "    <tr>\n",
       "      <th>17</th>\n",
       "      <td>Разработчик игр на Unity</td>\n",
       "      <td>3905</td>\n",
       "    </tr>\n",
       "    <tr>\n",
       "      <th>18</th>\n",
       "      <td>Android-разработчик</td>\n",
       "      <td>4437</td>\n",
       "    </tr>\n",
       "    <tr>\n",
       "      <th>19</th>\n",
       "      <td>iOS-разработчик c нуля</td>\n",
       "      <td>4299</td>\n",
       "    </tr>\n",
       "    <tr>\n",
       "      <th>20</th>\n",
       "      <td>Java-разработчик на Spring Framework</td>\n",
       "      <td>4419</td>\n",
       "    </tr>\n",
       "    <tr>\n",
       "      <th>21</th>\n",
       "      <td>Интенсив Frontend-разработчик</td>\n",
       "      <td>3699</td>\n",
       "    </tr>\n",
       "    <tr>\n",
       "      <th>22</th>\n",
       "      <td>Интенсив Инженер по ручному тестированию</td>\n",
       "      <td>3575</td>\n",
       "    </tr>\n",
       "    <tr>\n",
       "      <th>23</th>\n",
       "      <td>Интенсив Python-разработчик</td>\n",
       "      <td>4936</td>\n",
       "    </tr>\n",
       "    <tr>\n",
       "      <th>24</th>\n",
       "      <td>Разработка и управление информационными системами</td>\n",
       "      <td>170</td>\n",
       "    </tr>\n",
       "    <tr>\n",
       "      <th>25</th>\n",
       "      <td>Разработка программного обеспечения</td>\n",
       "      <td>270</td>\n",
       "    </tr>\n",
       "    <tr>\n",
       "      <th>26</th>\n",
       "      <td>Информационная безопасность</td>\n",
       "      <td>285</td>\n",
       "    </tr>\n",
       "    <tr>\n",
       "      <th>27</th>\n",
       "      <td>Обработка естественного языка (NLP) в лингвист...</td>\n",
       "      <td>240</td>\n",
       "    </tr>\n",
       "    <tr>\n",
       "      <th>28</th>\n",
       "      <td>Информационная безопасность</td>\n",
       "      <td>285</td>\n",
       "    </tr>\n",
       "  </tbody>\n",
       "</table>\n",
       "</div>"
      ],
      "text/plain": [
       "                                               Course  Price (monthly)\n",
       "0                                     C++ разработчик             3190\n",
       "1                                      DevOps-инженер             3016\n",
       "2                                Frontend-разработчик             2548\n",
       "3                            Frontend-разработчик PRO             3722\n",
       "4                        Разработчик игр на Unity PRO             5243\n",
       "5                           Backend-разработчик на Go             3392\n",
       "6                                       «Белый» хакер             3997\n",
       "7                               Мобильный разработчик             4690\n",
       "8                           Python для веб-разработки             4386\n",
       "9                     Инженер по ручному тестированию             2200\n",
       "10                Тестировщик-автоматизатор на Python             3584\n",
       "11          Fullstack-разработчик на PHP и JavaScript             4391\n",
       "12                                   Java-разработчик             3933\n",
       "13                                     C#-разработчик             3108\n",
       "14                             Веб-разработчик с нуля             3804\n",
       "15                             JavaScript-разработчик             2548\n",
       "16                             SQL для анализа данных             1733\n",
       "17                           Разработчик игр на Unity             3905\n",
       "18                                Android-разработчик             4437\n",
       "19                             iOS-разработчик c нуля             4299\n",
       "20               Java-разработчик на Spring Framework             4419\n",
       "21                      Интенсив Frontend-разработчик             3699\n",
       "22           Интенсив Инженер по ручному тестированию             3575\n",
       "23                        Интенсив Python-разработчик             4936\n",
       "24  Разработка и управление информационными системами              170\n",
       "25                Разработка программного обеспечения              270\n",
       "26                        Информационная безопасность              285\n",
       "27  Обработка естественного языка (NLP) в лингвист...              240\n",
       "28                        Информационная безопасность              285"
      ]
     },
     "execution_count": 5,
     "metadata": {},
     "output_type": "execute_result"
    }
   ],
   "source": [
    "df"
   ]
  },
  {
   "cell_type": "code",
   "execution_count": 6,
   "metadata": {},
   "outputs": [
    {
     "name": "stdout",
     "output_type": "stream",
     "text": [
      "[3190 3016 2548 3722 5243 3392 3997 4690 4386 2200 3584 4391 3933 3108\n",
      " 3804 2548 1733 3905 4437 4299 4419 3699 3575 4936  170  270  285  240\n",
      "  285]\n"
     ]
    },
    {
     "data": {
      "image/png": "[encoded data removed]",
      "text/plain": [
       "<Figure size 720x432 with 1 Axes>"
      ]
     },
     "metadata": {},
     "output_type": "display_data"
    }
   ],
   "source": [
    "import seaborn as sns\n",
    "import matplotlib.pyplot as plt\n",
    "import numpy as np\n",
    "prices = df['Price (monthly)'].to_numpy()\n",
    "print(prices)\n",
    "sns.set(style=\"whitegrid\")\n",
    "\n",
    "# Создание гистограммы\n",
    "plt.figure(figsize=(10, 6))  # Размер графика\n",
    "sns.histplot(prices, color='skyblue', bins=10, edgecolor='black')\n",
    "\n",
    "# Добавление заголовка и подписей осей\n",
    "plt.title('Распределение цен курсов Skillfactory', fontsize=16)\n",
    "plt.xlabel('Значения', fontsize=14)\n",
    "plt.ylabel('Кол-во курсов', fontsize=14)\n",
    "\n",
    "# Отображение графика\n",
    "plt.show()"
   ]
  },
  {
   "cell_type": "code",
   "execution_count": 7,
   "metadata": {},
   "outputs": [],
   "source": [
    "df_sorted = df.sort_values(by='Price (monthly)')\n",
    "df_sorted = df_sorted.tail()"
   ]
  },
  {
   "cell_type": "code",
   "execution_count": 8,
   "metadata": {},
   "outputs": [
    {
     "data": {
      "image/png": "[encoded data removed]",
      "text/plain": [
       "<Figure size 576x288 with 1 Axes>"
      ]
     },
     "metadata": {},
     "output_type": "display_data"
    }
   ],
   "source": [
    "plt.figure(figsize=(8, 4))\n",
    "sns.set_style(\"whitegrid\")\n",
    "# Создаем таблицу с помощью seaborn\n",
    "table = plt.table(cellText=df_sorted.values,\n",
    "                  colLabels=df_sorted.columns,\n",
    "                  loc='center',\n",
    "                  cellLoc='center',\n",
    "                  colColours=['#f0f0f0']*len(df.columns))  # цвет заголовков\n",
    "\n",
    "# Настраиваем внешний вид таблицы\n",
    "table.auto_set_font_size(False)\n",
    "table.set_fontsize(12)\n",
    "table.scale(1.2, 1.5)  # масштабируем таблицу (ширина, высота ячеек)\n",
    "\n",
    "# Убираем оси\n",
    "plt.axis('off')\n",
    "\n",
    "# Показываем таблицу\n",
    "plt.show()"
   ]
  },
  {
   "cell_type": "code",
   "execution_count": null,
   "metadata": {},
   "outputs": [],
   "source": []
  },
  {
   "cell_type": "code",
   "execution_count": null,
   "metadata": {},
   "outputs": [],
   "source": []
  },
  {
   "cell_type": "code",
   "execution_count": null,
   "metadata": {},
   "outputs": [],
   "source": []
  }
 ],
 "metadata": {
  "kernelspec": {
   "display_name": "Python 3",
   "language": "python",
   "name": "python3"
  },
  "language_info": {
   "codemirror_mode": {
    "name": "ipython",
    "version": 3
   },
   "file_extension": ".py",
   "mimetype": "text/x-python",
   "name": "python",
   "nbconvert_exporter": "python",
   "pygments_lexer": "ipython3",
   "version": "3.8.5"
  }
 },
 "nbformat": 4,
 "nbformat_minor": 2
}
