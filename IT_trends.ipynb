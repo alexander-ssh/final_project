{
 "cells": [
  {
   "cell_type": "code",
   "execution_count": 68,
   "metadata": {},
   "outputs": [
    {
     "data": {
      "text/plain": [
       "[<selenium.webdriver.remote.webelement.WebElement (session=\"891d608e3ddf3d5b71b0f03b86215fbf\", element=\"f.B7558FD96AD525C28AF35C4C4C7BCD1B.d.10704E5560177FFE1D478A2999BA676F.e.38\")>,\n",
       " <selenium.webdriver.remote.webelement.WebElement (session=\"891d608e3ddf3d5b71b0f03b86215fbf\", element=\"f.B7558FD96AD525C28AF35C4C4C7BCD1B.d.10704E5560177FFE1D478A2999BA676F.e.39\")>,\n",
       " <selenium.webdriver.remote.webelement.WebElement (session=\"891d608e3ddf3d5b71b0f03b86215fbf\", element=\"f.B7558FD96AD525C28AF35C4C4C7BCD1B.d.10704E5560177FFE1D478A2999BA676F.e.23\")>,\n",
       " <selenium.webdriver.remote.webelement.WebElement (session=\"891d608e3ddf3d5b71b0f03b86215fbf\", element=\"f.B7558FD96AD525C28AF35C4C4C7BCD1B.d.10704E5560177FFE1D478A2999BA676F.e.40\")>,\n",
       " <selenium.webdriver.remote.webelement.WebElement (session=\"891d608e3ddf3d5b71b0f03b86215fbf\", element=\"f.B7558FD96AD525C28AF35C4C4C7BCD1B.d.10704E5560177FFE1D478A2999BA676F.e.41\")>,\n",
       " <selenium.webdriver.remote.webelement.WebElement (session=\"891d608e3ddf3d5b71b0f03b86215fbf\", element=\"f.B7558FD96AD525C28AF35C4C4C7BCD1B.d.10704E5560177FFE1D478A2999BA676F.e.42\")>,\n",
       " <selenium.webdriver.remote.webelement.WebElement (session=\"891d608e3ddf3d5b71b0f03b86215fbf\", element=\"f.B7558FD96AD525C28AF35C4C4C7BCD1B.d.10704E5560177FFE1D478A2999BA676F.e.43\")>,\n",
       " <selenium.webdriver.remote.webelement.WebElement (session=\"891d608e3ddf3d5b71b0f03b86215fbf\", element=\"f.B7558FD96AD525C28AF35C4C4C7BCD1B.d.10704E5560177FFE1D478A2999BA676F.e.44\")>,\n",
       " <selenium.webdriver.remote.webelement.WebElement (session=\"891d608e3ddf3d5b71b0f03b86215fbf\", element=\"f.B7558FD96AD525C28AF35C4C4C7BCD1B.d.10704E5560177FFE1D478A2999BA676F.e.45\")>,\n",
       " <selenium.webdriver.remote.webelement.WebElement (session=\"891d608e3ddf3d5b71b0f03b86215fbf\", element=\"f.B7558FD96AD525C28AF35C4C4C7BCD1B.d.10704E5560177FFE1D478A2999BA676F.e.17\")>,\n",
       " <selenium.webdriver.remote.webelement.WebElement (session=\"891d608e3ddf3d5b71b0f03b86215fbf\", element=\"f.B7558FD96AD525C28AF35C4C4C7BCD1B.d.10704E5560177FFE1D478A2999BA676F.e.18\")>,\n",
       " <selenium.webdriver.remote.webelement.WebElement (session=\"891d608e3ddf3d5b71b0f03b86215fbf\", element=\"f.B7558FD96AD525C28AF35C4C4C7BCD1B.d.10704E5560177FFE1D478A2999BA676F.e.46\")>,\n",
       " <selenium.webdriver.remote.webelement.WebElement (session=\"891d608e3ddf3d5b71b0f03b86215fbf\", element=\"f.B7558FD96AD525C28AF35C4C4C7BCD1B.d.10704E5560177FFE1D478A2999BA676F.e.47\")>,\n",
       " <selenium.webdriver.remote.webelement.WebElement (session=\"891d608e3ddf3d5b71b0f03b86215fbf\", element=\"f.B7558FD96AD525C28AF35C4C4C7BCD1B.d.10704E5560177FFE1D478A2999BA676F.e.48\")>,\n",
       " <selenium.webdriver.remote.webelement.WebElement (session=\"891d608e3ddf3d5b71b0f03b86215fbf\", element=\"f.B7558FD96AD525C28AF35C4C4C7BCD1B.d.10704E5560177FFE1D478A2999BA676F.e.19\")>,\n",
       " <selenium.webdriver.remote.webelement.WebElement (session=\"891d608e3ddf3d5b71b0f03b86215fbf\", element=\"f.B7558FD96AD525C28AF35C4C4C7BCD1B.d.10704E5560177FFE1D478A2999BA676F.e.49\")>,\n",
       " <selenium.webdriver.remote.webelement.WebElement (session=\"891d608e3ddf3d5b71b0f03b86215fbf\", element=\"f.B7558FD96AD525C28AF35C4C4C7BCD1B.d.10704E5560177FFE1D478A2999BA676F.e.50\")>,\n",
       " <selenium.webdriver.remote.webelement.WebElement (session=\"891d608e3ddf3d5b71b0f03b86215fbf\", element=\"f.B7558FD96AD525C28AF35C4C4C7BCD1B.d.10704E5560177FFE1D478A2999BA676F.e.51\")>,\n",
       " <selenium.webdriver.remote.webelement.WebElement (session=\"891d608e3ddf3d5b71b0f03b86215fbf\", element=\"f.B7558FD96AD525C28AF35C4C4C7BCD1B.d.10704E5560177FFE1D478A2999BA676F.e.20\")>,\n",
       " <selenium.webdriver.remote.webelement.WebElement (session=\"891d608e3ddf3d5b71b0f03b86215fbf\", element=\"f.B7558FD96AD525C28AF35C4C4C7BCD1B.d.10704E5560177FFE1D478A2999BA676F.e.52\")>,\n",
       " <selenium.webdriver.remote.webelement.WebElement (session=\"891d608e3ddf3d5b71b0f03b86215fbf\", element=\"f.B7558FD96AD525C28AF35C4C4C7BCD1B.d.10704E5560177FFE1D478A2999BA676F.e.53\")>,\n",
       " <selenium.webdriver.remote.webelement.WebElement (session=\"891d608e3ddf3d5b71b0f03b86215fbf\", element=\"f.B7558FD96AD525C28AF35C4C4C7BCD1B.d.10704E5560177FFE1D478A2999BA676F.e.54\")>,\n",
       " <selenium.webdriver.remote.webelement.WebElement (session=\"891d608e3ddf3d5b71b0f03b86215fbf\", element=\"f.B7558FD96AD525C28AF35C4C4C7BCD1B.d.10704E5560177FFE1D478A2999BA676F.e.21\")>,\n",
       " <selenium.webdriver.remote.webelement.WebElement (session=\"891d608e3ddf3d5b71b0f03b86215fbf\", element=\"f.B7558FD96AD525C28AF35C4C4C7BCD1B.d.10704E5560177FFE1D478A2999BA676F.e.55\")>,\n",
       " <selenium.webdriver.remote.webelement.WebElement (session=\"891d608e3ddf3d5b71b0f03b86215fbf\", element=\"f.B7558FD96AD525C28AF35C4C4C7BCD1B.d.10704E5560177FFE1D478A2999BA676F.e.56\")>,\n",
       " <selenium.webdriver.remote.webelement.WebElement (session=\"891d608e3ddf3d5b71b0f03b86215fbf\", element=\"f.B7558FD96AD525C28AF35C4C4C7BCD1B.d.10704E5560177FFE1D478A2999BA676F.e.57\")>,\n",
       " <selenium.webdriver.remote.webelement.WebElement (session=\"891d608e3ddf3d5b71b0f03b86215fbf\", element=\"f.B7558FD96AD525C28AF35C4C4C7BCD1B.d.10704E5560177FFE1D478A2999BA676F.e.58\")>,\n",
       " <selenium.webdriver.remote.webelement.WebElement (session=\"891d608e3ddf3d5b71b0f03b86215fbf\", element=\"f.B7558FD96AD525C28AF35C4C4C7BCD1B.d.10704E5560177FFE1D478A2999BA676F.e.59\")>,\n",
       " <selenium.webdriver.remote.webelement.WebElement (session=\"891d608e3ddf3d5b71b0f03b86215fbf\", element=\"f.B7558FD96AD525C28AF35C4C4C7BCD1B.d.10704E5560177FFE1D478A2999BA676F.e.60\")>,\n",
       " <selenium.webdriver.remote.webelement.WebElement (session=\"891d608e3ddf3d5b71b0f03b86215fbf\", element=\"f.B7558FD96AD525C28AF35C4C4C7BCD1B.d.10704E5560177FFE1D478A2999BA676F.e.61\")>,\n",
       " <selenium.webdriver.remote.webelement.WebElement (session=\"891d608e3ddf3d5b71b0f03b86215fbf\", element=\"f.B7558FD96AD525C28AF35C4C4C7BCD1B.d.10704E5560177FFE1D478A2999BA676F.e.62\")>,\n",
       " <selenium.webdriver.remote.webelement.WebElement (session=\"891d608e3ddf3d5b71b0f03b86215fbf\", element=\"f.B7558FD96AD525C28AF35C4C4C7BCD1B.d.10704E5560177FFE1D478A2999BA676F.e.63\")>,\n",
       " <selenium.webdriver.remote.webelement.WebElement (session=\"891d608e3ddf3d5b71b0f03b86215fbf\", element=\"f.B7558FD96AD525C28AF35C4C4C7BCD1B.d.10704E5560177FFE1D478A2999BA676F.e.64\")>,\n",
       " <selenium.webdriver.remote.webelement.WebElement (session=\"891d608e3ddf3d5b71b0f03b86215fbf\", element=\"f.B7558FD96AD525C28AF35C4C4C7BCD1B.d.10704E5560177FFE1D478A2999BA676F.e.65\")>,\n",
       " <selenium.webdriver.remote.webelement.WebElement (session=\"891d608e3ddf3d5b71b0f03b86215fbf\", element=\"f.B7558FD96AD525C28AF35C4C4C7BCD1B.d.10704E5560177FFE1D478A2999BA676F.e.66\")>,\n",
       " <selenium.webdriver.remote.webelement.WebElement (session=\"891d608e3ddf3d5b71b0f03b86215fbf\", element=\"f.B7558FD96AD525C28AF35C4C4C7BCD1B.d.10704E5560177FFE1D478A2999BA676F.e.67\")>,\n",
       " <selenium.webdriver.remote.webelement.WebElement (session=\"891d608e3ddf3d5b71b0f03b86215fbf\", element=\"f.B7558FD96AD525C28AF35C4C4C7BCD1B.d.10704E5560177FFE1D478A2999BA676F.e.68\")>,\n",
       " <selenium.webdriver.remote.webelement.WebElement (session=\"891d608e3ddf3d5b71b0f03b86215fbf\", element=\"f.B7558FD96AD525C28AF35C4C4C7BCD1B.d.10704E5560177FFE1D478A2999BA676F.e.69\")>,\n",
       " <selenium.webdriver.remote.webelement.WebElement (session=\"891d608e3ddf3d5b71b0f03b86215fbf\", element=\"f.B7558FD96AD525C28AF35C4C4C7BCD1B.d.10704E5560177FFE1D478A2999BA676F.e.70\")>,\n",
       " <selenium.webdriver.remote.webelement.WebElement (session=\"891d608e3ddf3d5b71b0f03b86215fbf\", element=\"f.B7558FD96AD525C28AF35C4C4C7BCD1B.d.10704E5560177FFE1D478A2999BA676F.e.71\")>,\n",
       " <selenium.webdriver.remote.webelement.WebElement (session=\"891d608e3ddf3d5b71b0f03b86215fbf\", element=\"f.B7558FD96AD525C28AF35C4C4C7BCD1B.d.10704E5560177FFE1D478A2999BA676F.e.72\")>,\n",
       " <selenium.webdriver.remote.webelement.WebElement (session=\"891d608e3ddf3d5b71b0f03b86215fbf\", element=\"f.B7558FD96AD525C28AF35C4C4C7BCD1B.d.10704E5560177FFE1D478A2999BA676F.e.73\")>,\n",
       " <selenium.webdriver.remote.webelement.WebElement (session=\"891d608e3ddf3d5b71b0f03b86215fbf\", element=\"f.B7558FD96AD525C28AF35C4C4C7BCD1B.d.10704E5560177FFE1D478A2999BA676F.e.74\")>,\n",
       " <selenium.webdriver.remote.webelement.WebElement (session=\"891d608e3ddf3d5b71b0f03b86215fbf\", element=\"f.B7558FD96AD525C28AF35C4C4C7BCD1B.d.10704E5560177FFE1D478A2999BA676F.e.75\")>,\n",
       " <selenium.webdriver.remote.webelement.WebElement (session=\"891d608e3ddf3d5b71b0f03b86215fbf\", element=\"f.B7558FD96AD525C28AF35C4C4C7BCD1B.d.10704E5560177FFE1D478A2999BA676F.e.76\")>,\n",
       " <selenium.webdriver.remote.webelement.WebElement (session=\"891d608e3ddf3d5b71b0f03b86215fbf\", element=\"f.B7558FD96AD525C28AF35C4C4C7BCD1B.d.10704E5560177FFE1D478A2999BA676F.e.77\")>,\n",
       " <selenium.webdriver.remote.webelement.WebElement (session=\"891d608e3ddf3d5b71b0f03b86215fbf\", element=\"f.B7558FD96AD525C28AF35C4C4C7BCD1B.d.10704E5560177FFE1D478A2999BA676F.e.78\")>,\n",
       " <selenium.webdriver.remote.webelement.WebElement (session=\"891d608e3ddf3d5b71b0f03b86215fbf\", element=\"f.B7558FD96AD525C28AF35C4C4C7BCD1B.d.10704E5560177FFE1D478A2999BA676F.e.79\")>,\n",
       " <selenium.webdriver.remote.webelement.WebElement (session=\"891d608e3ddf3d5b71b0f03b86215fbf\", element=\"f.B7558FD96AD525C28AF35C4C4C7BCD1B.d.10704E5560177FFE1D478A2999BA676F.e.80\")>,\n",
       " <selenium.webdriver.remote.webelement.WebElement (session=\"891d608e3ddf3d5b71b0f03b86215fbf\", element=\"f.B7558FD96AD525C28AF35C4C4C7BCD1B.d.10704E5560177FFE1D478A2999BA676F.e.81\")>,\n",
       " <selenium.webdriver.remote.webelement.WebElement (session=\"891d608e3ddf3d5b71b0f03b86215fbf\", element=\"f.B7558FD96AD525C28AF35C4C4C7BCD1B.d.10704E5560177FFE1D478A2999BA676F.e.82\")>,\n",
       " <selenium.webdriver.remote.webelement.WebElement (session=\"891d608e3ddf3d5b71b0f03b86215fbf\", element=\"f.B7558FD96AD525C28AF35C4C4C7BCD1B.d.10704E5560177FFE1D478A2999BA676F.e.83\")>,\n",
       " <selenium.webdriver.remote.webelement.WebElement (session=\"891d608e3ddf3d5b71b0f03b86215fbf\", element=\"f.B7558FD96AD525C28AF35C4C4C7BCD1B.d.10704E5560177FFE1D478A2999BA676F.e.84\")>,\n",
       " <selenium.webdriver.remote.webelement.WebElement (session=\"891d608e3ddf3d5b71b0f03b86215fbf\", element=\"f.B7558FD96AD525C28AF35C4C4C7BCD1B.d.10704E5560177FFE1D478A2999BA676F.e.85\")>,\n",
       " <selenium.webdriver.remote.webelement.WebElement (session=\"891d608e3ddf3d5b71b0f03b86215fbf\", element=\"f.B7558FD96AD525C28AF35C4C4C7BCD1B.d.10704E5560177FFE1D478A2999BA676F.e.86\")>,\n",
       " <selenium.webdriver.remote.webelement.WebElement (session=\"891d608e3ddf3d5b71b0f03b86215fbf\", element=\"f.B7558FD96AD525C28AF35C4C4C7BCD1B.d.10704E5560177FFE1D478A2999BA676F.e.87\")>,\n",
       " <selenium.webdriver.remote.webelement.WebElement (session=\"891d608e3ddf3d5b71b0f03b86215fbf\", element=\"f.B7558FD96AD525C28AF35C4C4C7BCD1B.d.10704E5560177FFE1D478A2999BA676F.e.88\")>,\n",
       " <selenium.webdriver.remote.webelement.WebElement (session=\"891d608e3ddf3d5b71b0f03b86215fbf\", element=\"f.B7558FD96AD525C28AF35C4C4C7BCD1B.d.10704E5560177FFE1D478A2999BA676F.e.89\")>,\n",
       " <selenium.webdriver.remote.webelement.WebElement (session=\"891d608e3ddf3d5b71b0f03b86215fbf\", element=\"f.B7558FD96AD525C28AF35C4C4C7BCD1B.d.10704E5560177FFE1D478A2999BA676F.e.90\")>,\n",
       " <selenium.webdriver.remote.webelement.WebElement (session=\"891d608e3ddf3d5b71b0f03b86215fbf\", element=\"f.B7558FD96AD525C28AF35C4C4C7BCD1B.d.10704E5560177FFE1D478A2999BA676F.e.91\")>,\n",
       " <selenium.webdriver.remote.webelement.WebElement (session=\"891d608e3ddf3d5b71b0f03b86215fbf\", element=\"f.B7558FD96AD525C28AF35C4C4C7BCD1B.d.10704E5560177FFE1D478A2999BA676F.e.92\")>,\n",
       " <selenium.webdriver.remote.webelement.WebElement (session=\"891d608e3ddf3d5b71b0f03b86215fbf\", element=\"f.B7558FD96AD525C28AF35C4C4C7BCD1B.d.10704E5560177FFE1D478A2999BA676F.e.93\")>,\n",
       " <selenium.webdriver.remote.webelement.WebElement (session=\"891d608e3ddf3d5b71b0f03b86215fbf\", element=\"f.B7558FD96AD525C28AF35C4C4C7BCD1B.d.10704E5560177FFE1D478A2999BA676F.e.94\")>,\n",
       " <selenium.webdriver.remote.webelement.WebElement (session=\"891d608e3ddf3d5b71b0f03b86215fbf\", element=\"f.B7558FD96AD525C28AF35C4C4C7BCD1B.d.10704E5560177FFE1D478A2999BA676F.e.95\")>,\n",
       " <selenium.webdriver.remote.webelement.WebElement (session=\"891d608e3ddf3d5b71b0f03b86215fbf\", element=\"f.B7558FD96AD525C28AF35C4C4C7BCD1B.d.10704E5560177FFE1D478A2999BA676F.e.96\")>,\n",
       " <selenium.webdriver.remote.webelement.WebElement (session=\"891d608e3ddf3d5b71b0f03b86215fbf\", element=\"f.B7558FD96AD525C28AF35C4C4C7BCD1B.d.10704E5560177FFE1D478A2999BA676F.e.97\")>,\n",
       " <selenium.webdriver.remote.webelement.WebElement (session=\"891d608e3ddf3d5b71b0f03b86215fbf\", element=\"f.B7558FD96AD525C28AF35C4C4C7BCD1B.d.10704E5560177FFE1D478A2999BA676F.e.98\")>,\n",
       " <selenium.webdriver.remote.webelement.WebElement (session=\"891d608e3ddf3d5b71b0f03b86215fbf\", element=\"f.B7558FD96AD525C28AF35C4C4C7BCD1B.d.10704E5560177FFE1D478A2999BA676F.e.99\")>,\n",
       " <selenium.webdriver.remote.webelement.WebElement (session=\"891d608e3ddf3d5b71b0f03b86215fbf\", element=\"f.B7558FD96AD525C28AF35C4C4C7BCD1B.d.10704E5560177FFE1D478A2999BA676F.e.100\")>,\n",
       " <selenium.webdriver.remote.webelement.WebElement (session=\"891d608e3ddf3d5b71b0f03b86215fbf\", element=\"f.B7558FD96AD525C28AF35C4C4C7BCD1B.d.10704E5560177FFE1D478A2999BA676F.e.101\")>,\n",
       " <selenium.webdriver.remote.webelement.WebElement (session=\"891d608e3ddf3d5b71b0f03b86215fbf\", element=\"f.B7558FD96AD525C28AF35C4C4C7BCD1B.d.10704E5560177FFE1D478A2999BA676F.e.102\")>,\n",
       " <selenium.webdriver.remote.webelement.WebElement (session=\"891d608e3ddf3d5b71b0f03b86215fbf\", element=\"f.B7558FD96AD525C28AF35C4C4C7BCD1B.d.10704E5560177FFE1D478A2999BA676F.e.103\")>,\n",
       " <selenium.webdriver.remote.webelement.WebElement (session=\"891d608e3ddf3d5b71b0f03b86215fbf\", element=\"f.B7558FD96AD525C28AF35C4C4C7BCD1B.d.10704E5560177FFE1D478A2999BA676F.e.104\")>,\n",
       " <selenium.webdriver.remote.webelement.WebElement (session=\"891d608e3ddf3d5b71b0f03b86215fbf\", element=\"f.B7558FD96AD525C28AF35C4C4C7BCD1B.d.10704E5560177FFE1D478A2999BA676F.e.105\")>,\n",
       " <selenium.webdriver.remote.webelement.WebElement (session=\"891d608e3ddf3d5b71b0f03b86215fbf\", element=\"f.B7558FD96AD525C28AF35C4C4C7BCD1B.d.10704E5560177FFE1D478A2999BA676F.e.106\")>,\n",
       " <selenium.webdriver.remote.webelement.WebElement (session=\"891d608e3ddf3d5b71b0f03b86215fbf\", element=\"f.B7558FD96AD525C28AF35C4C4C7BCD1B.d.10704E5560177FFE1D478A2999BA676F.e.107\")>,\n",
       " <selenium.webdriver.remote.webelement.WebElement (session=\"891d608e3ddf3d5b71b0f03b86215fbf\", element=\"f.B7558FD96AD525C28AF35C4C4C7BCD1B.d.10704E5560177FFE1D478A2999BA676F.e.108\")>,\n",
       " <selenium.webdriver.remote.webelement.WebElement (session=\"891d608e3ddf3d5b71b0f03b86215fbf\", element=\"f.B7558FD96AD525C28AF35C4C4C7BCD1B.d.10704E5560177FFE1D478A2999BA676F.e.109\")>,\n",
       " <selenium.webdriver.remote.webelement.WebElement (session=\"891d608e3ddf3d5b71b0f03b86215fbf\", element=\"f.B7558FD96AD525C28AF35C4C4C7BCD1B.d.10704E5560177FFE1D478A2999BA676F.e.110\")>,\n",
       " <selenium.webdriver.remote.webelement.WebElement (session=\"891d608e3ddf3d5b71b0f03b86215fbf\", element=\"f.B7558FD96AD525C28AF35C4C4C7BCD1B.d.10704E5560177FFE1D478A2999BA676F.e.111\")>,\n",
       " <selenium.webdriver.remote.webelement.WebElement (session=\"891d608e3ddf3d5b71b0f03b86215fbf\", element=\"f.B7558FD96AD525C28AF35C4C4C7BCD1B.d.10704E5560177FFE1D478A2999BA676F.e.112\")>,\n",
       " <selenium.webdriver.remote.webelement.WebElement (session=\"891d608e3ddf3d5b71b0f03b86215fbf\", element=\"f.B7558FD96AD525C28AF35C4C4C7BCD1B.d.10704E5560177FFE1D478A2999BA676F.e.113\")>,\n",
       " <selenium.webdriver.remote.webelement.WebElement (session=\"891d608e3ddf3d5b71b0f03b86215fbf\", element=\"f.B7558FD96AD525C28AF35C4C4C7BCD1B.d.10704E5560177FFE1D478A2999BA676F.e.114\")>,\n",
       " <selenium.webdriver.remote.webelement.WebElement (session=\"891d608e3ddf3d5b71b0f03b86215fbf\", element=\"f.B7558FD96AD525C28AF35C4C4C7BCD1B.d.10704E5560177FFE1D478A2999BA676F.e.115\")>,\n",
       " <selenium.webdriver.remote.webelement.WebElement (session=\"891d608e3ddf3d5b71b0f03b86215fbf\", element=\"f.B7558FD96AD525C28AF35C4C4C7BCD1B.d.10704E5560177FFE1D478A2999BA676F.e.116\")>,\n",
       " <selenium.webdriver.remote.webelement.WebElement (session=\"891d608e3ddf3d5b71b0f03b86215fbf\", element=\"f.B7558FD96AD525C28AF35C4C4C7BCD1B.d.10704E5560177FFE1D478A2999BA676F.e.117\")>,\n",
       " <selenium.webdriver.remote.webelement.WebElement (session=\"891d608e3ddf3d5b71b0f03b86215fbf\", element=\"f.B7558FD96AD525C28AF35C4C4C7BCD1B.d.10704E5560177FFE1D478A2999BA676F.e.118\")>,\n",
       " <selenium.webdriver.remote.webelement.WebElement (session=\"891d608e3ddf3d5b71b0f03b86215fbf\", element=\"f.B7558FD96AD525C28AF35C4C4C7BCD1B.d.10704E5560177FFE1D478A2999BA676F.e.119\")>,\n",
       " <selenium.webdriver.remote.webelement.WebElement (session=\"891d608e3ddf3d5b71b0f03b86215fbf\", element=\"f.B7558FD96AD525C28AF35C4C4C7BCD1B.d.10704E5560177FFE1D478A2999BA676F.e.120\")>,\n",
       " <selenium.webdriver.remote.webelement.WebElement (session=\"891d608e3ddf3d5b71b0f03b86215fbf\", element=\"f.B7558FD96AD525C28AF35C4C4C7BCD1B.d.10704E5560177FFE1D478A2999BA676F.e.121\")>,\n",
       " <selenium.webdriver.remote.webelement.WebElement (session=\"891d608e3ddf3d5b71b0f03b86215fbf\", element=\"f.B7558FD96AD525C28AF35C4C4C7BCD1B.d.10704E5560177FFE1D478A2999BA676F.e.122\")>,\n",
       " <selenium.webdriver.remote.webelement.WebElement (session=\"891d608e3ddf3d5b71b0f03b86215fbf\", element=\"f.B7558FD96AD525C28AF35C4C4C7BCD1B.d.10704E5560177FFE1D478A2999BA676F.e.123\")>,\n",
       " <selenium.webdriver.remote.webelement.WebElement (session=\"891d608e3ddf3d5b71b0f03b86215fbf\", element=\"f.B7558FD96AD525C28AF35C4C4C7BCD1B.d.10704E5560177FFE1D478A2999BA676F.e.124\")>,\n",
       " <selenium.webdriver.remote.webelement.WebElement (session=\"891d608e3ddf3d5b71b0f03b86215fbf\", element=\"f.B7558FD96AD525C28AF35C4C4C7BCD1B.d.10704E5560177FFE1D478A2999BA676F.e.125\")>,\n",
       " <selenium.webdriver.remote.webelement.WebElement (session=\"891d608e3ddf3d5b71b0f03b86215fbf\", element=\"f.B7558FD96AD525C28AF35C4C4C7BCD1B.d.10704E5560177FFE1D478A2999BA676F.e.126\")>,\n",
       " <selenium.webdriver.remote.webelement.WebElement (session=\"891d608e3ddf3d5b71b0f03b86215fbf\", element=\"f.B7558FD96AD525C28AF35C4C4C7BCD1B.d.10704E5560177FFE1D478A2999BA676F.e.127\")>,\n",
       " <selenium.webdriver.remote.webelement.WebElement (session=\"891d608e3ddf3d5b71b0f03b86215fbf\", element=\"f.B7558FD96AD525C28AF35C4C4C7BCD1B.d.10704E5560177FFE1D478A2999BA676F.e.128\")>,\n",
       " <selenium.webdriver.remote.webelement.WebElement (session=\"891d608e3ddf3d5b71b0f03b86215fbf\", element=\"f.B7558FD96AD525C28AF35C4C4C7BCD1B.d.10704E5560177FFE1D478A2999BA676F.e.129\")>,\n",
       " <selenium.webdriver.remote.webelement.WebElement (session=\"891d608e3ddf3d5b71b0f03b86215fbf\", element=\"f.B7558FD96AD525C28AF35C4C4C7BCD1B.d.10704E5560177FFE1D478A2999BA676F.e.130\")>,\n",
       " <selenium.webdriver.remote.webelement.WebElement (session=\"891d608e3ddf3d5b71b0f03b86215fbf\", element=\"f.B7558FD96AD525C28AF35C4C4C7BCD1B.d.10704E5560177FFE1D478A2999BA676F.e.131\")>,\n",
       " <selenium.webdriver.remote.webelement.WebElement (session=\"891d608e3ddf3d5b71b0f03b86215fbf\", element=\"f.B7558FD96AD525C28AF35C4C4C7BCD1B.d.10704E5560177FFE1D478A2999BA676F.e.132\")>,\n",
       " <selenium.webdriver.remote.webelement.WebElement (session=\"891d608e3ddf3d5b71b0f03b86215fbf\", element=\"f.B7558FD96AD525C28AF35C4C4C7BCD1B.d.10704E5560177FFE1D478A2999BA676F.e.133\")>,\n",
       " <selenium.webdriver.remote.webelement.WebElement (session=\"891d608e3ddf3d5b71b0f03b86215fbf\", element=\"f.B7558FD96AD525C28AF35C4C4C7BCD1B.d.10704E5560177FFE1D478A2999BA676F.e.134\")>,\n",
       " <selenium.webdriver.remote.webelement.WebElement (session=\"891d608e3ddf3d5b71b0f03b86215fbf\", element=\"f.B7558FD96AD525C28AF35C4C4C7BCD1B.d.10704E5560177FFE1D478A2999BA676F.e.135\")>,\n",
       " <selenium.webdriver.remote.webelement.WebElement (session=\"891d608e3ddf3d5b71b0f03b86215fbf\", element=\"f.B7558FD96AD525C28AF35C4C4C7BCD1B.d.10704E5560177FFE1D478A2999BA676F.e.136\")>,\n",
       " <selenium.webdriver.remote.webelement.WebElement (session=\"891d608e3ddf3d5b71b0f03b86215fbf\", element=\"f.B7558FD96AD525C28AF35C4C4C7BCD1B.d.10704E5560177FFE1D478A2999BA676F.e.137\")>,\n",
       " <selenium.webdriver.remote.webelement.WebElement (session=\"891d608e3ddf3d5b71b0f03b86215fbf\", element=\"f.B7558FD96AD525C28AF35C4C4C7BCD1B.d.10704E5560177FFE1D478A2999BA676F.e.138\")>,\n",
       " <selenium.webdriver.remote.webelement.WebElement (session=\"891d608e3ddf3d5b71b0f03b86215fbf\", element=\"f.B7558FD96AD525C28AF35C4C4C7BCD1B.d.10704E5560177FFE1D478A2999BA676F.e.139\")>,\n",
       " <selenium.webdriver.remote.webelement.WebElement (session=\"891d608e3ddf3d5b71b0f03b86215fbf\", element=\"f.B7558FD96AD525C28AF35C4C4C7BCD1B.d.10704E5560177FFE1D478A2999BA676F.e.140\")>,\n",
       " <selenium.webdriver.remote.webelement.WebElement (session=\"891d608e3ddf3d5b71b0f03b86215fbf\", element=\"f.B7558FD96AD525C28AF35C4C4C7BCD1B.d.10704E5560177FFE1D478A2999BA676F.e.141\")>,\n",
       " <selenium.webdriver.remote.webelement.WebElement (session=\"891d608e3ddf3d5b71b0f03b86215fbf\", element=\"f.B7558FD96AD525C28AF35C4C4C7BCD1B.d.10704E5560177FFE1D478A2999BA676F.e.142\")>,\n",
       " <selenium.webdriver.remote.webelement.WebElement (session=\"891d608e3ddf3d5b71b0f03b86215fbf\", element=\"f.B7558FD96AD525C28AF35C4C4C7BCD1B.d.10704E5560177FFE1D478A2999BA676F.e.143\")>,\n",
       " <selenium.webdriver.remote.webelement.WebElement (session=\"891d608e3ddf3d5b71b0f03b86215fbf\", element=\"f.B7558FD96AD525C28AF35C4C4C7BCD1B.d.10704E5560177FFE1D478A2999BA676F.e.144\")>,\n",
       " <selenium.webdriver.remote.webelement.WebElement (session=\"891d608e3ddf3d5b71b0f03b86215fbf\", element=\"f.B7558FD96AD525C28AF35C4C4C7BCD1B.d.10704E5560177FFE1D478A2999BA676F.e.145\")>,\n",
       " <selenium.webdriver.remote.webelement.WebElement (session=\"891d608e3ddf3d5b71b0f03b86215fbf\", element=\"f.B7558FD96AD525C28AF35C4C4C7BCD1B.d.10704E5560177FFE1D478A2999BA676F.e.146\")>,\n",
       " <selenium.webdriver.remote.webelement.WebElement (session=\"891d608e3ddf3d5b71b0f03b86215fbf\", element=\"f.B7558FD96AD525C28AF35C4C4C7BCD1B.d.10704E5560177FFE1D478A2999BA676F.e.147\")>,\n",
       " <selenium.webdriver.remote.webelement.WebElement (session=\"891d608e3ddf3d5b71b0f03b86215fbf\", element=\"f.B7558FD96AD525C28AF35C4C4C7BCD1B.d.10704E5560177FFE1D478A2999BA676F.e.148\")>,\n",
       " <selenium.webdriver.remote.webelement.WebElement (session=\"891d608e3ddf3d5b71b0f03b86215fbf\", element=\"f.B7558FD96AD525C28AF35C4C4C7BCD1B.d.10704E5560177FFE1D478A2999BA676F.e.149\")>,\n",
       " <selenium.webdriver.remote.webelement.WebElement (session=\"891d608e3ddf3d5b71b0f03b86215fbf\", element=\"f.B7558FD96AD525C28AF35C4C4C7BCD1B.d.10704E5560177FFE1D478A2999BA676F.e.150\")>,\n",
       " <selenium.webdriver.remote.webelement.WebElement (session=\"891d608e3ddf3d5b71b0f03b86215fbf\", element=\"f.B7558FD96AD525C28AF35C4C4C7BCD1B.d.10704E5560177FFE1D478A2999BA676F.e.151\")>,\n",
       " <selenium.webdriver.remote.webelement.WebElement (session=\"891d608e3ddf3d5b71b0f03b86215fbf\", element=\"f.B7558FD96AD525C28AF35C4C4C7BCD1B.d.10704E5560177FFE1D478A2999BA676F.e.152\")>,\n",
       " <selenium.webdriver.remote.webelement.WebElement (session=\"891d608e3ddf3d5b71b0f03b86215fbf\", element=\"f.B7558FD96AD525C28AF35C4C4C7BCD1B.d.10704E5560177FFE1D478A2999BA676F.e.153\")>,\n",
       " <selenium.webdriver.remote.webelement.WebElement (session=\"891d608e3ddf3d5b71b0f03b86215fbf\", element=\"f.B7558FD96AD525C28AF35C4C4C7BCD1B.d.10704E5560177FFE1D478A2999BA676F.e.154\")>,\n",
       " <selenium.webdriver.remote.webelement.WebElement (session=\"891d608e3ddf3d5b71b0f03b86215fbf\", element=\"f.B7558FD96AD525C28AF35C4C4C7BCD1B.d.10704E5560177FFE1D478A2999BA676F.e.155\")>,\n",
       " <selenium.webdriver.remote.webelement.WebElement (session=\"891d608e3ddf3d5b71b0f03b86215fbf\", element=\"f.B7558FD96AD525C28AF35C4C4C7BCD1B.d.10704E5560177FFE1D478A2999BA676F.e.156\")>,\n",
       " <selenium.webdriver.remote.webelement.WebElement (session=\"891d608e3ddf3d5b71b0f03b86215fbf\", element=\"f.B7558FD96AD525C28AF35C4C4C7BCD1B.d.10704E5560177FFE1D478A2999BA676F.e.157\")>,\n",
       " <selenium.webdriver.remote.webelement.WebElement (session=\"891d608e3ddf3d5b71b0f03b86215fbf\", element=\"f.B7558FD96AD525C28AF35C4C4C7BCD1B.d.10704E5560177FFE1D478A2999BA676F.e.158\")>,\n",
       " <selenium.webdriver.remote.webelement.WebElement (session=\"891d608e3ddf3d5b71b0f03b86215fbf\", element=\"f.B7558FD96AD525C28AF35C4C4C7BCD1B.d.10704E5560177FFE1D478A2999BA676F.e.159\")>,\n",
       " <selenium.webdriver.remote.webelement.WebElement (session=\"891d608e3ddf3d5b71b0f03b86215fbf\", element=\"f.B7558FD96AD525C28AF35C4C4C7BCD1B.d.10704E5560177FFE1D478A2999BA676F.e.160\")>,\n",
       " <selenium.webdriver.remote.webelement.WebElement (session=\"891d608e3ddf3d5b71b0f03b86215fbf\", element=\"f.B7558FD96AD525C28AF35C4C4C7BCD1B.d.10704E5560177FFE1D478A2999BA676F.e.161\")>,\n",
       " <selenium.webdriver.remote.webelement.WebElement (session=\"891d608e3ddf3d5b71b0f03b86215fbf\", element=\"f.B7558FD96AD525C28AF35C4C4C7BCD1B.d.10704E5560177FFE1D478A2999BA676F.e.162\")>,\n",
       " <selenium.webdriver.remote.webelement.WebElement (session=\"891d608e3ddf3d5b71b0f03b86215fbf\", element=\"f.B7558FD96AD525C28AF35C4C4C7BCD1B.d.10704E5560177FFE1D478A2999BA676F.e.163\")>,\n",
       " <selenium.webdriver.remote.webelement.WebElement (session=\"891d608e3ddf3d5b71b0f03b86215fbf\", element=\"f.B7558FD96AD525C28AF35C4C4C7BCD1B.d.10704E5560177FFE1D478A2999BA676F.e.164\")>,\n",
       " <selenium.webdriver.remote.webelement.WebElement (session=\"891d608e3ddf3d5b71b0f03b86215fbf\", element=\"f.B7558FD96AD525C28AF35C4C4C7BCD1B.d.10704E5560177FFE1D478A2999BA676F.e.165\")>,\n",
       " <selenium.webdriver.remote.webelement.WebElement (session=\"891d608e3ddf3d5b71b0f03b86215fbf\", element=\"f.B7558FD96AD525C28AF35C4C4C7BCD1B.d.10704E5560177FFE1D478A2999BA676F.e.166\")>,\n",
       " <selenium.webdriver.remote.webelement.WebElement (session=\"891d608e3ddf3d5b71b0f03b86215fbf\", element=\"f.B7558FD96AD525C28AF35C4C4C7BCD1B.d.10704E5560177FFE1D478A2999BA676F.e.167\")>,\n",
       " <selenium.webdriver.remote.webelement.WebElement (session=\"891d608e3ddf3d5b71b0f03b86215fbf\", element=\"f.B7558FD96AD525C28AF35C4C4C7BCD1B.d.10704E5560177FFE1D478A2999BA676F.e.168\")>,\n",
       " <selenium.webdriver.remote.webelement.WebElement (session=\"891d608e3ddf3d5b71b0f03b86215fbf\", element=\"f.B7558FD96AD525C28AF35C4C4C7BCD1B.d.10704E5560177FFE1D478A2999BA676F.e.169\")>,\n",
       " <selenium.webdriver.remote.webelement.WebElement (session=\"891d608e3ddf3d5b71b0f03b86215fbf\", element=\"f.B7558FD96AD525C28AF35C4C4C7BCD1B.d.10704E5560177FFE1D478A2999BA676F.e.170\")>,\n",
       " <selenium.webdriver.remote.webelement.WebElement (session=\"891d608e3ddf3d5b71b0f03b86215fbf\", element=\"f.B7558FD96AD525C28AF35C4C4C7BCD1B.d.10704E5560177FFE1D478A2999BA676F.e.171\")>,\n",
       " <selenium.webdriver.remote.webelement.WebElement (session=\"891d608e3ddf3d5b71b0f03b86215fbf\", element=\"f.B7558FD96AD525C28AF35C4C4C7BCD1B.d.10704E5560177FFE1D478A2999BA676F.e.172\")>,\n",
       " <selenium.webdriver.remote.webelement.WebElement (session=\"891d608e3ddf3d5b71b0f03b86215fbf\", element=\"f.B7558FD96AD525C28AF35C4C4C7BCD1B.d.10704E5560177FFE1D478A2999BA676F.e.173\")>,\n",
       " <selenium.webdriver.remote.webelement.WebElement (session=\"891d608e3ddf3d5b71b0f03b86215fbf\", element=\"f.B7558FD96AD525C28AF35C4C4C7BCD1B.d.10704E5560177FFE1D478A2999BA676F.e.174\")>,\n",
       " <selenium.webdriver.remote.webelement.WebElement (session=\"891d608e3ddf3d5b71b0f03b86215fbf\", element=\"f.B7558FD96AD525C28AF35C4C4C7BCD1B.d.10704E5560177FFE1D478A2999BA676F.e.175\")>,\n",
       " <selenium.webdriver.remote.webelement.WebElement (session=\"891d608e3ddf3d5b71b0f03b86215fbf\", element=\"f.B7558FD96AD525C28AF35C4C4C7BCD1B.d.10704E5560177FFE1D478A2999BA676F.e.176\")>,\n",
       " <selenium.webdriver.remote.webelement.WebElement (session=\"891d608e3ddf3d5b71b0f03b86215fbf\", element=\"f.B7558FD96AD525C28AF35C4C4C7BCD1B.d.10704E5560177FFE1D478A2999BA676F.e.177\")>,\n",
       " <selenium.webdriver.remote.webelement.WebElement (session=\"891d608e3ddf3d5b71b0f03b86215fbf\", element=\"f.B7558FD96AD525C28AF35C4C4C7BCD1B.d.10704E5560177FFE1D478A2999BA676F.e.178\")>,\n",
       " <selenium.webdriver.remote.webelement.WebElement (session=\"891d608e3ddf3d5b71b0f03b86215fbf\", element=\"f.B7558FD96AD525C28AF35C4C4C7BCD1B.d.10704E5560177FFE1D478A2999BA676F.e.179\")>,\n",
       " <selenium.webdriver.remote.webelement.WebElement (session=\"891d608e3ddf3d5b71b0f03b86215fbf\", element=\"f.B7558FD96AD525C28AF35C4C4C7BCD1B.d.10704E5560177FFE1D478A2999BA676F.e.180\")>,\n",
       " <selenium.webdriver.remote.webelement.WebElement (session=\"891d608e3ddf3d5b71b0f03b86215fbf\", element=\"f.B7558FD96AD525C28AF35C4C4C7BCD1B.d.10704E5560177FFE1D478A2999BA676F.e.181\")>,\n",
       " <selenium.webdriver.remote.webelement.WebElement (session=\"891d608e3ddf3d5b71b0f03b86215fbf\", element=\"f.B7558FD96AD525C28AF35C4C4C7BCD1B.d.10704E5560177FFE1D478A2999BA676F.e.182\")>,\n",
       " <selenium.webdriver.remote.webelement.WebElement (session=\"891d608e3ddf3d5b71b0f03b86215fbf\", element=\"f.B7558FD96AD525C28AF35C4C4C7BCD1B.d.10704E5560177FFE1D478A2999BA676F.e.183\")>,\n",
       " <selenium.webdriver.remote.webelement.WebElement (session=\"891d608e3ddf3d5b71b0f03b86215fbf\", element=\"f.B7558FD96AD525C28AF35C4C4C7BCD1B.d.10704E5560177FFE1D478A2999BA676F.e.184\")>,\n",
       " <selenium.webdriver.remote.webelement.WebElement (session=\"891d608e3ddf3d5b71b0f03b86215fbf\", element=\"f.B7558FD96AD525C28AF35C4C4C7BCD1B.d.10704E5560177FFE1D478A2999BA676F.e.185\")>,\n",
       " <selenium.webdriver.remote.webelement.WebElement (session=\"891d608e3ddf3d5b71b0f03b86215fbf\", element=\"f.B7558FD96AD525C28AF35C4C4C7BCD1B.d.10704E5560177FFE1D478A2999BA676F.e.186\")>,\n",
       " <selenium.webdriver.remote.webelement.WebElement (session=\"891d608e3ddf3d5b71b0f03b86215fbf\", element=\"f.B7558FD96AD525C28AF35C4C4C7BCD1B.d.10704E5560177FFE1D478A2999BA676F.e.187\")>,\n",
       " <selenium.webdriver.remote.webelement.WebElement (session=\"891d608e3ddf3d5b71b0f03b86215fbf\", element=\"f.B7558FD96AD525C28AF35C4C4C7BCD1B.d.10704E5560177FFE1D478A2999BA676F.e.188\")>,\n",
       " <selenium.webdriver.remote.webelement.WebElement (session=\"891d608e3ddf3d5b71b0f03b86215fbf\", element=\"f.B7558FD96AD525C28AF35C4C4C7BCD1B.d.10704E5560177FFE1D478A2999BA676F.e.189\")>,\n",
       " <selenium.webdriver.remote.webelement.WebElement (session=\"891d608e3ddf3d5b71b0f03b86215fbf\", element=\"f.B7558FD96AD525C28AF35C4C4C7BCD1B.d.10704E5560177FFE1D478A2999BA676F.e.190\")>,\n",
       " <selenium.webdriver.remote.webelement.WebElement (session=\"891d608e3ddf3d5b71b0f03b86215fbf\", element=\"f.B7558FD96AD525C28AF35C4C4C7BCD1B.d.10704E5560177FFE1D478A2999BA676F.e.191\")>,\n",
       " <selenium.webdriver.remote.webelement.WebElement (session=\"891d608e3ddf3d5b71b0f03b86215fbf\", element=\"f.B7558FD96AD525C28AF35C4C4C7BCD1B.d.10704E5560177FFE1D478A2999BA676F.e.192\")>,\n",
       " <selenium.webdriver.remote.webelement.WebElement (session=\"891d608e3ddf3d5b71b0f03b86215fbf\", element=\"f.B7558FD96AD525C28AF35C4C4C7BCD1B.d.10704E5560177FFE1D478A2999BA676F.e.193\")>,\n",
       " <selenium.webdriver.remote.webelement.WebElement (session=\"891d608e3ddf3d5b71b0f03b86215fbf\", element=\"f.B7558FD96AD525C28AF35C4C4C7BCD1B.d.10704E5560177FFE1D478A2999BA676F.e.194\")>,\n",
       " <selenium.webdriver.remote.webelement.WebElement (session=\"891d608e3ddf3d5b71b0f03b86215fbf\", element=\"f.B7558FD96AD525C28AF35C4C4C7BCD1B.d.10704E5560177FFE1D478A2999BA676F.e.195\")>,\n",
       " <selenium.webdriver.remote.webelement.WebElement (session=\"891d608e3ddf3d5b71b0f03b86215fbf\", element=\"f.B7558FD96AD525C28AF35C4C4C7BCD1B.d.10704E5560177FFE1D478A2999BA676F.e.196\")>,\n",
       " <selenium.webdriver.remote.webelement.WebElement (session=\"891d608e3ddf3d5b71b0f03b86215fbf\", element=\"f.B7558FD96AD525C28AF35C4C4C7BCD1B.d.10704E5560177FFE1D478A2999BA676F.e.197\")>,\n",
       " <selenium.webdriver.remote.webelement.WebElement (session=\"891d608e3ddf3d5b71b0f03b86215fbf\", element=\"f.B7558FD96AD525C28AF35C4C4C7BCD1B.d.10704E5560177FFE1D478A2999BA676F.e.198\")>,\n",
       " <selenium.webdriver.remote.webelement.WebElement (session=\"891d608e3ddf3d5b71b0f03b86215fbf\", element=\"f.B7558FD96AD525C28AF35C4C4C7BCD1B.d.10704E5560177FFE1D478A2999BA676F.e.199\")>,\n",
       " <selenium.webdriver.remote.webelement.WebElement (session=\"891d608e3ddf3d5b71b0f03b86215fbf\", element=\"f.B7558FD96AD525C28AF35C4C4C7BCD1B.d.10704E5560177FFE1D478A2999BA676F.e.200\")>,\n",
       " <selenium.webdriver.remote.webelement.WebElement (session=\"891d608e3ddf3d5b71b0f03b86215fbf\", element=\"f.B7558FD96AD525C28AF35C4C4C7BCD1B.d.10704E5560177FFE1D478A2999BA676F.e.201\")>,\n",
       " <selenium.webdriver.remote.webelement.WebElement (session=\"891d608e3ddf3d5b71b0f03b86215fbf\", element=\"f.B7558FD96AD525C28AF35C4C4C7BCD1B.d.10704E5560177FFE1D478A2999BA676F.e.202\")>,\n",
       " <selenium.webdriver.remote.webelement.WebElement (session=\"891d608e3ddf3d5b71b0f03b86215fbf\", element=\"f.B7558FD96AD525C28AF35C4C4C7BCD1B.d.10704E5560177FFE1D478A2999BA676F.e.203\")>,\n",
       " <selenium.webdriver.remote.webelement.WebElement (session=\"891d608e3ddf3d5b71b0f03b86215fbf\", element=\"f.B7558FD96AD525C28AF35C4C4C7BCD1B.d.10704E5560177FFE1D478A2999BA676F.e.204\")>,\n",
       " <selenium.webdriver.remote.webelement.WebElement (session=\"891d608e3ddf3d5b71b0f03b86215fbf\", element=\"f.B7558FD96AD525C28AF35C4C4C7BCD1B.d.10704E5560177FFE1D478A2999BA676F.e.205\")>,\n",
       " <selenium.webdriver.remote.webelement.WebElement (session=\"891d608e3ddf3d5b71b0f03b86215fbf\", element=\"f.B7558FD96AD525C28AF35C4C4C7BCD1B.d.10704E5560177FFE1D478A2999BA676F.e.206\")>,\n",
       " <selenium.webdriver.remote.webelement.WebElement (session=\"891d608e3ddf3d5b71b0f03b86215fbf\", element=\"f.B7558FD96AD525C28AF35C4C4C7BCD1B.d.10704E5560177FFE1D478A2999BA676F.e.207\")>,\n",
       " <selenium.webdriver.remote.webelement.WebElement (session=\"891d608e3ddf3d5b71b0f03b86215fbf\", element=\"f.B7558FD96AD525C28AF35C4C4C7BCD1B.d.10704E5560177FFE1D478A2999BA676F.e.208\")>,\n",
       " <selenium.webdriver.remote.webelement.WebElement (session=\"891d608e3ddf3d5b71b0f03b86215fbf\", element=\"f.B7558FD96AD525C28AF35C4C4C7BCD1B.d.10704E5560177FFE1D478A2999BA676F.e.209\")>,\n",
       " <selenium.webdriver.remote.webelement.WebElement (session=\"891d608e3ddf3d5b71b0f03b86215fbf\", element=\"f.B7558FD96AD525C28AF35C4C4C7BCD1B.d.10704E5560177FFE1D478A2999BA676F.e.210\")>,\n",
       " <selenium.webdriver.remote.webelement.WebElement (session=\"891d608e3ddf3d5b71b0f03b86215fbf\", element=\"f.B7558FD96AD525C28AF35C4C4C7BCD1B.d.10704E5560177FFE1D478A2999BA676F.e.211\")>,\n",
       " <selenium.webdriver.remote.webelement.WebElement (session=\"891d608e3ddf3d5b71b0f03b86215fbf\", element=\"f.B7558FD96AD525C28AF35C4C4C7BCD1B.d.10704E5560177FFE1D478A2999BA676F.e.212\")>,\n",
       " <selenium.webdriver.remote.webelement.WebElement (session=\"891d608e3ddf3d5b71b0f03b86215fbf\", element=\"f.B7558FD96AD525C28AF35C4C4C7BCD1B.d.10704E5560177FFE1D478A2999BA676F.e.213\")>,\n",
       " <selenium.webdriver.remote.webelement.WebElement (session=\"891d608e3ddf3d5b71b0f03b86215fbf\", element=\"f.B7558FD96AD525C28AF35C4C4C7BCD1B.d.10704E5560177FFE1D478A2999BA676F.e.214\")>,\n",
       " <selenium.webdriver.remote.webelement.WebElement (session=\"891d608e3ddf3d5b71b0f03b86215fbf\", element=\"f.B7558FD96AD525C28AF35C4C4C7BCD1B.d.10704E5560177FFE1D478A2999BA676F.e.215\")>,\n",
       " <selenium.webdriver.remote.webelement.WebElement (session=\"891d608e3ddf3d5b71b0f03b86215fbf\", element=\"f.B7558FD96AD525C28AF35C4C4C7BCD1B.d.10704E5560177FFE1D478A2999BA676F.e.216\")>,\n",
       " <selenium.webdriver.remote.webelement.WebElement (session=\"891d608e3ddf3d5b71b0f03b86215fbf\", element=\"f.B7558FD96AD525C28AF35C4C4C7BCD1B.d.10704E5560177FFE1D478A2999BA676F.e.217\")>,\n",
       " <selenium.webdriver.remote.webelement.WebElement (session=\"891d608e3ddf3d5b71b0f03b86215fbf\", element=\"f.B7558FD96AD525C28AF35C4C4C7BCD1B.d.10704E5560177FFE1D478A2999BA676F.e.218\")>,\n",
       " <selenium.webdriver.remote.webelement.WebElement (session=\"891d608e3ddf3d5b71b0f03b86215fbf\", element=\"f.B7558FD96AD525C28AF35C4C4C7BCD1B.d.10704E5560177FFE1D478A2999BA676F.e.219\")>,\n",
       " <selenium.webdriver.remote.webelement.WebElement (session=\"891d608e3ddf3d5b71b0f03b86215fbf\", element=\"f.B7558FD96AD525C28AF35C4C4C7BCD1B.d.10704E5560177FFE1D478A2999BA676F.e.220\")>,\n",
       " <selenium.webdriver.remote.webelement.WebElement (session=\"891d608e3ddf3d5b71b0f03b86215fbf\", element=\"f.B7558FD96AD525C28AF35C4C4C7BCD1B.d.10704E5560177FFE1D478A2999BA676F.e.221\")>,\n",
       " <selenium.webdriver.remote.webelement.WebElement (session=\"891d608e3ddf3d5b71b0f03b86215fbf\", element=\"f.B7558FD96AD525C28AF35C4C4C7BCD1B.d.10704E5560177FFE1D478A2999BA676F.e.222\")>,\n",
       " <selenium.webdriver.remote.webelement.WebElement (session=\"891d608e3ddf3d5b71b0f03b86215fbf\", element=\"f.B7558FD96AD525C28AF35C4C4C7BCD1B.d.10704E5560177FFE1D478A2999BA676F.e.223\")>,\n",
       " <selenium.webdriver.remote.webelement.WebElement (session=\"891d608e3ddf3d5b71b0f03b86215fbf\", element=\"f.B7558FD96AD525C28AF35C4C4C7BCD1B.d.10704E5560177FFE1D478A2999BA676F.e.224\")>,\n",
       " <selenium.webdriver.remote.webelement.WebElement (session=\"891d608e3ddf3d5b71b0f03b86215fbf\", element=\"f.B7558FD96AD525C28AF35C4C4C7BCD1B.d.10704E5560177FFE1D478A2999BA676F.e.225\")>,\n",
       " <selenium.webdriver.remote.webelement.WebElement (session=\"891d608e3ddf3d5b71b0f03b86215fbf\", element=\"f.B7558FD96AD525C28AF35C4C4C7BCD1B.d.10704E5560177FFE1D478A2999BA676F.e.226\")>,\n",
       " <selenium.webdriver.remote.webelement.WebElement (session=\"891d608e3ddf3d5b71b0f03b86215fbf\", element=\"f.B7558FD96AD525C28AF35C4C4C7BCD1B.d.10704E5560177FFE1D478A2999BA676F.e.227\")>,\n",
       " <selenium.webdriver.remote.webelement.WebElement (session=\"891d608e3ddf3d5b71b0f03b86215fbf\", element=\"f.B7558FD96AD525C28AF35C4C4C7BCD1B.d.10704E5560177FFE1D478A2999BA676F.e.228\")>,\n",
       " <selenium.webdriver.remote.webelement.WebElement (session=\"891d608e3ddf3d5b71b0f03b86215fbf\", element=\"f.B7558FD96AD525C28AF35C4C4C7BCD1B.d.10704E5560177FFE1D478A2999BA676F.e.229\")>,\n",
       " <selenium.webdriver.remote.webelement.WebElement (session=\"891d608e3ddf3d5b71b0f03b86215fbf\", element=\"f.B7558FD96AD525C28AF35C4C4C7BCD1B.d.10704E5560177FFE1D478A2999BA676F.e.230\")>,\n",
       " <selenium.webdriver.remote.webelement.WebElement (session=\"891d608e3ddf3d5b71b0f03b86215fbf\", element=\"f.B7558FD96AD525C28AF35C4C4C7BCD1B.d.10704E5560177FFE1D478A2999BA676F.e.231\")>,\n",
       " <selenium.webdriver.remote.webelement.WebElement (session=\"891d608e3ddf3d5b71b0f03b86215fbf\", element=\"f.B7558FD96AD525C28AF35C4C4C7BCD1B.d.10704E5560177FFE1D478A2999BA676F.e.232\")>,\n",
       " <selenium.webdriver.remote.webelement.WebElement (session=\"891d608e3ddf3d5b71b0f03b86215fbf\", element=\"f.B7558FD96AD525C28AF35C4C4C7BCD1B.d.10704E5560177FFE1D478A2999BA676F.e.233\")>,\n",
       " <selenium.webdriver.remote.webelement.WebElement (session=\"891d608e3ddf3d5b71b0f03b86215fbf\", element=\"f.B7558FD96AD525C28AF35C4C4C7BCD1B.d.10704E5560177FFE1D478A2999BA676F.e.234\")>,\n",
       " <selenium.webdriver.remote.webelement.WebElement (session=\"891d608e3ddf3d5b71b0f03b86215fbf\", element=\"f.B7558FD96AD525C28AF35C4C4C7BCD1B.d.10704E5560177FFE1D478A2999BA676F.e.235\")>,\n",
       " <selenium.webdriver.remote.webelement.WebElement (session=\"891d608e3ddf3d5b71b0f03b86215fbf\", element=\"f.B7558FD96AD525C28AF35C4C4C7BCD1B.d.10704E5560177FFE1D478A2999BA676F.e.236\")>,\n",
       " <selenium.webdriver.remote.webelement.WebElement (session=\"891d608e3ddf3d5b71b0f03b86215fbf\", element=\"f.B7558FD96AD525C28AF35C4C4C7BCD1B.d.10704E5560177FFE1D478A2999BA676F.e.237\")>,\n",
       " <selenium.webdriver.remote.webelement.WebElement (session=\"891d608e3ddf3d5b71b0f03b86215fbf\", element=\"f.B7558FD96AD525C28AF35C4C4C7BCD1B.d.10704E5560177FFE1D478A2999BA676F.e.238\")>,\n",
       " <selenium.webdriver.remote.webelement.WebElement (session=\"891d608e3ddf3d5b71b0f03b86215fbf\", element=\"f.B7558FD96AD525C28AF35C4C4C7BCD1B.d.10704E5560177FFE1D478A2999BA676F.e.239\")>,\n",
       " <selenium.webdriver.remote.webelement.WebElement (session=\"891d608e3ddf3d5b71b0f03b86215fbf\", element=\"f.B7558FD96AD525C28AF35C4C4C7BCD1B.d.10704E5560177FFE1D478A2999BA676F.e.240\")>,\n",
       " <selenium.webdriver.remote.webelement.WebElement (session=\"891d608e3ddf3d5b71b0f03b86215fbf\", element=\"f.B7558FD96AD525C28AF35C4C4C7BCD1B.d.10704E5560177FFE1D478A2999BA676F.e.241\")>,\n",
       " <selenium.webdriver.remote.webelement.WebElement (session=\"891d608e3ddf3d5b71b0f03b86215fbf\", element=\"f.B7558FD96AD525C28AF35C4C4C7BCD1B.d.10704E5560177FFE1D478A2999BA676F.e.242\")>,\n",
       " <selenium.webdriver.remote.webelement.WebElement (session=\"891d608e3ddf3d5b71b0f03b86215fbf\", element=\"f.B7558FD96AD525C28AF35C4C4C7BCD1B.d.10704E5560177FFE1D478A2999BA676F.e.243\")>,\n",
       " <selenium.webdriver.remote.webelement.WebElement (session=\"891d608e3ddf3d5b71b0f03b86215fbf\", element=\"f.B7558FD96AD525C28AF35C4C4C7BCD1B.d.10704E5560177FFE1D478A2999BA676F.e.244\")>,\n",
       " <selenium.webdriver.remote.webelement.WebElement (session=\"891d608e3ddf3d5b71b0f03b86215fbf\", element=\"f.B7558FD96AD525C28AF35C4C4C7BCD1B.d.10704E5560177FFE1D478A2999BA676F.e.245\")>,\n",
       " <selenium.webdriver.remote.webelement.WebElement (session=\"891d608e3ddf3d5b71b0f03b86215fbf\", element=\"f.B7558FD96AD525C28AF35C4C4C7BCD1B.d.10704E5560177FFE1D478A2999BA676F.e.246\")>,\n",
       " <selenium.webdriver.remote.webelement.WebElement (session=\"891d608e3ddf3d5b71b0f03b86215fbf\", element=\"f.B7558FD96AD525C28AF35C4C4C7BCD1B.d.10704E5560177FFE1D478A2999BA676F.e.247\")>,\n",
       " <selenium.webdriver.remote.webelement.WebElement (session=\"891d608e3ddf3d5b71b0f03b86215fbf\", element=\"f.B7558FD96AD525C28AF35C4C4C7BCD1B.d.10704E5560177FFE1D478A2999BA676F.e.248\")>,\n",
       " <selenium.webdriver.remote.webelement.WebElement (session=\"891d608e3ddf3d5b71b0f03b86215fbf\", element=\"f.B7558FD96AD525C28AF35C4C4C7BCD1B.d.10704E5560177FFE1D478A2999BA676F.e.249\")>,\n",
       " <selenium.webdriver.remote.webelement.WebElement (session=\"891d608e3ddf3d5b71b0f03b86215fbf\", element=\"f.B7558FD96AD525C28AF35C4C4C7BCD1B.d.10704E5560177FFE1D478A2999BA676F.e.250\")>,\n",
       " <selenium.webdriver.remote.webelement.WebElement (session=\"891d608e3ddf3d5b71b0f03b86215fbf\", element=\"f.B7558FD96AD525C28AF35C4C4C7BCD1B.d.10704E5560177FFE1D478A2999BA676F.e.251\")>,\n",
       " <selenium.webdriver.remote.webelement.WebElement (session=\"891d608e3ddf3d5b71b0f03b86215fbf\", element=\"f.B7558FD96AD525C28AF35C4C4C7BCD1B.d.10704E5560177FFE1D478A2999BA676F.e.252\")>,\n",
       " <selenium.webdriver.remote.webelement.WebElement (session=\"891d608e3ddf3d5b71b0f03b86215fbf\", element=\"f.B7558FD96AD525C28AF35C4C4C7BCD1B.d.10704E5560177FFE1D478A2999BA676F.e.253\")>,\n",
       " <selenium.webdriver.remote.webelement.WebElement (session=\"891d608e3ddf3d5b71b0f03b86215fbf\", element=\"f.B7558FD96AD525C28AF35C4C4C7BCD1B.d.10704E5560177FFE1D478A2999BA676F.e.254\")>,\n",
       " <selenium.webdriver.remote.webelement.WebElement (session=\"891d608e3ddf3d5b71b0f03b86215fbf\", element=\"f.B7558FD96AD525C28AF35C4C4C7BCD1B.d.10704E5560177FFE1D478A2999BA676F.e.255\")>,\n",
       " <selenium.webdriver.remote.webelement.WebElement (session=\"891d608e3ddf3d5b71b0f03b86215fbf\", element=\"f.B7558FD96AD525C28AF35C4C4C7BCD1B.d.10704E5560177FFE1D478A2999BA676F.e.256\")>,\n",
       " <selenium.webdriver.remote.webelement.WebElement (session=\"891d608e3ddf3d5b71b0f03b86215fbf\", element=\"f.B7558FD96AD525C28AF35C4C4C7BCD1B.d.10704E5560177FFE1D478A2999BA676F.e.257\")>,\n",
       " <selenium.webdriver.remote.webelement.WebElement (session=\"891d608e3ddf3d5b71b0f03b86215fbf\", element=\"f.B7558FD96AD525C28AF35C4C4C7BCD1B.d.10704E5560177FFE1D478A2999BA676F.e.258\")>,\n",
       " <selenium.webdriver.remote.webelement.WebElement (session=\"891d608e3ddf3d5b71b0f03b86215fbf\", element=\"f.B7558FD96AD525C28AF35C4C4C7BCD1B.d.10704E5560177FFE1D478A2999BA676F.e.259\")>,\n",
       " <selenium.webdriver.remote.webelement.WebElement (session=\"891d608e3ddf3d5b71b0f03b86215fbf\", element=\"f.B7558FD96AD525C28AF35C4C4C7BCD1B.d.10704E5560177FFE1D478A2999BA676F.e.260\")>,\n",
       " <selenium.webdriver.remote.webelement.WebElement (session=\"891d608e3ddf3d5b71b0f03b86215fbf\", element=\"f.B7558FD96AD525C28AF35C4C4C7BCD1B.d.10704E5560177FFE1D478A2999BA676F.e.261\")>,\n",
       " <selenium.webdriver.remote.webelement.WebElement (session=\"891d608e3ddf3d5b71b0f03b86215fbf\", element=\"f.B7558FD96AD525C28AF35C4C4C7BCD1B.d.10704E5560177FFE1D478A2999BA676F.e.262\")>,\n",
       " <selenium.webdriver.remote.webelement.WebElement (session=\"891d608e3ddf3d5b71b0f03b86215fbf\", element=\"f.B7558FD96AD525C28AF35C4C4C7BCD1B.d.10704E5560177FFE1D478A2999BA676F.e.263\")>,\n",
       " <selenium.webdriver.remote.webelement.WebElement (session=\"891d608e3ddf3d5b71b0f03b86215fbf\", element=\"f.B7558FD96AD525C28AF35C4C4C7BCD1B.d.10704E5560177FFE1D478A2999BA676F.e.264\")>,\n",
       " <selenium.webdriver.remote.webelement.WebElement (session=\"891d608e3ddf3d5b71b0f03b86215fbf\", element=\"f.B7558FD96AD525C28AF35C4C4C7BCD1B.d.10704E5560177FFE1D478A2999BA676F.e.265\")>,\n",
       " <selenium.webdriver.remote.webelement.WebElement (session=\"891d608e3ddf3d5b71b0f03b86215fbf\", element=\"f.B7558FD96AD525C28AF35C4C4C7BCD1B.d.10704E5560177FFE1D478A2999BA676F.e.266\")>,\n",
       " <selenium.webdriver.remote.webelement.WebElement (session=\"891d608e3ddf3d5b71b0f03b86215fbf\", element=\"f.B7558FD96AD525C28AF35C4C4C7BCD1B.d.10704E5560177FFE1D478A2999BA676F.e.267\")>,\n",
       " <selenium.webdriver.remote.webelement.WebElement (session=\"891d608e3ddf3d5b71b0f03b86215fbf\", element=\"f.B7558FD96AD525C28AF35C4C4C7BCD1B.d.10704E5560177FFE1D478A2999BA676F.e.268\")>,\n",
       " <selenium.webdriver.remote.webelement.WebElement (session=\"891d608e3ddf3d5b71b0f03b86215fbf\", element=\"f.B7558FD96AD525C28AF35C4C4C7BCD1B.d.10704E5560177FFE1D478A2999BA676F.e.269\")>,\n",
       " <selenium.webdriver.remote.webelement.WebElement (session=\"891d608e3ddf3d5b71b0f03b86215fbf\", element=\"f.B7558FD96AD525C28AF35C4C4C7BCD1B.d.10704E5560177FFE1D478A2999BA676F.e.270\")>,\n",
       " <selenium.webdriver.remote.webelement.WebElement (session=\"891d608e3ddf3d5b71b0f03b86215fbf\", element=\"f.B7558FD96AD525C28AF35C4C4C7BCD1B.d.10704E5560177FFE1D478A2999BA676F.e.271\")>,\n",
       " <selenium.webdriver.remote.webelement.WebElement (session=\"891d608e3ddf3d5b71b0f03b86215fbf\", element=\"f.B7558FD96AD525C28AF35C4C4C7BCD1B.d.10704E5560177FFE1D478A2999BA676F.e.272\")>,\n",
       " <selenium.webdriver.remote.webelement.WebElement (session=\"891d608e3ddf3d5b71b0f03b86215fbf\", element=\"f.B7558FD96AD525C28AF35C4C4C7BCD1B.d.10704E5560177FFE1D478A2999BA676F.e.273\")>,\n",
       " <selenium.webdriver.remote.webelement.WebElement (session=\"891d608e3ddf3d5b71b0f03b86215fbf\", element=\"f.B7558FD96AD525C28AF35C4C4C7BCD1B.d.10704E5560177FFE1D478A2999BA676F.e.274\")>,\n",
       " <selenium.webdriver.remote.webelement.WebElement (session=\"891d608e3ddf3d5b71b0f03b86215fbf\", element=\"f.B7558FD96AD525C28AF35C4C4C7BCD1B.d.10704E5560177FFE1D478A2999BA676F.e.275\")>,\n",
       " <selenium.webdriver.remote.webelement.WebElement (session=\"891d608e3ddf3d5b71b0f03b86215fbf\", element=\"f.B7558FD96AD525C28AF35C4C4C7BCD1B.d.10704E5560177FFE1D478A2999BA676F.e.276\")>,\n",
       " <selenium.webdriver.remote.webelement.WebElement (session=\"891d608e3ddf3d5b71b0f03b86215fbf\", element=\"f.B7558FD96AD525C28AF35C4C4C7BCD1B.d.10704E5560177FFE1D478A2999BA676F.e.277\")>,\n",
       " <selenium.webdriver.remote.webelement.WebElement (session=\"891d608e3ddf3d5b71b0f03b86215fbf\", element=\"f.B7558FD96AD525C28AF35C4C4C7BCD1B.d.10704E5560177FFE1D478A2999BA676F.e.278\")>,\n",
       " <selenium.webdriver.remote.webelement.WebElement (session=\"891d608e3ddf3d5b71b0f03b86215fbf\", element=\"f.B7558FD96AD525C28AF35C4C4C7BCD1B.d.10704E5560177FFE1D478A2999BA676F.e.279\")>,\n",
       " <selenium.webdriver.remote.webelement.WebElement (session=\"891d608e3ddf3d5b71b0f03b86215fbf\", element=\"f.B7558FD96AD525C28AF35C4C4C7BCD1B.d.10704E5560177FFE1D478A2999BA676F.e.280\")>,\n",
       " <selenium.webdriver.remote.webelement.WebElement (session=\"891d608e3ddf3d5b71b0f03b86215fbf\", element=\"f.B7558FD96AD525C28AF35C4C4C7BCD1B.d.10704E5560177FFE1D478A2999BA676F.e.281\")>,\n",
       " <selenium.webdriver.remote.webelement.WebElement (session=\"891d608e3ddf3d5b71b0f03b86215fbf\", element=\"f.B7558FD96AD525C28AF35C4C4C7BCD1B.d.10704E5560177FFE1D478A2999BA676F.e.282\")>,\n",
       " <selenium.webdriver.remote.webelement.WebElement (session=\"891d608e3ddf3d5b71b0f03b86215fbf\", element=\"f.B7558FD96AD525C28AF35C4C4C7BCD1B.d.10704E5560177FFE1D478A2999BA676F.e.283\")>,\n",
       " <selenium.webdriver.remote.webelement.WebElement (session=\"891d608e3ddf3d5b71b0f03b86215fbf\", element=\"f.B7558FD96AD525C28AF35C4C4C7BCD1B.d.10704E5560177FFE1D478A2999BA676F.e.284\")>]"
      ]
     },
     "execution_count": 68,
     "metadata": {},
     "output_type": "execute_result"
    }
   ],
   "source": [
    "from selenium import webdriver\n",
    "from selenium.webdriver.common.by import By\n",
    "from selenium.webdriver.common.keys import Keys\n",
    "from selenium.webdriver.support.ui import WebDriverWait\n",
    "from selenium.webdriver.support import expected_conditions as EC\n",
    "import pandas as pd\n",
    "import plotly.express as px\n",
    "import plotly.subplots as sp\n",
    "import plotly.graph_objects as go\n",
    "\n",
    "\n",
    "url = \"https://www.superjob.ru/research/articles/114685/rynok-truda-v-it/\"\n",
    "driver = webdriver.Chrome()\n",
    "driver.get(url)\n",
    "td = WebDriverWait(driver,10).until(\n",
    "    EC.presence_of_all_elements_located((By.TAG_NAME, 'td'))\n",
    ")   \n",
    "td"
   ]
  },
  {
   "cell_type": "code",
   "execution_count": 69,
   "metadata": {},
   "outputs": [
    {
     "data": {
      "text/plain": [
       "['',\n",
       " ' ',\n",
       " '',\n",
       " ' ',\n",
       " '',\n",
       " '• Заказать исследование\\n• Заказать обзор заработных плат\\nИсследовательский центр',\n",
       " 'Новости\\nОб исследовательском центре\\nОтраслевые бенчмарки\\nЗарплатные индексы SuperJob\\nЖурнал \"Зарплатомер\"\\nСоциологические опросы\\n      Государство\\n      Общество\\n      Политика\\n      Экономика\\n      Образование\\n      События\\n      Разное\\n\\nМаркетинговые исследования\\nОбзоры зарплат\\nРынок труда\\nИндекс SuperJob\\n Привлекательный работодатель\\nПривлекательный работодатель - 2024\\nРейтинг It вузов России\\nРейтинг Экономических вузов\\nРейтинг Юридических вузов\\n Моя подписка на результаты исследований\\nСпециальное предложение для СМИ\\nСпециальное предложение для служб занятости вузов\\n Контакты',\n",
       " 'Рынок труда в IT: что изменилось за год',\n",
       " 'Показатель',\n",
       " 'Динамика за год, %',\n",
       " 'Россия, все округа',\n",
       " 'Москва',\n",
       " 'Санкт-Петербург',\n",
       " 'Прирост количества вакансий',\n",
       " '+19%',\n",
       " '+23%',\n",
       " '+12%',\n",
       " 'Прирост количества резюме',\n",
       " '+7%',\n",
       " '+9%',\n",
       " '+4%',\n",
       " 'Изменения конкурса',\n",
       " '-11%',\n",
       " '-13%',\n",
       " '-7%',\n",
       " 'Позиция',\n",
       " 'Заработная плата, Net (на руки, после уплаты налогов), fix (без учета бонусов, дополнительных льгот и компенсаций), руб. в мес.',\n",
       " 'Темп прироста средней рыночной заработной платы за год, %',\n",
       " 'средняя (медиана)',\n",
       " 'max',\n",
       " 'Программист Java',\n",
       " '320000',\n",
       " '600000',\n",
       " '+7%',\n",
       " 'Программист PHP',\n",
       " '280000',\n",
       " '550000',\n",
       " '+4%',\n",
       " 'Программист C++',\n",
       " '280000',\n",
       " '650000',\n",
       " '+12%',\n",
       " 'Программист Python',\n",
       " '280000',\n",
       " '550000',\n",
       " '+4%',\n",
       " 'Программист C#',\n",
       " '270000',\n",
       " '550000',\n",
       " '+4%',\n",
       " 'Позиция',\n",
       " 'Заработная плата, Net, fix, руб. в мес.',\n",
       " 'Темп прироста средней рыночной заработной платы за год, %',\n",
       " 'средняя (медиана)',\n",
       " 'max',\n",
       " 'Программист Java',\n",
       " '270000',\n",
       " '500000',\n",
       " '+8%',\n",
       " 'Программист PHP',\n",
       " '240000',\n",
       " '460000',\n",
       " '+4%',\n",
       " 'Программист C++',\n",
       " '240000',\n",
       " '550000',\n",
       " '+14%',\n",
       " 'Программист Python',\n",
       " '240000',\n",
       " '460000',\n",
       " '+4%',\n",
       " 'Программист C#',\n",
       " '230000',\n",
       " '450000',\n",
       " '+5%',\n",
       " 'Позиция',\n",
       " 'Заработная плата, Net, fix, руб. в мес.',\n",
       " 'Темп прироста средней рыночной заработной платы за год, %',\n",
       " 'средняя (медиана)',\n",
       " 'max',\n",
       " 'Бизнес-аналитик',\n",
       " '220000',\n",
       " '450000',\n",
       " '+5%',\n",
       " 'Руководитель проекта',\n",
       " '280000',\n",
       " '550000',\n",
       " '+12%',\n",
       " 'Позиция',\n",
       " 'Заработная плата, Net, fix, руб. в мес.',\n",
       " 'Темп прироста средней рыночной заработной платы за год, %',\n",
       " 'средняя (медиана)',\n",
       " 'max',\n",
       " 'Бизнес-аналитик',\n",
       " '180000',\n",
       " '380000',\n",
       " '+6%',\n",
       " 'Руководитель проекта',\n",
       " '250000',\n",
       " '550000',\n",
       " '+14%',\n",
       " 'Позиция',\n",
       " 'Заработная плата, Net, fix, руб. в мес.',\n",
       " 'Темп прироста средней рыночной заработной платы за год, %',\n",
       " 'средняя (медиана)',\n",
       " 'максимальная',\n",
       " 'Программист PHP с опытом машинного обучения',\n",
       " '370 000\\n(медиана по рынку труда — 280 000)',\n",
       " '550 000',\n",
       " '+6%',\n",
       " 'Data Scientist с опытом машинного обучения',\n",
       " '300 000\\n(медиана по рынку труда — 270 000)',\n",
       " '500 000',\n",
       " '+11%',\n",
       " 'Позиция',\n",
       " 'Заработная плата, Net, fix, руб. в мес.',\n",
       " 'Темп прироста средней рыночной заработной платы за год, %',\n",
       " 'средняя (медиана)',\n",
       " 'максимальная',\n",
       " 'Программист PHP с опытом машинного обучения',\n",
       " '310 000\\n(медиана по рынку труда — 240 000)',\n",
       " '550 000',\n",
       " '+7%',\n",
       " 'Data Scientist с опытом машинного обучения',\n",
       " '250 000\\n(медиана по рынку труда — 230 000)',\n",
       " '420 000',\n",
       " '+9%',\n",
       " 'Показатель',\n",
       " 'Динамика за год, %',\n",
       " 'Россия, все округа',\n",
       " 'Москва',\n",
       " 'Санкт-Петербург',\n",
       " 'Прирост количества вакансий',\n",
       " '+22%',\n",
       " '+22%',\n",
       " '+19%',\n",
       " 'Прирост количества резюме',\n",
       " '+5%',\n",
       " '+10%',\n",
       " '+3%',\n",
       " 'Изменения конкурса',\n",
       " '-14%',\n",
       " '-10%',\n",
       " '-13%',\n",
       " 'Позиция',\n",
       " 'Заработная плата, Net, fix, руб. в мес.',\n",
       " 'Темп прироста средней рыночной заработной платы за год, %',\n",
       " 'средняя (медиана)',\n",
       " 'max',\n",
       " 'Директор по информационной безопасности',\n",
       " '450000',\n",
       " '1000000',\n",
       " '+13%',\n",
       " 'Руководитель отдела информационной безопасности',\n",
       " '330000',\n",
       " '600000',\n",
       " '+6%',\n",
       " 'Специалист по информационной безопасности',\n",
       " '210000',\n",
       " '350000',\n",
       " '+17%',\n",
       " 'Позиция',\n",
       " 'Заработная плата, Net, fix, руб. в мес.',\n",
       " 'Темп прироста средней рыночной заработной платы за год, %',\n",
       " 'средняя (медиана)',\n",
       " 'max',\n",
       " 'Директор по информационной безопасности',\n",
       " '420000',\n",
       " '950000',\n",
       " '+11%',\n",
       " 'Руководитель отдела информационной безопасности',\n",
       " '290000',\n",
       " '530000',\n",
       " '+4%',\n",
       " 'Специалист по информационной безопасности',\n",
       " '180000',\n",
       " '290000',\n",
       " '+20%',\n",
       " 'Позиция для переквалификации',\n",
       " 'Все',\n",
       " 'Желают остаться в профессии, ищут работу консультантом SAP',\n",
       " '46%',\n",
       " 'Бизнес-аналитик/системный аналитик/аналитик данных',\n",
       " '20%',\n",
       " 'Программист',\n",
       " '10%',\n",
       " 'Консультант «1С»',\n",
       " '6%',\n",
       " 'Product-менеджер/project-менеджер',\n",
       " '5%',\n",
       " 'Системный администратор',\n",
       " '4%',\n",
       " 'Системный архитектор',\n",
       " '3%',\n",
       " 'Другое\\n\\n(специалист поддержки, инженер, специалист по подбору персонала, менеджер по работе с партнерами в сфере IT, консультант по внедрению ERP-системы, менеджер-методолог)',\n",
       " '6%',\n",
       " 'Характеристики',\n",
       " 'Все',\n",
       " 'Желают остаться в профессии, ищут работу консультантом SAP',\n",
       " 'Переквалифицируются',\n",
       " 'Средний возраст, лет',\n",
       " '34',\n",
       " '34',\n",
       " 'Средний стаж работы консультантом SAP, лет',\n",
       " '9,8',\n",
       " '7,3',\n",
       " 'Зарплатные ожидания в Москве, руб. в месяц',\n",
       " 'средние (медиана)',\n",
       " '195000',\n",
       " '150000',\n",
       " 'максимальные',\n",
       " '500000',\n",
       " '600000',\n",
       " 'Зарплатные ожидания в Санкт-Петербурге, руб. в месяц',\n",
       " 'средние (медиана)',\n",
       " '165000',\n",
       " '125000',\n",
       " 'максимальные',\n",
       " '420000',\n",
       " '500000',\n",
       " 'Показатель',\n",
       " 'Доля вакансий на удаленке, %',\n",
       " 'Россия, все округа',\n",
       " 'Москва',\n",
       " 'Санкт-Петербург',\n",
       " 'По всему рынку труда России',\n",
       " '4—6%',\n",
       " '6—8%',\n",
       " '4—7%',\n",
       " 'В IT-сфере',\n",
       " '26—28%',\n",
       " '25—27%',\n",
       " '23—25%',\n",
       " 'Позиция',\n",
       " 'Заработная плата, Net, fix, руб. в мес.',\n",
       " 'Темп прироста средней рыночной заработной платы за год, %',\n",
       " 'средняя (медиана)',\n",
       " 'max',\n",
       " 'IT-рекрутер',\n",
       " '150000',\n",
       " '300000',\n",
       " '+7%',\n",
       " 'Позиция',\n",
       " 'Заработная плата, Net, fix, руб. в мес.',\n",
       " 'Темп прироста средней рыночной заработной платы за год, %',\n",
       " 'средняя (медиана)',\n",
       " 'max',\n",
       " 'IT-рекрутер',\n",
       " '125000',\n",
       " '250000',\n",
       " '+9%',\n",
       " 'Другие статьи',\n",
       " 'Индекс курьера\\nРабочие обгоняют программистов по темпам роста зарплат\\nЖенщины численно лидируют в легкой и пищевой промышленности Москвы, но зарплатные ожидания выше у мужчин\\nЧем дальше регион от столицы, тем чаще молодежь готова к переезду ради работы\\nУправляющий дополнительным офисом банка\\nПрограммное интервью создателя, владельца и президента SuperJob Алексея Захарова\\nИтоги 2024 на рынке труда Волгоградской области\\nИтоги 2024 года на рынке труда Красноярского края\\nИтоги 2024 на рынке труда Омской области\\nИтоги 2024 на рынке труда Нижегородской области']"
      ]
     },
     "execution_count": 69,
     "metadata": {},
     "output_type": "execute_result"
    }
   ],
   "source": [
    "data_list = []\n",
    "for elem in td:\n",
    "    data_list.append(elem.text)\n",
    "data_list"
   ]
  },
  {
   "cell_type": "code",
   "execution_count": 70,
   "metadata": {},
   "outputs": [
    {
     "data": {
      "text/html": [
       "<div>\n",
       "<style scoped>\n",
       "    .dataframe tbody tr th:only-of-type {\n",
       "        vertical-align: middle;\n",
       "    }\n",
       "\n",
       "    .dataframe tbody tr th {\n",
       "        vertical-align: top;\n",
       "    }\n",
       "\n",
       "    .dataframe thead th {\n",
       "        text-align: right;\n",
       "    }\n",
       "</style>\n",
       "<table border=\"1\" class=\"dataframe\">\n",
       "  <thead>\n",
       "    <tr style=\"text-align: right;\">\n",
       "      <th></th>\n",
       "      <th>Показатель</th>\n",
       "      <th>Россия, все округа</th>\n",
       "      <th>Москва</th>\n",
       "      <th>Санкт-Петербург</th>\n",
       "    </tr>\n",
       "  </thead>\n",
       "  <tbody>\n",
       "    <tr>\n",
       "      <th>0</th>\n",
       "      <td>Прирост количества вакансий</td>\n",
       "      <td>+19%</td>\n",
       "      <td>+23%</td>\n",
       "      <td>+12%</td>\n",
       "    </tr>\n",
       "    <tr>\n",
       "      <th>1</th>\n",
       "      <td>Прирост количества резюме</td>\n",
       "      <td>+7%</td>\n",
       "      <td>+9%</td>\n",
       "      <td>+4%</td>\n",
       "    </tr>\n",
       "    <tr>\n",
       "      <th>2</th>\n",
       "      <td>Изменения конкурса</td>\n",
       "      <td>-11%</td>\n",
       "      <td>-13%</td>\n",
       "      <td>-7%</td>\n",
       "    </tr>\n",
       "  </tbody>\n",
       "</table>\n",
       "</div>"
      ],
      "text/plain": [
       "                    Показатель Россия, все округа Москва Санкт-Петербург\n",
       "0  Прирост количества вакансий               +19%   +23%            +12%\n",
       "1    Прирост количества резюме                +7%    +9%             +4%\n",
       "2           Изменения конкурса               -11%   -13%             -7%"
      ]
     },
     "execution_count": 70,
     "metadata": {},
     "output_type": "execute_result"
    }
   ],
   "source": [
    "# Очистка списка от пустых строк и пробелов\n",
    "cleaned_list = [item.strip() for item in data_list if item.strip()]\n",
    "\n",
    "# Извлечение первой таблицы\n",
    "# Конкурс на вакансию в IT\n",
    "index_start = cleaned_list.index('Прирост количества вакансий')\n",
    "data_values = cleaned_list[index_start:index_start + 12]  # Берем 3 строки по 4 элемента (включая заголовок строки)\n",
    "\n",
    "# Преобразование в таблицу\n",
    "columns = ['Показатель', 'Россия, все округа', 'Москва', 'Санкт-Петербург']\n",
    "data_rows = [data_values[i:i+4] for i in range(0, len(data_values), 4)]\n",
    "\n",
    "df = pd.DataFrame(data_rows, columns=columns)\n",
    "\n",
    "df"
   ]
  },
  {
   "cell_type": "code",
   "execution_count": 71,
   "metadata": {},
   "outputs": [],
   "source": [
    "# Функция для преобразования значений в числа\n",
    "def convert_to_numeric(value):\n",
    "    if '%' in value:\n",
    "        return int(value.strip('+%')) / 100\n",
    "    return int(value)\n",
    "\n",
    "# Преобразуем все значения в числа\n",
    "for col in df.columns[1:]:\n",
    "    df[col] = df[col].apply(convert_to_numeric)"
   ]
  },
  {
   "cell_type": "code",
   "execution_count": 72,
   "metadata": {},
   "outputs": [
    {
     "name": "stdout",
     "output_type": "stream",
     "text": [
      "<class 'pandas.core.frame.DataFrame'>\n",
      "RangeIndex: 3 entries, 0 to 2\n",
      "Data columns (total 4 columns):\n",
      " #   Column              Non-Null Count  Dtype  \n",
      "---  ------              --------------  -----  \n",
      " 0   Показатель          3 non-null      object \n",
      " 1   Россия, все округа  3 non-null      float64\n",
      " 2   Москва              3 non-null      float64\n",
      " 3   Санкт-Петербург     3 non-null      float64\n",
      "dtypes: float64(3), object(1)\n",
      "memory usage: 224.0+ bytes\n"
     ]
    }
   ],
   "source": [
    "df.info()"
   ]
  },
  {
   "cell_type": "code",
   "execution_count": 73,
   "metadata": {},
   "outputs": [
    {
     "data": {
      "text/html": [
       "<div>\n",
       "<style scoped>\n",
       "    .dataframe tbody tr th:only-of-type {\n",
       "        vertical-align: middle;\n",
       "    }\n",
       "\n",
       "    .dataframe tbody tr th {\n",
       "        vertical-align: top;\n",
       "    }\n",
       "\n",
       "    .dataframe thead th {\n",
       "        text-align: right;\n",
       "    }\n",
       "</style>\n",
       "<table border=\"1\" class=\"dataframe\">\n",
       "  <thead>\n",
       "    <tr style=\"text-align: right;\">\n",
       "      <th></th>\n",
       "      <th>Позиция</th>\n",
       "      <th>Средний чистый оклад (mean net fix salary)</th>\n",
       "      <th>Максимальный чистый оклад (max net fix salary)</th>\n",
       "      <th>Темп прироста средней рыночной зарплаты за год, %</th>\n",
       "    </tr>\n",
       "  </thead>\n",
       "  <tbody>\n",
       "    <tr>\n",
       "      <th>0</th>\n",
       "      <td>Программист Java</td>\n",
       "      <td>320000</td>\n",
       "      <td>600000</td>\n",
       "      <td>+7%</td>\n",
       "    </tr>\n",
       "    <tr>\n",
       "      <th>1</th>\n",
       "      <td>Программист PHP</td>\n",
       "      <td>280000</td>\n",
       "      <td>550000</td>\n",
       "      <td>+4%</td>\n",
       "    </tr>\n",
       "    <tr>\n",
       "      <th>2</th>\n",
       "      <td>Программист C++</td>\n",
       "      <td>280000</td>\n",
       "      <td>650000</td>\n",
       "      <td>+12%</td>\n",
       "    </tr>\n",
       "    <tr>\n",
       "      <th>3</th>\n",
       "      <td>Программист Python</td>\n",
       "      <td>280000</td>\n",
       "      <td>550000</td>\n",
       "      <td>+4%</td>\n",
       "    </tr>\n",
       "    <tr>\n",
       "      <th>4</th>\n",
       "      <td>Программист C#</td>\n",
       "      <td>270000</td>\n",
       "      <td>550000</td>\n",
       "      <td>+4%</td>\n",
       "    </tr>\n",
       "  </tbody>\n",
       "</table>\n",
       "</div>"
      ],
      "text/plain": [
       "              Позиция Средний чистый оклад (mean net fix salary)  \\\n",
       "0    Программист Java                                     320000   \n",
       "1     Программист PHP                                     280000   \n",
       "2     Программист C++                                     280000   \n",
       "3  Программист Python                                     280000   \n",
       "4      Программист C#                                     270000   \n",
       "\n",
       "  Максимальный чистый оклад (max net fix salary)  \\\n",
       "0                                         600000   \n",
       "1                                         550000   \n",
       "2                                         650000   \n",
       "3                                         550000   \n",
       "4                                         550000   \n",
       "\n",
       "  Темп прироста средней рыночной зарплаты за год, %  \n",
       "0                                               +7%  \n",
       "1                                               +4%  \n",
       "2                                              +12%  \n",
       "3                                               +4%  \n",
       "4                                               +4%  "
      ]
     },
     "execution_count": 73,
     "metadata": {},
     "output_type": "execute_result"
    }
   ],
   "source": [
    "# Извлечение второй таблицы\n",
    "# Москва, полный рабочий день, работа на территории работодателя\n",
    "index_start = cleaned_list.index('Программист Java')\n",
    "data_values = cleaned_list[index_start:index_start + 20]  # Берем 5 строк по 4 элемента (включая заголовок строки)\n",
    "\n",
    "# Преобразование в таблицу\n",
    "columns = ['Позиция', 'Средний чистый оклад (mean net fix salary)', 'Максимальный чистый оклад (max net fix salary)', 'Темп прироста средней рыночной зарплаты за год, %']\n",
    "data_rows = [data_values[i:i+4] for i in range(0, len(data_values), 4)]\n",
    "\n",
    "df2 = pd.DataFrame(data_rows, columns=columns)\n",
    "\n",
    "df2"
   ]
  },
  {
   "cell_type": "code",
   "execution_count": 74,
   "metadata": {},
   "outputs": [],
   "source": [
    "# Преобразуем все значения в числа\n",
    "for col in df2.columns[1:]:\n",
    "    df2[col] = df2[col].apply(convert_to_numeric)"
   ]
  },
  {
   "cell_type": "code",
   "execution_count": 75,
   "metadata": {},
   "outputs": [
    {
     "data": {
      "text/html": [
       "<div>\n",
       "<style scoped>\n",
       "    .dataframe tbody tr th:only-of-type {\n",
       "        vertical-align: middle;\n",
       "    }\n",
       "\n",
       "    .dataframe tbody tr th {\n",
       "        vertical-align: top;\n",
       "    }\n",
       "\n",
       "    .dataframe thead th {\n",
       "        text-align: right;\n",
       "    }\n",
       "</style>\n",
       "<table border=\"1\" class=\"dataframe\">\n",
       "  <thead>\n",
       "    <tr style=\"text-align: right;\">\n",
       "      <th></th>\n",
       "      <th>Позиция</th>\n",
       "      <th>Средний чистый оклад (mean net fix salary)</th>\n",
       "      <th>Максимальный чистый оклад (max net fix salary)</th>\n",
       "      <th>Темп прироста средней рыночной зарплаты за год, %</th>\n",
       "    </tr>\n",
       "  </thead>\n",
       "  <tbody>\n",
       "    <tr>\n",
       "      <th>0</th>\n",
       "      <td>Программист Java</td>\n",
       "      <td>320000</td>\n",
       "      <td>600000</td>\n",
       "      <td>0.07</td>\n",
       "    </tr>\n",
       "    <tr>\n",
       "      <th>1</th>\n",
       "      <td>Программист PHP</td>\n",
       "      <td>280000</td>\n",
       "      <td>550000</td>\n",
       "      <td>0.04</td>\n",
       "    </tr>\n",
       "    <tr>\n",
       "      <th>2</th>\n",
       "      <td>Программист C++</td>\n",
       "      <td>280000</td>\n",
       "      <td>650000</td>\n",
       "      <td>0.12</td>\n",
       "    </tr>\n",
       "    <tr>\n",
       "      <th>3</th>\n",
       "      <td>Программист Python</td>\n",
       "      <td>280000</td>\n",
       "      <td>550000</td>\n",
       "      <td>0.04</td>\n",
       "    </tr>\n",
       "    <tr>\n",
       "      <th>4</th>\n",
       "      <td>Программист C#</td>\n",
       "      <td>270000</td>\n",
       "      <td>550000</td>\n",
       "      <td>0.04</td>\n",
       "    </tr>\n",
       "  </tbody>\n",
       "</table>\n",
       "</div>"
      ],
      "text/plain": [
       "              Позиция  Средний чистый оклад (mean net fix salary)  \\\n",
       "0    Программист Java                                      320000   \n",
       "1     Программист PHP                                      280000   \n",
       "2     Программист C++                                      280000   \n",
       "3  Программист Python                                      280000   \n",
       "4      Программист C#                                      270000   \n",
       "\n",
       "   Максимальный чистый оклад (max net fix salary)  \\\n",
       "0                                          600000   \n",
       "1                                          550000   \n",
       "2                                          650000   \n",
       "3                                          550000   \n",
       "4                                          550000   \n",
       "\n",
       "   Темп прироста средней рыночной зарплаты за год, %  \n",
       "0                                               0.07  \n",
       "1                                               0.04  \n",
       "2                                               0.12  \n",
       "3                                               0.04  \n",
       "4                                               0.04  "
      ]
     },
     "execution_count": 75,
     "metadata": {},
     "output_type": "execute_result"
    }
   ],
   "source": [
    "df2"
   ]
  },
  {
   "cell_type": "code",
   "execution_count": 76,
   "metadata": {},
   "outputs": [
    {
     "data": {
      "text/html": [
       "<div>\n",
       "<style scoped>\n",
       "    .dataframe tbody tr th:only-of-type {\n",
       "        vertical-align: middle;\n",
       "    }\n",
       "\n",
       "    .dataframe tbody tr th {\n",
       "        vertical-align: top;\n",
       "    }\n",
       "\n",
       "    .dataframe thead th {\n",
       "        text-align: right;\n",
       "    }\n",
       "</style>\n",
       "<table border=\"1\" class=\"dataframe\">\n",
       "  <thead>\n",
       "    <tr style=\"text-align: right;\">\n",
       "      <th></th>\n",
       "      <th>Позиция</th>\n",
       "      <th>Средний чистый оклад (mean net fix salary)</th>\n",
       "      <th>Максимальный чистый оклад (max net fix salary)</th>\n",
       "      <th>Темп прироста средней рыночной зарплаты за год, %</th>\n",
       "    </tr>\n",
       "  </thead>\n",
       "  <tbody>\n",
       "    <tr>\n",
       "      <th>0</th>\n",
       "      <td>Программист Java</td>\n",
       "      <td>270000</td>\n",
       "      <td>500000</td>\n",
       "      <td>+8%</td>\n",
       "    </tr>\n",
       "    <tr>\n",
       "      <th>1</th>\n",
       "      <td>Программист PHP</td>\n",
       "      <td>240000</td>\n",
       "      <td>460000</td>\n",
       "      <td>+4%</td>\n",
       "    </tr>\n",
       "    <tr>\n",
       "      <th>2</th>\n",
       "      <td>Программист C++</td>\n",
       "      <td>240000</td>\n",
       "      <td>550000</td>\n",
       "      <td>+14%</td>\n",
       "    </tr>\n",
       "    <tr>\n",
       "      <th>3</th>\n",
       "      <td>Программист Python</td>\n",
       "      <td>240000</td>\n",
       "      <td>460000</td>\n",
       "      <td>+4%</td>\n",
       "    </tr>\n",
       "    <tr>\n",
       "      <th>4</th>\n",
       "      <td>Программист C#</td>\n",
       "      <td>230000</td>\n",
       "      <td>450000</td>\n",
       "      <td>+5%</td>\n",
       "    </tr>\n",
       "  </tbody>\n",
       "</table>\n",
       "</div>"
      ],
      "text/plain": [
       "              Позиция Средний чистый оклад (mean net fix salary)  \\\n",
       "0    Программист Java                                     270000   \n",
       "1     Программист PHP                                     240000   \n",
       "2     Программист C++                                     240000   \n",
       "3  Программист Python                                     240000   \n",
       "4      Программист C#                                     230000   \n",
       "\n",
       "  Максимальный чистый оклад (max net fix salary)  \\\n",
       "0                                         500000   \n",
       "1                                         460000   \n",
       "2                                         550000   \n",
       "3                                         460000   \n",
       "4                                         450000   \n",
       "\n",
       "  Темп прироста средней рыночной зарплаты за год, %  \n",
       "0                                               +8%  \n",
       "1                                               +4%  \n",
       "2                                              +14%  \n",
       "3                                               +4%  \n",
       "4                                               +5%  "
      ]
     },
     "execution_count": 76,
     "metadata": {},
     "output_type": "execute_result"
    }
   ],
   "source": [
    "# Извлечение третьей таблицы\n",
    "# Санкт-Петербург, полный рабочий день, работа на территории работодателя\n",
    "index_start3 = cleaned_list[index_start + 2:].index('Программист Java')\n",
    "data_values = cleaned_list[index_start + 2 + index_start3:index_start + 2 + index_start3 + 20]  # Берем 5 строк по 4 элемента (включая заголовок строки)\n",
    "\n",
    "# Преобразование в таблицу\n",
    "columns = ['Позиция', 'Средний чистый оклад (mean net fix salary)', 'Максимальный чистый оклад (max net fix salary)', 'Темп прироста средней рыночной зарплаты за год, %']\n",
    "data_rows = [data_values[i:i+4] for i in range(0, len(data_values), 4)]\n",
    "\n",
    "df3 = pd.DataFrame(data_rows, columns=columns)\n",
    "\n",
    "df3"
   ]
  },
  {
   "cell_type": "code",
   "execution_count": 77,
   "metadata": {},
   "outputs": [
    {
     "data": {
      "text/html": [
       "<div>\n",
       "<style scoped>\n",
       "    .dataframe tbody tr th:only-of-type {\n",
       "        vertical-align: middle;\n",
       "    }\n",
       "\n",
       "    .dataframe tbody tr th {\n",
       "        vertical-align: top;\n",
       "    }\n",
       "\n",
       "    .dataframe thead th {\n",
       "        text-align: right;\n",
       "    }\n",
       "</style>\n",
       "<table border=\"1\" class=\"dataframe\">\n",
       "  <thead>\n",
       "    <tr style=\"text-align: right;\">\n",
       "      <th></th>\n",
       "      <th>Позиция</th>\n",
       "      <th>Средний чистый оклад (mean net fix salary)</th>\n",
       "      <th>Максимальный чистый оклад (max net fix salary)</th>\n",
       "      <th>Темп прироста средней рыночной зарплаты за год, %</th>\n",
       "    </tr>\n",
       "  </thead>\n",
       "  <tbody>\n",
       "    <tr>\n",
       "      <th>0</th>\n",
       "      <td>Программист Java</td>\n",
       "      <td>270000</td>\n",
       "      <td>500000</td>\n",
       "      <td>0.08</td>\n",
       "    </tr>\n",
       "    <tr>\n",
       "      <th>1</th>\n",
       "      <td>Программист PHP</td>\n",
       "      <td>240000</td>\n",
       "      <td>460000</td>\n",
       "      <td>0.04</td>\n",
       "    </tr>\n",
       "    <tr>\n",
       "      <th>2</th>\n",
       "      <td>Программист C++</td>\n",
       "      <td>240000</td>\n",
       "      <td>550000</td>\n",
       "      <td>0.14</td>\n",
       "    </tr>\n",
       "    <tr>\n",
       "      <th>3</th>\n",
       "      <td>Программист Python</td>\n",
       "      <td>240000</td>\n",
       "      <td>460000</td>\n",
       "      <td>0.04</td>\n",
       "    </tr>\n",
       "    <tr>\n",
       "      <th>4</th>\n",
       "      <td>Программист C#</td>\n",
       "      <td>230000</td>\n",
       "      <td>450000</td>\n",
       "      <td>0.05</td>\n",
       "    </tr>\n",
       "  </tbody>\n",
       "</table>\n",
       "</div>"
      ],
      "text/plain": [
       "              Позиция  Средний чистый оклад (mean net fix salary)  \\\n",
       "0    Программист Java                                      270000   \n",
       "1     Программист PHP                                      240000   \n",
       "2     Программист C++                                      240000   \n",
       "3  Программист Python                                      240000   \n",
       "4      Программист C#                                      230000   \n",
       "\n",
       "   Максимальный чистый оклад (max net fix salary)  \\\n",
       "0                                          500000   \n",
       "1                                          460000   \n",
       "2                                          550000   \n",
       "3                                          460000   \n",
       "4                                          450000   \n",
       "\n",
       "   Темп прироста средней рыночной зарплаты за год, %  \n",
       "0                                               0.08  \n",
       "1                                               0.04  \n",
       "2                                               0.14  \n",
       "3                                               0.04  \n",
       "4                                               0.05  "
      ]
     },
     "execution_count": 77,
     "metadata": {},
     "output_type": "execute_result"
    }
   ],
   "source": [
    "# Преобразуем все значения в числа\n",
    "for col in df3.columns[1:]:\n",
    "    df3[col] = df3[col].apply(convert_to_numeric)\n",
    "\n",
    "df3"
   ]
  },
  {
   "cell_type": "code",
   "execution_count": 78,
   "metadata": {},
   "outputs": [
    {
     "data": {
      "application/vnd.plotly.v1+json": {
       "config": {
        "plotlyServerURL": "https://plot.ly"
       },
       "data": [
        {
         "alignmentgroup": "True",
         "hovertemplate": "Регион=Россия, все округа<br>Показатель=%{x}<br>Изменение (%)=%{y}<extra></extra>",
         "legendgroup": "Россия, все округа",
         "marker": {
          "color": "#636efa",
          "pattern": {
           "shape": ""
          }
         },
         "name": "Россия, все округа",
         "offsetgroup": "Россия, все округа",
         "orientation": "v",
         "showlegend": true,
         "textangle": 0,
         "textfont": {
          "size": 12
         },
         "textposition": "outside",
         "texttemplate": "%{y:.2%}",
         "type": "bar",
         "x": [
          "Прирост количества вакансий",
          "Прирост количества резюме",
          "Изменения конкурса"
         ],
         "xaxis": "x",
         "y": {
          "bdata": "UrgehetRyD/sUbgeheuxPylcj8L1KLy/",
          "dtype": "f8"
         },
         "yaxis": "y"
        },
        {
         "alignmentgroup": "True",
         "hovertemplate": "Регион=Москва<br>Показатель=%{x}<br>Изменение (%)=%{y}<extra></extra>",
         "legendgroup": "Москва",
         "marker": {
          "color": "#EF553B",
          "pattern": {
           "shape": ""
          }
         },
         "name": "Москва",
         "offsetgroup": "Москва",
         "orientation": "v",
         "showlegend": true,
         "textangle": 0,
         "textfont": {
          "size": 12
         },
         "textposition": "outside",
         "texttemplate": "%{y:.2%}",
         "type": "bar",
         "x": [
          "Прирост количества вакансий",
          "Прирост количества резюме",
          "Изменения конкурса"
         ],
         "xaxis": "x",
         "y": {
          "bdata": "cT0K16NwzT8K16NwPQq3P6RwPQrXo8C/",
          "dtype": "f8"
         },
         "yaxis": "y"
        },
        {
         "alignmentgroup": "True",
         "hovertemplate": "Регион=Санкт-Петербург<br>Показатель=%{x}<br>Изменение (%)=%{y}<extra></extra>",
         "legendgroup": "Санкт-Петербург",
         "marker": {
          "color": "#00cc96",
          "pattern": {
           "shape": ""
          }
         },
         "name": "Санкт-Петербург",
         "offsetgroup": "Санкт-Петербург",
         "orientation": "v",
         "showlegend": true,
         "textangle": 0,
         "textfont": {
          "size": 12
         },
         "textposition": "outside",
         "texttemplate": "%{y:.2%}",
         "type": "bar",
         "x": [
          "Прирост количества вакансий",
          "Прирост количества резюме",
          "Изменения конкурса"
         ],
         "xaxis": "x",
         "y": {
          "bdata": "uB6F61G4vj97FK5H4XqkP+xRuB6F67G/",
          "dtype": "f8"
         },
         "yaxis": "y"
        }
       ],
       "layout": {
        "barmode": "group",
        "font": {
         "size": 14
        },
        "legend": {
         "title": {
          "text": "Регион"
         },
         "tracegroupgap": 0
        },
        "template": {
         "data": {
          "bar": [
           {
            "error_x": {
             "color": "#2a3f5f"
            },
            "error_y": {
             "color": "#2a3f5f"
            },
            "marker": {
             "line": {
              "color": "white",
              "width": 0.5
             },
             "pattern": {
              "fillmode": "overlay",
              "size": 10,
              "solidity": 0.2
             }
            },
            "type": "bar"
           }
          ],
          "barpolar": [
           {
            "marker": {
             "line": {
              "color": "white",
              "width": 0.5
             },
             "pattern": {
              "fillmode": "overlay",
              "size": 10,
              "solidity": 0.2
             }
            },
            "type": "barpolar"
           }
          ],
          "carpet": [
           {
            "aaxis": {
             "endlinecolor": "#2a3f5f",
             "gridcolor": "#C8D4E3",
             "linecolor": "#C8D4E3",
             "minorgridcolor": "#C8D4E3",
             "startlinecolor": "#2a3f5f"
            },
            "baxis": {
             "endlinecolor": "#2a3f5f",
             "gridcolor": "#C8D4E3",
             "linecolor": "#C8D4E3",
             "minorgridcolor": "#C8D4E3",
             "startlinecolor": "#2a3f5f"
            },
            "type": "carpet"
           }
          ],
          "choropleth": [
           {
            "colorbar": {
             "outlinewidth": 0,
             "ticks": ""
            },
            "type": "choropleth"
           }
          ],
          "contour": [
           {
            "colorbar": {
             "outlinewidth": 0,
             "ticks": ""
            },
            "colorscale": [
             [
              0,
              "#0d0887"
             ],
             [
              0.1111111111111111,
              "#46039f"
             ],
             [
              0.2222222222222222,
              "#7201a8"
             ],
             [
              0.3333333333333333,
              "#9c179e"
             ],
             [
              0.4444444444444444,
              "#bd3786"
             ],
             [
              0.5555555555555556,
              "#d8576b"
             ],
             [
              0.6666666666666666,
              "#ed7953"
             ],
             [
              0.7777777777777778,
              "#fb9f3a"
             ],
             [
              0.8888888888888888,
              "#fdca26"
             ],
             [
              1,
              "#f0f921"
             ]
            ],
            "type": "contour"
           }
          ],
          "contourcarpet": [
           {
            "colorbar": {
             "outlinewidth": 0,
             "ticks": ""
            },
            "type": "contourcarpet"
           }
          ],
          "heatmap": [
           {
            "colorbar": {
             "outlinewidth": 0,
             "ticks": ""
            },
            "colorscale": [
             [
              0,
              "#0d0887"
             ],
             [
              0.1111111111111111,
              "#46039f"
             ],
             [
              0.2222222222222222,
              "#7201a8"
             ],
             [
              0.3333333333333333,
              "#9c179e"
             ],
             [
              0.4444444444444444,
              "#bd3786"
             ],
             [
              0.5555555555555556,
              "#d8576b"
             ],
             [
              0.6666666666666666,
              "#ed7953"
             ],
             [
              0.7777777777777778,
              "#fb9f3a"
             ],
             [
              0.8888888888888888,
              "#fdca26"
             ],
             [
              1,
              "#f0f921"
             ]
            ],
            "type": "heatmap"
           }
          ],
          "histogram": [
           {
            "marker": {
             "pattern": {
              "fillmode": "overlay",
              "size": 10,
              "solidity": 0.2
             }
            },
            "type": "histogram"
           }
          ],
          "histogram2d": [
           {
            "colorbar": {
             "outlinewidth": 0,
             "ticks": ""
            },
            "colorscale": [
             [
              0,
              "#0d0887"
             ],
             [
              0.1111111111111111,
              "#46039f"
             ],
             [
              0.2222222222222222,
              "#7201a8"
             ],
             [
              0.3333333333333333,
              "#9c179e"
             ],
             [
              0.4444444444444444,
              "#bd3786"
             ],
             [
              0.5555555555555556,
              "#d8576b"
             ],
             [
              0.6666666666666666,
              "#ed7953"
             ],
             [
              0.7777777777777778,
              "#fb9f3a"
             ],
             [
              0.8888888888888888,
              "#fdca26"
             ],
             [
              1,
              "#f0f921"
             ]
            ],
            "type": "histogram2d"
           }
          ],
          "histogram2dcontour": [
           {
            "colorbar": {
             "outlinewidth": 0,
             "ticks": ""
            },
            "colorscale": [
             [
              0,
              "#0d0887"
             ],
             [
              0.1111111111111111,
              "#46039f"
             ],
             [
              0.2222222222222222,
              "#7201a8"
             ],
             [
              0.3333333333333333,
              "#9c179e"
             ],
             [
              0.4444444444444444,
              "#bd3786"
             ],
             [
              0.5555555555555556,
              "#d8576b"
             ],
             [
              0.6666666666666666,
              "#ed7953"
             ],
             [
              0.7777777777777778,
              "#fb9f3a"
             ],
             [
              0.8888888888888888,
              "#fdca26"
             ],
             [
              1,
              "#f0f921"
             ]
            ],
            "type": "histogram2dcontour"
           }
          ],
          "mesh3d": [
           {
            "colorbar": {
             "outlinewidth": 0,
             "ticks": ""
            },
            "type": "mesh3d"
           }
          ],
          "parcoords": [
           {
            "line": {
             "colorbar": {
              "outlinewidth": 0,
              "ticks": ""
             }
            },
            "type": "parcoords"
           }
          ],
          "pie": [
           {
            "automargin": true,
            "type": "pie"
           }
          ],
          "scatter": [
           {
            "fillpattern": {
             "fillmode": "overlay",
             "size": 10,
             "solidity": 0.2
            },
            "type": "scatter"
           }
          ],
          "scatter3d": [
           {
            "line": {
             "colorbar": {
              "outlinewidth": 0,
              "ticks": ""
             }
            },
            "marker": {
             "colorbar": {
              "outlinewidth": 0,
              "ticks": ""
             }
            },
            "type": "scatter3d"
           }
          ],
          "scattercarpet": [
           {
            "marker": {
             "colorbar": {
              "outlinewidth": 0,
              "ticks": ""
             }
            },
            "type": "scattercarpet"
           }
          ],
          "scattergeo": [
           {
            "marker": {
             "colorbar": {
              "outlinewidth": 0,
              "ticks": ""
             }
            },
            "type": "scattergeo"
           }
          ],
          "scattergl": [
           {
            "marker": {
             "colorbar": {
              "outlinewidth": 0,
              "ticks": ""
             }
            },
            "type": "scattergl"
           }
          ],
          "scattermap": [
           {
            "marker": {
             "colorbar": {
              "outlinewidth": 0,
              "ticks": ""
             }
            },
            "type": "scattermap"
           }
          ],
          "scattermapbox": [
           {
            "marker": {
             "colorbar": {
              "outlinewidth": 0,
              "ticks": ""
             }
            },
            "type": "scattermapbox"
           }
          ],
          "scatterpolar": [
           {
            "marker": {
             "colorbar": {
              "outlinewidth": 0,
              "ticks": ""
             }
            },
            "type": "scatterpolar"
           }
          ],
          "scatterpolargl": [
           {
            "marker": {
             "colorbar": {
              "outlinewidth": 0,
              "ticks": ""
             }
            },
            "type": "scatterpolargl"
           }
          ],
          "scatterternary": [
           {
            "marker": {
             "colorbar": {
              "outlinewidth": 0,
              "ticks": ""
             }
            },
            "type": "scatterternary"
           }
          ],
          "surface": [
           {
            "colorbar": {
             "outlinewidth": 0,
             "ticks": ""
            },
            "colorscale": [
             [
              0,
              "#0d0887"
             ],
             [
              0.1111111111111111,
              "#46039f"
             ],
             [
              0.2222222222222222,
              "#7201a8"
             ],
             [
              0.3333333333333333,
              "#9c179e"
             ],
             [
              0.4444444444444444,
              "#bd3786"
             ],
             [
              0.5555555555555556,
              "#d8576b"
             ],
             [
              0.6666666666666666,
              "#ed7953"
             ],
             [
              0.7777777777777778,
              "#fb9f3a"
             ],
             [
              0.8888888888888888,
              "#fdca26"
             ],
             [
              1,
              "#f0f921"
             ]
            ],
            "type": "surface"
           }
          ],
          "table": [
           {
            "cells": {
             "fill": {
              "color": "#EBF0F8"
             },
             "line": {
              "color": "white"
             }
            },
            "header": {
             "fill": {
              "color": "#C8D4E3"
             },
             "line": {
              "color": "white"
             }
            },
            "type": "table"
           }
          ]
         },
         "layout": {
          "annotationdefaults": {
           "arrowcolor": "#2a3f5f",
           "arrowhead": 0,
           "arrowwidth": 1
          },
          "autotypenumbers": "strict",
          "coloraxis": {
           "colorbar": {
            "outlinewidth": 0,
            "ticks": ""
           }
          },
          "colorscale": {
           "diverging": [
            [
             0,
             "#8e0152"
            ],
            [
             0.1,
             "#c51b7d"
            ],
            [
             0.2,
             "#de77ae"
            ],
            [
             0.3,
             "#f1b6da"
            ],
            [
             0.4,
             "#fde0ef"
            ],
            [
             0.5,
             "#f7f7f7"
            ],
            [
             0.6,
             "#e6f5d0"
            ],
            [
             0.7,
             "#b8e186"
            ],
            [
             0.8,
             "#7fbc41"
            ],
            [
             0.9,
             "#4d9221"
            ],
            [
             1,
             "#276419"
            ]
           ],
           "sequential": [
            [
             0,
             "#0d0887"
            ],
            [
             0.1111111111111111,
             "#46039f"
            ],
            [
             0.2222222222222222,
             "#7201a8"
            ],
            [
             0.3333333333333333,
             "#9c179e"
            ],
            [
             0.4444444444444444,
             "#bd3786"
            ],
            [
             0.5555555555555556,
             "#d8576b"
            ],
            [
             0.6666666666666666,
             "#ed7953"
            ],
            [
             0.7777777777777778,
             "#fb9f3a"
            ],
            [
             0.8888888888888888,
             "#fdca26"
            ],
            [
             1,
             "#f0f921"
            ]
           ],
           "sequentialminus": [
            [
             0,
             "#0d0887"
            ],
            [
             0.1111111111111111,
             "#46039f"
            ],
            [
             0.2222222222222222,
             "#7201a8"
            ],
            [
             0.3333333333333333,
             "#9c179e"
            ],
            [
             0.4444444444444444,
             "#bd3786"
            ],
            [
             0.5555555555555556,
             "#d8576b"
            ],
            [
             0.6666666666666666,
             "#ed7953"
            ],
            [
             0.7777777777777778,
             "#fb9f3a"
            ],
            [
             0.8888888888888888,
             "#fdca26"
            ],
            [
             1,
             "#f0f921"
            ]
           ]
          },
          "colorway": [
           "#636efa",
           "#EF553B",
           "#00cc96",
           "#ab63fa",
           "#FFA15A",
           "#19d3f3",
           "#FF6692",
           "#B6E880",
           "#FF97FF",
           "#FECB52"
          ],
          "font": {
           "color": "#2a3f5f"
          },
          "geo": {
           "bgcolor": "white",
           "lakecolor": "white",
           "landcolor": "white",
           "showlakes": true,
           "showland": true,
           "subunitcolor": "#C8D4E3"
          },
          "hoverlabel": {
           "align": "left"
          },
          "hovermode": "closest",
          "mapbox": {
           "style": "light"
          },
          "paper_bgcolor": "white",
          "plot_bgcolor": "white",
          "polar": {
           "angularaxis": {
            "gridcolor": "#EBF0F8",
            "linecolor": "#EBF0F8",
            "ticks": ""
           },
           "bgcolor": "white",
           "radialaxis": {
            "gridcolor": "#EBF0F8",
            "linecolor": "#EBF0F8",
            "ticks": ""
           }
          },
          "scene": {
           "xaxis": {
            "backgroundcolor": "white",
            "gridcolor": "#DFE8F3",
            "gridwidth": 2,
            "linecolor": "#EBF0F8",
            "showbackground": true,
            "ticks": "",
            "zerolinecolor": "#EBF0F8"
           },
           "yaxis": {
            "backgroundcolor": "white",
            "gridcolor": "#DFE8F3",
            "gridwidth": 2,
            "linecolor": "#EBF0F8",
            "showbackground": true,
            "ticks": "",
            "zerolinecolor": "#EBF0F8"
           },
           "zaxis": {
            "backgroundcolor": "white",
            "gridcolor": "#DFE8F3",
            "gridwidth": 2,
            "linecolor": "#EBF0F8",
            "showbackground": true,
            "ticks": "",
            "zerolinecolor": "#EBF0F8"
           }
          },
          "shapedefaults": {
           "line": {
            "color": "#2a3f5f"
           }
          },
          "ternary": {
           "aaxis": {
            "gridcolor": "#DFE8F3",
            "linecolor": "#A2B1C6",
            "ticks": ""
           },
           "baxis": {
            "gridcolor": "#DFE8F3",
            "linecolor": "#A2B1C6",
            "ticks": ""
           },
           "bgcolor": "white",
           "caxis": {
            "gridcolor": "#DFE8F3",
            "linecolor": "#A2B1C6",
            "ticks": ""
           }
          },
          "title": {
           "x": 0.05
          },
          "xaxis": {
           "automargin": true,
           "gridcolor": "#EBF0F8",
           "linecolor": "#EBF0F8",
           "ticks": "",
           "title": {
            "standoff": 15
           },
           "zerolinecolor": "#EBF0F8",
           "zerolinewidth": 2
          },
          "yaxis": {
           "automargin": true,
           "gridcolor": "#EBF0F8",
           "linecolor": "#EBF0F8",
           "ticks": "",
           "title": {
            "standoff": 15
           },
           "zerolinecolor": "#EBF0F8",
           "zerolinewidth": 2
          }
         }
        },
        "title": {
         "text": "Динамика конкурса на вакансию в IT"
        },
        "xaxis": {
         "anchor": "y",
         "domain": [
          0,
          1
         ],
         "title": {
          "text": "Показатель"
         }
        },
        "yaxis": {
         "anchor": "x",
         "domain": [
          0,
          1
         ],
         "range": [
          -0.2,
          0.3
         ],
         "title": {
          "text": "Изменение (%)"
         }
        }
       }
      }
     },
     "metadata": {},
     "output_type": "display_data"
    }
   ],
   "source": [
    "df_melted = df.melt(id_vars=\"Показатель\", var_name=\"Регион\", value_name=\"Значение\")\n",
    "\n",
    "# Создаем интерактивный столбчатый график\n",
    "fig = px.bar(\n",
    "    df_melted,\n",
    "    x=\"Показатель\",\n",
    "    y=\"Значение\",\n",
    "    color=\"Регион\",\n",
    "    barmode=\"group\",\n",
    "    title=\"Динамика конкурса на вакансию в IT\",\n",
    "    labels={\"Значение\": \"Изменение (%)\", \"Показатель\": \"Показатель\"},\n",
    "    text_auto=\".2%\",  # отображение значений в процентах\n",
    ")\n",
    "\n",
    "fig.update_traces(textfont_size=12, textangle=0, textposition=\"outside\") \n",
    "fig.update_layout(\n",
    "    xaxis_title=\"Показатель\",\n",
    "    yaxis_title=\"Изменение (%)\",\n",
    "    legend_title=\"Регион\",\n",
    "    font=dict(size=14),\n",
    "    template=\"plotly_white\",\n",
    "    yaxis=dict(range=[-0.2, 0.3]),\n",
    ")\n",
    "\n",
    "fig.show()"
   ]
  },
  {
   "cell_type": "code",
   "execution_count": 80,
   "metadata": {},
   "outputs": [
    {
     "data": {
      "application/vnd.plotly.v1+json": {
       "config": {
        "plotlyServerURL": "https://plot.ly"
       },
       "data": [
        {
         "marker": {
          "color": "blue"
         },
         "name": "Средний оклад, Москва",
         "text": {
          "bdata": "AAAAAACIE0EAAAAAABcRQQAAAAAAFxFBAAAAAAAXEUEAAAAAwHoQQQ==",
          "dtype": "f8"
         },
         "textposition": "outside",
         "type": "bar",
         "x": [
          "Программист Java",
          "Программист PHP",
          "Программист C++",
          "Программист Python",
          "Программист C#"
         ],
         "y": {
          "bdata": "AOIEAMBFBADARQQAwEUEALAeBAA=",
          "dtype": "i4"
         }
        },
        {
         "marker": {
          "color": "red"
         },
         "name": "Средний оклад, Санкт-Петербург",
         "text": {
          "bdata": "AAAAAMB6EEEAAAAAAEwNQQAAAAAATA1BAAAAAABMDUEAAAAAgBMMQQ==",
          "dtype": "f8"
         },
         "textposition": "outside",
         "type": "bar",
         "x": [
          "Программист Java",
          "Программист PHP",
          "Программист C++",
          "Программист Python",
          "Программист C#"
         ],
         "y": {
          "bdata": "sB4EAICpAwCAqQMAgKkDAHCCAwA=",
          "dtype": "i4"
         }
        }
       ],
       "layout": {
        "barmode": "group",
        "template": {
         "data": {
          "bar": [
           {
            "error_x": {
             "color": "#2a3f5f"
            },
            "error_y": {
             "color": "#2a3f5f"
            },
            "marker": {
             "line": {
              "color": "white",
              "width": 0.5
             },
             "pattern": {
              "fillmode": "overlay",
              "size": 10,
              "solidity": 0.2
             }
            },
            "type": "bar"
           }
          ],
          "barpolar": [
           {
            "marker": {
             "line": {
              "color": "white",
              "width": 0.5
             },
             "pattern": {
              "fillmode": "overlay",
              "size": 10,
              "solidity": 0.2
             }
            },
            "type": "barpolar"
           }
          ],
          "carpet": [
           {
            "aaxis": {
             "endlinecolor": "#2a3f5f",
             "gridcolor": "#C8D4E3",
             "linecolor": "#C8D4E3",
             "minorgridcolor": "#C8D4E3",
             "startlinecolor": "#2a3f5f"
            },
            "baxis": {
             "endlinecolor": "#2a3f5f",
             "gridcolor": "#C8D4E3",
             "linecolor": "#C8D4E3",
             "minorgridcolor": "#C8D4E3",
             "startlinecolor": "#2a3f5f"
            },
            "type": "carpet"
           }
          ],
          "choropleth": [
           {
            "colorbar": {
             "outlinewidth": 0,
             "ticks": ""
            },
            "type": "choropleth"
           }
          ],
          "contour": [
           {
            "colorbar": {
             "outlinewidth": 0,
             "ticks": ""
            },
            "colorscale": [
             [
              0,
              "#0d0887"
             ],
             [
              0.1111111111111111,
              "#46039f"
             ],
             [
              0.2222222222222222,
              "#7201a8"
             ],
             [
              0.3333333333333333,
              "#9c179e"
             ],
             [
              0.4444444444444444,
              "#bd3786"
             ],
             [
              0.5555555555555556,
              "#d8576b"
             ],
             [
              0.6666666666666666,
              "#ed7953"
             ],
             [
              0.7777777777777778,
              "#fb9f3a"
             ],
             [
              0.8888888888888888,
              "#fdca26"
             ],
             [
              1,
              "#f0f921"
             ]
            ],
            "type": "contour"
           }
          ],
          "contourcarpet": [
           {
            "colorbar": {
             "outlinewidth": 0,
             "ticks": ""
            },
            "type": "contourcarpet"
           }
          ],
          "heatmap": [
           {
            "colorbar": {
             "outlinewidth": 0,
             "ticks": ""
            },
            "colorscale": [
             [
              0,
              "#0d0887"
             ],
             [
              0.1111111111111111,
              "#46039f"
             ],
             [
              0.2222222222222222,
              "#7201a8"
             ],
             [
              0.3333333333333333,
              "#9c179e"
             ],
             [
              0.4444444444444444,
              "#bd3786"
             ],
             [
              0.5555555555555556,
              "#d8576b"
             ],
             [
              0.6666666666666666,
              "#ed7953"
             ],
             [
              0.7777777777777778,
              "#fb9f3a"
             ],
             [
              0.8888888888888888,
              "#fdca26"
             ],
             [
              1,
              "#f0f921"
             ]
            ],
            "type": "heatmap"
           }
          ],
          "histogram": [
           {
            "marker": {
             "pattern": {
              "fillmode": "overlay",
              "size": 10,
              "solidity": 0.2
             }
            },
            "type": "histogram"
           }
          ],
          "histogram2d": [
           {
            "colorbar": {
             "outlinewidth": 0,
             "ticks": ""
            },
            "colorscale": [
             [
              0,
              "#0d0887"
             ],
             [
              0.1111111111111111,
              "#46039f"
             ],
             [
              0.2222222222222222,
              "#7201a8"
             ],
             [
              0.3333333333333333,
              "#9c179e"
             ],
             [
              0.4444444444444444,
              "#bd3786"
             ],
             [
              0.5555555555555556,
              "#d8576b"
             ],
             [
              0.6666666666666666,
              "#ed7953"
             ],
             [
              0.7777777777777778,
              "#fb9f3a"
             ],
             [
              0.8888888888888888,
              "#fdca26"
             ],
             [
              1,
              "#f0f921"
             ]
            ],
            "type": "histogram2d"
           }
          ],
          "histogram2dcontour": [
           {
            "colorbar": {
             "outlinewidth": 0,
             "ticks": ""
            },
            "colorscale": [
             [
              0,
              "#0d0887"
             ],
             [
              0.1111111111111111,
              "#46039f"
             ],
             [
              0.2222222222222222,
              "#7201a8"
             ],
             [
              0.3333333333333333,
              "#9c179e"
             ],
             [
              0.4444444444444444,
              "#bd3786"
             ],
             [
              0.5555555555555556,
              "#d8576b"
             ],
             [
              0.6666666666666666,
              "#ed7953"
             ],
             [
              0.7777777777777778,
              "#fb9f3a"
             ],
             [
              0.8888888888888888,
              "#fdca26"
             ],
             [
              1,
              "#f0f921"
             ]
            ],
            "type": "histogram2dcontour"
           }
          ],
          "mesh3d": [
           {
            "colorbar": {
             "outlinewidth": 0,
             "ticks": ""
            },
            "type": "mesh3d"
           }
          ],
          "parcoords": [
           {
            "line": {
             "colorbar": {
              "outlinewidth": 0,
              "ticks": ""
             }
            },
            "type": "parcoords"
           }
          ],
          "pie": [
           {
            "automargin": true,
            "type": "pie"
           }
          ],
          "scatter": [
           {
            "fillpattern": {
             "fillmode": "overlay",
             "size": 10,
             "solidity": 0.2
            },
            "type": "scatter"
           }
          ],
          "scatter3d": [
           {
            "line": {
             "colorbar": {
              "outlinewidth": 0,
              "ticks": ""
             }
            },
            "marker": {
             "colorbar": {
              "outlinewidth": 0,
              "ticks": ""
             }
            },
            "type": "scatter3d"
           }
          ],
          "scattercarpet": [
           {
            "marker": {
             "colorbar": {
              "outlinewidth": 0,
              "ticks": ""
             }
            },
            "type": "scattercarpet"
           }
          ],
          "scattergeo": [
           {
            "marker": {
             "colorbar": {
              "outlinewidth": 0,
              "ticks": ""
             }
            },
            "type": "scattergeo"
           }
          ],
          "scattergl": [
           {
            "marker": {
             "colorbar": {
              "outlinewidth": 0,
              "ticks": ""
             }
            },
            "type": "scattergl"
           }
          ],
          "scattermap": [
           {
            "marker": {
             "colorbar": {
              "outlinewidth": 0,
              "ticks": ""
             }
            },
            "type": "scattermap"
           }
          ],
          "scattermapbox": [
           {
            "marker": {
             "colorbar": {
              "outlinewidth": 0,
              "ticks": ""
             }
            },
            "type": "scattermapbox"
           }
          ],
          "scatterpolar": [
           {
            "marker": {
             "colorbar": {
              "outlinewidth": 0,
              "ticks": ""
             }
            },
            "type": "scatterpolar"
           }
          ],
          "scatterpolargl": [
           {
            "marker": {
             "colorbar": {
              "outlinewidth": 0,
              "ticks": ""
             }
            },
            "type": "scatterpolargl"
           }
          ],
          "scatterternary": [
           {
            "marker": {
             "colorbar": {
              "outlinewidth": 0,
              "ticks": ""
             }
            },
            "type": "scatterternary"
           }
          ],
          "surface": [
           {
            "colorbar": {
             "outlinewidth": 0,
             "ticks": ""
            },
            "colorscale": [
             [
              0,
              "#0d0887"
             ],
             [
              0.1111111111111111,
              "#46039f"
             ],
             [
              0.2222222222222222,
              "#7201a8"
             ],
             [
              0.3333333333333333,
              "#9c179e"
             ],
             [
              0.4444444444444444,
              "#bd3786"
             ],
             [
              0.5555555555555556,
              "#d8576b"
             ],
             [
              0.6666666666666666,
              "#ed7953"
             ],
             [
              0.7777777777777778,
              "#fb9f3a"
             ],
             [
              0.8888888888888888,
              "#fdca26"
             ],
             [
              1,
              "#f0f921"
             ]
            ],
            "type": "surface"
           }
          ],
          "table": [
           {
            "cells": {
             "fill": {
              "color": "#EBF0F8"
             },
             "line": {
              "color": "white"
             }
            },
            "header": {
             "fill": {
              "color": "#C8D4E3"
             },
             "line": {
              "color": "white"
             }
            },
            "type": "table"
           }
          ]
         },
         "layout": {
          "annotationdefaults": {
           "arrowcolor": "#2a3f5f",
           "arrowhead": 0,
           "arrowwidth": 1
          },
          "autotypenumbers": "strict",
          "coloraxis": {
           "colorbar": {
            "outlinewidth": 0,
            "ticks": ""
           }
          },
          "colorscale": {
           "diverging": [
            [
             0,
             "#8e0152"
            ],
            [
             0.1,
             "#c51b7d"
            ],
            [
             0.2,
             "#de77ae"
            ],
            [
             0.3,
             "#f1b6da"
            ],
            [
             0.4,
             "#fde0ef"
            ],
            [
             0.5,
             "#f7f7f7"
            ],
            [
             0.6,
             "#e6f5d0"
            ],
            [
             0.7,
             "#b8e186"
            ],
            [
             0.8,
             "#7fbc41"
            ],
            [
             0.9,
             "#4d9221"
            ],
            [
             1,
             "#276419"
            ]
           ],
           "sequential": [
            [
             0,
             "#0d0887"
            ],
            [
             0.1111111111111111,
             "#46039f"
            ],
            [
             0.2222222222222222,
             "#7201a8"
            ],
            [
             0.3333333333333333,
             "#9c179e"
            ],
            [
             0.4444444444444444,
             "#bd3786"
            ],
            [
             0.5555555555555556,
             "#d8576b"
            ],
            [
             0.6666666666666666,
             "#ed7953"
            ],
            [
             0.7777777777777778,
             "#fb9f3a"
            ],
            [
             0.8888888888888888,
             "#fdca26"
            ],
            [
             1,
             "#f0f921"
            ]
           ],
           "sequentialminus": [
            [
             0,
             "#0d0887"
            ],
            [
             0.1111111111111111,
             "#46039f"
            ],
            [
             0.2222222222222222,
             "#7201a8"
            ],
            [
             0.3333333333333333,
             "#9c179e"
            ],
            [
             0.4444444444444444,
             "#bd3786"
            ],
            [
             0.5555555555555556,
             "#d8576b"
            ],
            [
             0.6666666666666666,
             "#ed7953"
            ],
            [
             0.7777777777777778,
             "#fb9f3a"
            ],
            [
             0.8888888888888888,
             "#fdca26"
            ],
            [
             1,
             "#f0f921"
            ]
           ]
          },
          "colorway": [
           "#636efa",
           "#EF553B",
           "#00cc96",
           "#ab63fa",
           "#FFA15A",
           "#19d3f3",
           "#FF6692",
           "#B6E880",
           "#FF97FF",
           "#FECB52"
          ],
          "font": {
           "color": "#2a3f5f"
          },
          "geo": {
           "bgcolor": "white",
           "lakecolor": "white",
           "landcolor": "white",
           "showlakes": true,
           "showland": true,
           "subunitcolor": "#C8D4E3"
          },
          "hoverlabel": {
           "align": "left"
          },
          "hovermode": "closest",
          "mapbox": {
           "style": "light"
          },
          "paper_bgcolor": "white",
          "plot_bgcolor": "white",
          "polar": {
           "angularaxis": {
            "gridcolor": "#EBF0F8",
            "linecolor": "#EBF0F8",
            "ticks": ""
           },
           "bgcolor": "white",
           "radialaxis": {
            "gridcolor": "#EBF0F8",
            "linecolor": "#EBF0F8",
            "ticks": ""
           }
          },
          "scene": {
           "xaxis": {
            "backgroundcolor": "white",
            "gridcolor": "#DFE8F3",
            "gridwidth": 2,
            "linecolor": "#EBF0F8",
            "showbackground": true,
            "ticks": "",
            "zerolinecolor": "#EBF0F8"
           },
           "yaxis": {
            "backgroundcolor": "white",
            "gridcolor": "#DFE8F3",
            "gridwidth": 2,
            "linecolor": "#EBF0F8",
            "showbackground": true,
            "ticks": "",
            "zerolinecolor": "#EBF0F8"
           },
           "zaxis": {
            "backgroundcolor": "white",
            "gridcolor": "#DFE8F3",
            "gridwidth": 2,
            "linecolor": "#EBF0F8",
            "showbackground": true,
            "ticks": "",
            "zerolinecolor": "#EBF0F8"
           }
          },
          "shapedefaults": {
           "line": {
            "color": "#2a3f5f"
           }
          },
          "ternary": {
           "aaxis": {
            "gridcolor": "#DFE8F3",
            "linecolor": "#A2B1C6",
            "ticks": ""
           },
           "baxis": {
            "gridcolor": "#DFE8F3",
            "linecolor": "#A2B1C6",
            "ticks": ""
           },
           "bgcolor": "white",
           "caxis": {
            "gridcolor": "#DFE8F3",
            "linecolor": "#A2B1C6",
            "ticks": ""
           }
          },
          "title": {
           "x": 0.05
          },
          "xaxis": {
           "automargin": true,
           "gridcolor": "#EBF0F8",
           "linecolor": "#EBF0F8",
           "ticks": "",
           "title": {
            "standoff": 15
           },
           "zerolinecolor": "#EBF0F8",
           "zerolinewidth": 2
          },
          "yaxis": {
           "automargin": true,
           "gridcolor": "#EBF0F8",
           "linecolor": "#EBF0F8",
           "ticks": "",
           "title": {
            "standoff": 15
           },
           "zerolinecolor": "#EBF0F8",
           "zerolinewidth": 2
          }
         }
        },
        "title": {
         "text": "Сравнение средних окладов"
        },
        "xaxis": {
         "title": {
          "text": "Позиция"
         }
        },
        "yaxis": {
         "title": {
          "text": "Средний оклад (руб)"
         }
        }
       }
      }
     },
     "metadata": {},
     "output_type": "display_data"
    },
    {
     "data": {
      "application/vnd.plotly.v1+json": {
       "config": {
        "plotlyServerURL": "https://plot.ly"
       },
       "data": [
        {
         "marker": {
          "color": "green"
         },
         "name": "Максимальный оклад, Москва",
         "text": {
          "bdata": "AAAAAIBPIkEAAAAA4MggQQAAAAAg1iNBAAAAAODIIEEAAAAA4MggQQ==",
          "dtype": "f8"
         },
         "textposition": "outside",
         "type": "bar",
         "x": [
          "Программист Java",
          "Программист PHP",
          "Программист C++",
          "Программист Python",
          "Программист C#"
         ],
         "y": {
          "bdata": "wCcJAHBkCAAQ6wkAcGQIAHBkCAA=",
          "dtype": "i4"
         }
        },
        {
         "marker": {
          "color": "orange"
         },
         "name": "Максимальный оклад, Санкт-Петербург",
         "text": {
          "bdata": "AAAAAICEHkEAAAAAgBMcQQAAAADgyCBBAAAAAIATHEEAAAAAQHcbQQ==",
          "dtype": "f8"
         },
         "textposition": "outside",
         "type": "bar",
         "x": [
          "Программист Java",
          "Программист PHP",
          "Программист C++",
          "Программист Python",
          "Программист C#"
         ],
         "y": {
          "bdata": "IKEHAOAEBwBwZAgA4AQHANDdBgA=",
          "dtype": "i4"
         }
        }
       ],
       "layout": {
        "barmode": "group",
        "template": {
         "data": {
          "bar": [
           {
            "error_x": {
             "color": "#2a3f5f"
            },
            "error_y": {
             "color": "#2a3f5f"
            },
            "marker": {
             "line": {
              "color": "white",
              "width": 0.5
             },
             "pattern": {
              "fillmode": "overlay",
              "size": 10,
              "solidity": 0.2
             }
            },
            "type": "bar"
           }
          ],
          "barpolar": [
           {
            "marker": {
             "line": {
              "color": "white",
              "width": 0.5
             },
             "pattern": {
              "fillmode": "overlay",
              "size": 10,
              "solidity": 0.2
             }
            },
            "type": "barpolar"
           }
          ],
          "carpet": [
           {
            "aaxis": {
             "endlinecolor": "#2a3f5f",
             "gridcolor": "#C8D4E3",
             "linecolor": "#C8D4E3",
             "minorgridcolor": "#C8D4E3",
             "startlinecolor": "#2a3f5f"
            },
            "baxis": {
             "endlinecolor": "#2a3f5f",
             "gridcolor": "#C8D4E3",
             "linecolor": "#C8D4E3",
             "minorgridcolor": "#C8D4E3",
             "startlinecolor": "#2a3f5f"
            },
            "type": "carpet"
           }
          ],
          "choropleth": [
           {
            "colorbar": {
             "outlinewidth": 0,
             "ticks": ""
            },
            "type": "choropleth"
           }
          ],
          "contour": [
           {
            "colorbar": {
             "outlinewidth": 0,
             "ticks": ""
            },
            "colorscale": [
             [
              0,
              "#0d0887"
             ],
             [
              0.1111111111111111,
              "#46039f"
             ],
             [
              0.2222222222222222,
              "#7201a8"
             ],
             [
              0.3333333333333333,
              "#9c179e"
             ],
             [
              0.4444444444444444,
              "#bd3786"
             ],
             [
              0.5555555555555556,
              "#d8576b"
             ],
             [
              0.6666666666666666,
              "#ed7953"
             ],
             [
              0.7777777777777778,
              "#fb9f3a"
             ],
             [
              0.8888888888888888,
              "#fdca26"
             ],
             [
              1,
              "#f0f921"
             ]
            ],
            "type": "contour"
           }
          ],
          "contourcarpet": [
           {
            "colorbar": {
             "outlinewidth": 0,
             "ticks": ""
            },
            "type": "contourcarpet"
           }
          ],
          "heatmap": [
           {
            "colorbar": {
             "outlinewidth": 0,
             "ticks": ""
            },
            "colorscale": [
             [
              0,
              "#0d0887"
             ],
             [
              0.1111111111111111,
              "#46039f"
             ],
             [
              0.2222222222222222,
              "#7201a8"
             ],
             [
              0.3333333333333333,
              "#9c179e"
             ],
             [
              0.4444444444444444,
              "#bd3786"
             ],
             [
              0.5555555555555556,
              "#d8576b"
             ],
             [
              0.6666666666666666,
              "#ed7953"
             ],
             [
              0.7777777777777778,
              "#fb9f3a"
             ],
             [
              0.8888888888888888,
              "#fdca26"
             ],
             [
              1,
              "#f0f921"
             ]
            ],
            "type": "heatmap"
           }
          ],
          "histogram": [
           {
            "marker": {
             "pattern": {
              "fillmode": "overlay",
              "size": 10,
              "solidity": 0.2
             }
            },
            "type": "histogram"
           }
          ],
          "histogram2d": [
           {
            "colorbar": {
             "outlinewidth": 0,
             "ticks": ""
            },
            "colorscale": [
             [
              0,
              "#0d0887"
             ],
             [
              0.1111111111111111,
              "#46039f"
             ],
             [
              0.2222222222222222,
              "#7201a8"
             ],
             [
              0.3333333333333333,
              "#9c179e"
             ],
             [
              0.4444444444444444,
              "#bd3786"
             ],
             [
              0.5555555555555556,
              "#d8576b"
             ],
             [
              0.6666666666666666,
              "#ed7953"
             ],
             [
              0.7777777777777778,
              "#fb9f3a"
             ],
             [
              0.8888888888888888,
              "#fdca26"
             ],
             [
              1,
              "#f0f921"
             ]
            ],
            "type": "histogram2d"
           }
          ],
          "histogram2dcontour": [
           {
            "colorbar": {
             "outlinewidth": 0,
             "ticks": ""
            },
            "colorscale": [
             [
              0,
              "#0d0887"
             ],
             [
              0.1111111111111111,
              "#46039f"
             ],
             [
              0.2222222222222222,
              "#7201a8"
             ],
             [
              0.3333333333333333,
              "#9c179e"
             ],
             [
              0.4444444444444444,
              "#bd3786"
             ],
             [
              0.5555555555555556,
              "#d8576b"
             ],
             [
              0.6666666666666666,
              "#ed7953"
             ],
             [
              0.7777777777777778,
              "#fb9f3a"
             ],
             [
              0.8888888888888888,
              "#fdca26"
             ],
             [
              1,
              "#f0f921"
             ]
            ],
            "type": "histogram2dcontour"
           }
          ],
          "mesh3d": [
           {
            "colorbar": {
             "outlinewidth": 0,
             "ticks": ""
            },
            "type": "mesh3d"
           }
          ],
          "parcoords": [
           {
            "line": {
             "colorbar": {
              "outlinewidth": 0,
              "ticks": ""
             }
            },
            "type": "parcoords"
           }
          ],
          "pie": [
           {
            "automargin": true,
            "type": "pie"
           }
          ],
          "scatter": [
           {
            "fillpattern": {
             "fillmode": "overlay",
             "size": 10,
             "solidity": 0.2
            },
            "type": "scatter"
           }
          ],
          "scatter3d": [
           {
            "line": {
             "colorbar": {
              "outlinewidth": 0,
              "ticks": ""
             }
            },
            "marker": {
             "colorbar": {
              "outlinewidth": 0,
              "ticks": ""
             }
            },
            "type": "scatter3d"
           }
          ],
          "scattercarpet": [
           {
            "marker": {
             "colorbar": {
              "outlinewidth": 0,
              "ticks": ""
             }
            },
            "type": "scattercarpet"
           }
          ],
          "scattergeo": [
           {
            "marker": {
             "colorbar": {
              "outlinewidth": 0,
              "ticks": ""
             }
            },
            "type": "scattergeo"
           }
          ],
          "scattergl": [
           {
            "marker": {
             "colorbar": {
              "outlinewidth": 0,
              "ticks": ""
             }
            },
            "type": "scattergl"
           }
          ],
          "scattermap": [
           {
            "marker": {
             "colorbar": {
              "outlinewidth": 0,
              "ticks": ""
             }
            },
            "type": "scattermap"
           }
          ],
          "scattermapbox": [
           {
            "marker": {
             "colorbar": {
              "outlinewidth": 0,
              "ticks": ""
             }
            },
            "type": "scattermapbox"
           }
          ],
          "scatterpolar": [
           {
            "marker": {
             "colorbar": {
              "outlinewidth": 0,
              "ticks": ""
             }
            },
            "type": "scatterpolar"
           }
          ],
          "scatterpolargl": [
           {
            "marker": {
             "colorbar": {
              "outlinewidth": 0,
              "ticks": ""
             }
            },
            "type": "scatterpolargl"
           }
          ],
          "scatterternary": [
           {
            "marker": {
             "colorbar": {
              "outlinewidth": 0,
              "ticks": ""
             }
            },
            "type": "scatterternary"
           }
          ],
          "surface": [
           {
            "colorbar": {
             "outlinewidth": 0,
             "ticks": ""
            },
            "colorscale": [
             [
              0,
              "#0d0887"
             ],
             [
              0.1111111111111111,
              "#46039f"
             ],
             [
              0.2222222222222222,
              "#7201a8"
             ],
             [
              0.3333333333333333,
              "#9c179e"
             ],
             [
              0.4444444444444444,
              "#bd3786"
             ],
             [
              0.5555555555555556,
              "#d8576b"
             ],
             [
              0.6666666666666666,
              "#ed7953"
             ],
             [
              0.7777777777777778,
              "#fb9f3a"
             ],
             [
              0.8888888888888888,
              "#fdca26"
             ],
             [
              1,
              "#f0f921"
             ]
            ],
            "type": "surface"
           }
          ],
          "table": [
           {
            "cells": {
             "fill": {
              "color": "#EBF0F8"
             },
             "line": {
              "color": "white"
             }
            },
            "header": {
             "fill": {
              "color": "#C8D4E3"
             },
             "line": {
              "color": "white"
             }
            },
            "type": "table"
           }
          ]
         },
         "layout": {
          "annotationdefaults": {
           "arrowcolor": "#2a3f5f",
           "arrowhead": 0,
           "arrowwidth": 1
          },
          "autotypenumbers": "strict",
          "coloraxis": {
           "colorbar": {
            "outlinewidth": 0,
            "ticks": ""
           }
          },
          "colorscale": {
           "diverging": [
            [
             0,
             "#8e0152"
            ],
            [
             0.1,
             "#c51b7d"
            ],
            [
             0.2,
             "#de77ae"
            ],
            [
             0.3,
             "#f1b6da"
            ],
            [
             0.4,
             "#fde0ef"
            ],
            [
             0.5,
             "#f7f7f7"
            ],
            [
             0.6,
             "#e6f5d0"
            ],
            [
             0.7,
             "#b8e186"
            ],
            [
             0.8,
             "#7fbc41"
            ],
            [
             0.9,
             "#4d9221"
            ],
            [
             1,
             "#276419"
            ]
           ],
           "sequential": [
            [
             0,
             "#0d0887"
            ],
            [
             0.1111111111111111,
             "#46039f"
            ],
            [
             0.2222222222222222,
             "#7201a8"
            ],
            [
             0.3333333333333333,
             "#9c179e"
            ],
            [
             0.4444444444444444,
             "#bd3786"
            ],
            [
             0.5555555555555556,
             "#d8576b"
            ],
            [
             0.6666666666666666,
             "#ed7953"
            ],
            [
             0.7777777777777778,
             "#fb9f3a"
            ],
            [
             0.8888888888888888,
             "#fdca26"
            ],
            [
             1,
             "#f0f921"
            ]
           ],
           "sequentialminus": [
            [
             0,
             "#0d0887"
            ],
            [
             0.1111111111111111,
             "#46039f"
            ],
            [
             0.2222222222222222,
             "#7201a8"
            ],
            [
             0.3333333333333333,
             "#9c179e"
            ],
            [
             0.4444444444444444,
             "#bd3786"
            ],
            [
             0.5555555555555556,
             "#d8576b"
            ],
            [
             0.6666666666666666,
             "#ed7953"
            ],
            [
             0.7777777777777778,
             "#fb9f3a"
            ],
            [
             0.8888888888888888,
             "#fdca26"
            ],
            [
             1,
             "#f0f921"
            ]
           ]
          },
          "colorway": [
           "#636efa",
           "#EF553B",
           "#00cc96",
           "#ab63fa",
           "#FFA15A",
           "#19d3f3",
           "#FF6692",
           "#B6E880",
           "#FF97FF",
           "#FECB52"
          ],
          "font": {
           "color": "#2a3f5f"
          },
          "geo": {
           "bgcolor": "white",
           "lakecolor": "white",
           "landcolor": "white",
           "showlakes": true,
           "showland": true,
           "subunitcolor": "#C8D4E3"
          },
          "hoverlabel": {
           "align": "left"
          },
          "hovermode": "closest",
          "mapbox": {
           "style": "light"
          },
          "paper_bgcolor": "white",
          "plot_bgcolor": "white",
          "polar": {
           "angularaxis": {
            "gridcolor": "#EBF0F8",
            "linecolor": "#EBF0F8",
            "ticks": ""
           },
           "bgcolor": "white",
           "radialaxis": {
            "gridcolor": "#EBF0F8",
            "linecolor": "#EBF0F8",
            "ticks": ""
           }
          },
          "scene": {
           "xaxis": {
            "backgroundcolor": "white",
            "gridcolor": "#DFE8F3",
            "gridwidth": 2,
            "linecolor": "#EBF0F8",
            "showbackground": true,
            "ticks": "",
            "zerolinecolor": "#EBF0F8"
           },
           "yaxis": {
            "backgroundcolor": "white",
            "gridcolor": "#DFE8F3",
            "gridwidth": 2,
            "linecolor": "#EBF0F8",
            "showbackground": true,
            "ticks": "",
            "zerolinecolor": "#EBF0F8"
           },
           "zaxis": {
            "backgroundcolor": "white",
            "gridcolor": "#DFE8F3",
            "gridwidth": 2,
            "linecolor": "#EBF0F8",
            "showbackground": true,
            "ticks": "",
            "zerolinecolor": "#EBF0F8"
           }
          },
          "shapedefaults": {
           "line": {
            "color": "#2a3f5f"
           }
          },
          "ternary": {
           "aaxis": {
            "gridcolor": "#DFE8F3",
            "linecolor": "#A2B1C6",
            "ticks": ""
           },
           "baxis": {
            "gridcolor": "#DFE8F3",
            "linecolor": "#A2B1C6",
            "ticks": ""
           },
           "bgcolor": "white",
           "caxis": {
            "gridcolor": "#DFE8F3",
            "linecolor": "#A2B1C6",
            "ticks": ""
           }
          },
          "title": {
           "x": 0.05
          },
          "xaxis": {
           "automargin": true,
           "gridcolor": "#EBF0F8",
           "linecolor": "#EBF0F8",
           "ticks": "",
           "title": {
            "standoff": 15
           },
           "zerolinecolor": "#EBF0F8",
           "zerolinewidth": 2
          },
          "yaxis": {
           "automargin": true,
           "gridcolor": "#EBF0F8",
           "linecolor": "#EBF0F8",
           "ticks": "",
           "title": {
            "standoff": 15
           },
           "zerolinecolor": "#EBF0F8",
           "zerolinewidth": 2
          }
         }
        },
        "title": {
         "text": "Сравнение максимальных окладов"
        },
        "xaxis": {
         "title": {
          "text": "Позиция"
         }
        },
        "yaxis": {
         "title": {
          "text": "Максимальный оклад (руб)"
         }
        }
       }
      }
     },
     "metadata": {},
     "output_type": "display_data"
    },
    {
     "data": {
      "application/vnd.plotly.v1+json": {
       "config": {
        "plotlyServerURL": "https://plot.ly"
       },
       "data": [
        {
         "marker": {
          "color": "purple"
         },
         "name": "Темп прироста зарплаты, Москва",
         "text": {
          "bdata": "7FG4HoXrsT97FK5H4XqkP7gehetRuL4/exSuR+F6pD97FK5H4XqkPw==",
          "dtype": "f8"
         },
         "textposition": "outside",
         "type": "bar",
         "x": [
          "Программист Java",
          "Программист PHP",
          "Программист C++",
          "Программист Python",
          "Программист C#"
         ],
         "y": {
          "bdata": "7FG4HoXrsT97FK5H4XqkP7gehetRuL4/exSuR+F6pD97FK5H4XqkPw==",
          "dtype": "f8"
         }
        },
        {
         "marker": {
          "color": "pink"
         },
         "name": "Темп прироста зарплаты, Санкт-Петербург",
         "text": {
          "bdata": "exSuR+F6tD97FK5H4XqkP+xRuB6F68E/exSuR+F6pD+amZmZmZmpPw==",
          "dtype": "f8"
         },
         "textposition": "outside",
         "type": "bar",
         "x": [
          "Программист Java",
          "Программист PHP",
          "Программист C++",
          "Программист Python",
          "Программист C#"
         ],
         "y": {
          "bdata": "exSuR+F6tD97FK5H4XqkP+xRuB6F68E/exSuR+F6pD+amZmZmZmpPw==",
          "dtype": "f8"
         }
        }
       ],
       "layout": {
        "barmode": "group",
        "template": {
         "data": {
          "bar": [
           {
            "error_x": {
             "color": "#2a3f5f"
            },
            "error_y": {
             "color": "#2a3f5f"
            },
            "marker": {
             "line": {
              "color": "white",
              "width": 0.5
             },
             "pattern": {
              "fillmode": "overlay",
              "size": 10,
              "solidity": 0.2
             }
            },
            "type": "bar"
           }
          ],
          "barpolar": [
           {
            "marker": {
             "line": {
              "color": "white",
              "width": 0.5
             },
             "pattern": {
              "fillmode": "overlay",
              "size": 10,
              "solidity": 0.2
             }
            },
            "type": "barpolar"
           }
          ],
          "carpet": [
           {
            "aaxis": {
             "endlinecolor": "#2a3f5f",
             "gridcolor": "#C8D4E3",
             "linecolor": "#C8D4E3",
             "minorgridcolor": "#C8D4E3",
             "startlinecolor": "#2a3f5f"
            },
            "baxis": {
             "endlinecolor": "#2a3f5f",
             "gridcolor": "#C8D4E3",
             "linecolor": "#C8D4E3",
             "minorgridcolor": "#C8D4E3",
             "startlinecolor": "#2a3f5f"
            },
            "type": "carpet"
           }
          ],
          "choropleth": [
           {
            "colorbar": {
             "outlinewidth": 0,
             "ticks": ""
            },
            "type": "choropleth"
           }
          ],
          "contour": [
           {
            "colorbar": {
             "outlinewidth": 0,
             "ticks": ""
            },
            "colorscale": [
             [
              0,
              "#0d0887"
             ],
             [
              0.1111111111111111,
              "#46039f"
             ],
             [
              0.2222222222222222,
              "#7201a8"
             ],
             [
              0.3333333333333333,
              "#9c179e"
             ],
             [
              0.4444444444444444,
              "#bd3786"
             ],
             [
              0.5555555555555556,
              "#d8576b"
             ],
             [
              0.6666666666666666,
              "#ed7953"
             ],
             [
              0.7777777777777778,
              "#fb9f3a"
             ],
             [
              0.8888888888888888,
              "#fdca26"
             ],
             [
              1,
              "#f0f921"
             ]
            ],
            "type": "contour"
           }
          ],
          "contourcarpet": [
           {
            "colorbar": {
             "outlinewidth": 0,
             "ticks": ""
            },
            "type": "contourcarpet"
           }
          ],
          "heatmap": [
           {
            "colorbar": {
             "outlinewidth": 0,
             "ticks": ""
            },
            "colorscale": [
             [
              0,
              "#0d0887"
             ],
             [
              0.1111111111111111,
              "#46039f"
             ],
             [
              0.2222222222222222,
              "#7201a8"
             ],
             [
              0.3333333333333333,
              "#9c179e"
             ],
             [
              0.4444444444444444,
              "#bd3786"
             ],
             [
              0.5555555555555556,
              "#d8576b"
             ],
             [
              0.6666666666666666,
              "#ed7953"
             ],
             [
              0.7777777777777778,
              "#fb9f3a"
             ],
             [
              0.8888888888888888,
              "#fdca26"
             ],
             [
              1,
              "#f0f921"
             ]
            ],
            "type": "heatmap"
           }
          ],
          "histogram": [
           {
            "marker": {
             "pattern": {
              "fillmode": "overlay",
              "size": 10,
              "solidity": 0.2
             }
            },
            "type": "histogram"
           }
          ],
          "histogram2d": [
           {
            "colorbar": {
             "outlinewidth": 0,
             "ticks": ""
            },
            "colorscale": [
             [
              0,
              "#0d0887"
             ],
             [
              0.1111111111111111,
              "#46039f"
             ],
             [
              0.2222222222222222,
              "#7201a8"
             ],
             [
              0.3333333333333333,
              "#9c179e"
             ],
             [
              0.4444444444444444,
              "#bd3786"
             ],
             [
              0.5555555555555556,
              "#d8576b"
             ],
             [
              0.6666666666666666,
              "#ed7953"
             ],
             [
              0.7777777777777778,
              "#fb9f3a"
             ],
             [
              0.8888888888888888,
              "#fdca26"
             ],
             [
              1,
              "#f0f921"
             ]
            ],
            "type": "histogram2d"
           }
          ],
          "histogram2dcontour": [
           {
            "colorbar": {
             "outlinewidth": 0,
             "ticks": ""
            },
            "colorscale": [
             [
              0,
              "#0d0887"
             ],
             [
              0.1111111111111111,
              "#46039f"
             ],
             [
              0.2222222222222222,
              "#7201a8"
             ],
             [
              0.3333333333333333,
              "#9c179e"
             ],
             [
              0.4444444444444444,
              "#bd3786"
             ],
             [
              0.5555555555555556,
              "#d8576b"
             ],
             [
              0.6666666666666666,
              "#ed7953"
             ],
             [
              0.7777777777777778,
              "#fb9f3a"
             ],
             [
              0.8888888888888888,
              "#fdca26"
             ],
             [
              1,
              "#f0f921"
             ]
            ],
            "type": "histogram2dcontour"
           }
          ],
          "mesh3d": [
           {
            "colorbar": {
             "outlinewidth": 0,
             "ticks": ""
            },
            "type": "mesh3d"
           }
          ],
          "parcoords": [
           {
            "line": {
             "colorbar": {
              "outlinewidth": 0,
              "ticks": ""
             }
            },
            "type": "parcoords"
           }
          ],
          "pie": [
           {
            "automargin": true,
            "type": "pie"
           }
          ],
          "scatter": [
           {
            "fillpattern": {
             "fillmode": "overlay",
             "size": 10,
             "solidity": 0.2
            },
            "type": "scatter"
           }
          ],
          "scatter3d": [
           {
            "line": {
             "colorbar": {
              "outlinewidth": 0,
              "ticks": ""
             }
            },
            "marker": {
             "colorbar": {
              "outlinewidth": 0,
              "ticks": ""
             }
            },
            "type": "scatter3d"
           }
          ],
          "scattercarpet": [
           {
            "marker": {
             "colorbar": {
              "outlinewidth": 0,
              "ticks": ""
             }
            },
            "type": "scattercarpet"
           }
          ],
          "scattergeo": [
           {
            "marker": {
             "colorbar": {
              "outlinewidth": 0,
              "ticks": ""
             }
            },
            "type": "scattergeo"
           }
          ],
          "scattergl": [
           {
            "marker": {
             "colorbar": {
              "outlinewidth": 0,
              "ticks": ""
             }
            },
            "type": "scattergl"
           }
          ],
          "scattermap": [
           {
            "marker": {
             "colorbar": {
              "outlinewidth": 0,
              "ticks": ""
             }
            },
            "type": "scattermap"
           }
          ],
          "scattermapbox": [
           {
            "marker": {
             "colorbar": {
              "outlinewidth": 0,
              "ticks": ""
             }
            },
            "type": "scattermapbox"
           }
          ],
          "scatterpolar": [
           {
            "marker": {
             "colorbar": {
              "outlinewidth": 0,
              "ticks": ""
             }
            },
            "type": "scatterpolar"
           }
          ],
          "scatterpolargl": [
           {
            "marker": {
             "colorbar": {
              "outlinewidth": 0,
              "ticks": ""
             }
            },
            "type": "scatterpolargl"
           }
          ],
          "scatterternary": [
           {
            "marker": {
             "colorbar": {
              "outlinewidth": 0,
              "ticks": ""
             }
            },
            "type": "scatterternary"
           }
          ],
          "surface": [
           {
            "colorbar": {
             "outlinewidth": 0,
             "ticks": ""
            },
            "colorscale": [
             [
              0,
              "#0d0887"
             ],
             [
              0.1111111111111111,
              "#46039f"
             ],
             [
              0.2222222222222222,
              "#7201a8"
             ],
             [
              0.3333333333333333,
              "#9c179e"
             ],
             [
              0.4444444444444444,
              "#bd3786"
             ],
             [
              0.5555555555555556,
              "#d8576b"
             ],
             [
              0.6666666666666666,
              "#ed7953"
             ],
             [
              0.7777777777777778,
              "#fb9f3a"
             ],
             [
              0.8888888888888888,
              "#fdca26"
             ],
             [
              1,
              "#f0f921"
             ]
            ],
            "type": "surface"
           }
          ],
          "table": [
           {
            "cells": {
             "fill": {
              "color": "#EBF0F8"
             },
             "line": {
              "color": "white"
             }
            },
            "header": {
             "fill": {
              "color": "#C8D4E3"
             },
             "line": {
              "color": "white"
             }
            },
            "type": "table"
           }
          ]
         },
         "layout": {
          "annotationdefaults": {
           "arrowcolor": "#2a3f5f",
           "arrowhead": 0,
           "arrowwidth": 1
          },
          "autotypenumbers": "strict",
          "coloraxis": {
           "colorbar": {
            "outlinewidth": 0,
            "ticks": ""
           }
          },
          "colorscale": {
           "diverging": [
            [
             0,
             "#8e0152"
            ],
            [
             0.1,
             "#c51b7d"
            ],
            [
             0.2,
             "#de77ae"
            ],
            [
             0.3,
             "#f1b6da"
            ],
            [
             0.4,
             "#fde0ef"
            ],
            [
             0.5,
             "#f7f7f7"
            ],
            [
             0.6,
             "#e6f5d0"
            ],
            [
             0.7,
             "#b8e186"
            ],
            [
             0.8,
             "#7fbc41"
            ],
            [
             0.9,
             "#4d9221"
            ],
            [
             1,
             "#276419"
            ]
           ],
           "sequential": [
            [
             0,
             "#0d0887"
            ],
            [
             0.1111111111111111,
             "#46039f"
            ],
            [
             0.2222222222222222,
             "#7201a8"
            ],
            [
             0.3333333333333333,
             "#9c179e"
            ],
            [
             0.4444444444444444,
             "#bd3786"
            ],
            [
             0.5555555555555556,
             "#d8576b"
            ],
            [
             0.6666666666666666,
             "#ed7953"
            ],
            [
             0.7777777777777778,
             "#fb9f3a"
            ],
            [
             0.8888888888888888,
             "#fdca26"
            ],
            [
             1,
             "#f0f921"
            ]
           ],
           "sequentialminus": [
            [
             0,
             "#0d0887"
            ],
            [
             0.1111111111111111,
             "#46039f"
            ],
            [
             0.2222222222222222,
             "#7201a8"
            ],
            [
             0.3333333333333333,
             "#9c179e"
            ],
            [
             0.4444444444444444,
             "#bd3786"
            ],
            [
             0.5555555555555556,
             "#d8576b"
            ],
            [
             0.6666666666666666,
             "#ed7953"
            ],
            [
             0.7777777777777778,
             "#fb9f3a"
            ],
            [
             0.8888888888888888,
             "#fdca26"
            ],
            [
             1,
             "#f0f921"
            ]
           ]
          },
          "colorway": [
           "#636efa",
           "#EF553B",
           "#00cc96",
           "#ab63fa",
           "#FFA15A",
           "#19d3f3",
           "#FF6692",
           "#B6E880",
           "#FF97FF",
           "#FECB52"
          ],
          "font": {
           "color": "#2a3f5f"
          },
          "geo": {
           "bgcolor": "white",
           "lakecolor": "white",
           "landcolor": "white",
           "showlakes": true,
           "showland": true,
           "subunitcolor": "#C8D4E3"
          },
          "hoverlabel": {
           "align": "left"
          },
          "hovermode": "closest",
          "mapbox": {
           "style": "light"
          },
          "paper_bgcolor": "white",
          "plot_bgcolor": "white",
          "polar": {
           "angularaxis": {
            "gridcolor": "#EBF0F8",
            "linecolor": "#EBF0F8",
            "ticks": ""
           },
           "bgcolor": "white",
           "radialaxis": {
            "gridcolor": "#EBF0F8",
            "linecolor": "#EBF0F8",
            "ticks": ""
           }
          },
          "scene": {
           "xaxis": {
            "backgroundcolor": "white",
            "gridcolor": "#DFE8F3",
            "gridwidth": 2,
            "linecolor": "#EBF0F8",
            "showbackground": true,
            "ticks": "",
            "zerolinecolor": "#EBF0F8"
           },
           "yaxis": {
            "backgroundcolor": "white",
            "gridcolor": "#DFE8F3",
            "gridwidth": 2,
            "linecolor": "#EBF0F8",
            "showbackground": true,
            "ticks": "",
            "zerolinecolor": "#EBF0F8"
           },
           "zaxis": {
            "backgroundcolor": "white",
            "gridcolor": "#DFE8F3",
            "gridwidth": 2,
            "linecolor": "#EBF0F8",
            "showbackground": true,
            "ticks": "",
            "zerolinecolor": "#EBF0F8"
           }
          },
          "shapedefaults": {
           "line": {
            "color": "#2a3f5f"
           }
          },
          "ternary": {
           "aaxis": {
            "gridcolor": "#DFE8F3",
            "linecolor": "#A2B1C6",
            "ticks": ""
           },
           "baxis": {
            "gridcolor": "#DFE8F3",
            "linecolor": "#A2B1C6",
            "ticks": ""
           },
           "bgcolor": "white",
           "caxis": {
            "gridcolor": "#DFE8F3",
            "linecolor": "#A2B1C6",
            "ticks": ""
           }
          },
          "title": {
           "x": 0.05
          },
          "xaxis": {
           "automargin": true,
           "gridcolor": "#EBF0F8",
           "linecolor": "#EBF0F8",
           "ticks": "",
           "title": {
            "standoff": 15
           },
           "zerolinecolor": "#EBF0F8",
           "zerolinewidth": 2
          },
          "yaxis": {
           "automargin": true,
           "gridcolor": "#EBF0F8",
           "linecolor": "#EBF0F8",
           "ticks": "",
           "title": {
            "standoff": 15
           },
           "zerolinecolor": "#EBF0F8",
           "zerolinewidth": 2
          }
         }
        },
        "title": {
         "text": "Сравнение темпов прироста зарплаты"
        },
        "xaxis": {
         "title": {
          "text": "Позиция"
         }
        },
        "yaxis": {
         "title": {
          "text": "Темп прироста зарплаты"
         }
        }
       }
      }
     },
     "metadata": {},
     "output_type": "display_data"
    }
   ],
   "source": [
    "# График 1: Сравнение средних окладов\n",
    "fig1 = go.Figure()\n",
    "\n",
    "fig1.add_trace(go.Bar(\n",
    "    x=df2[\"Позиция\"],\n",
    "    y=df2[\"Средний чистый оклад (mean net fix salary)\"],\n",
    "    name=\"Средний оклад, Москва\",\n",
    "    marker_color=\"blue\",\n",
    "    text=df2[\"Средний чистый оклад (mean net fix salary)\"],\n",
    "    textposition=\"outside\"\n",
    "))\n",
    "\n",
    "fig1.add_trace(go.Bar(\n",
    "    x=df3[\"Позиция\"],\n",
    "    y=df3[\"Средний чистый оклад (mean net fix salary)\"],\n",
    "    name=\"Средний оклад, Санкт-Петербург\",\n",
    "    marker_color=\"red\",\n",
    "    text=df3[\"Средний чистый оклад (mean net fix salary)\"],\n",
    "    textposition=\"outside\"\n",
    "))\n",
    "\n",
    "fig1.update_layout(\n",
    "    title=\"Сравнение средних окладов\",\n",
    "    xaxis_title=\"Позиция\",\n",
    "    yaxis_title=\"Средний оклад (руб)\",\n",
    "    barmode=\"group\",  \n",
    "    template=\"plotly_white\"\n",
    ")\n",
    "\n",
    "# График 2: Сравнение максимальных окладов\n",
    "fig2 = go.Figure()\n",
    "\n",
    "fig2.add_trace(go.Bar(\n",
    "    x=df2[\"Позиция\"],\n",
    "    y=df2[\"Максимальный чистый оклад (max net fix salary)\"],\n",
    "    name=\"Максимальный оклад, Москва\",\n",
    "    marker_color=\"green\",\n",
    "    text=df2[\"Максимальный чистый оклад (max net fix salary)\"],\n",
    "    textposition=\"outside\"\n",
    "))\n",
    "\n",
    "fig2.add_trace(go.Bar(\n",
    "    x=df3[\"Позиция\"],\n",
    "    y=df3[\"Максимальный чистый оклад (max net fix salary)\"],\n",
    "    name=\"Максимальный оклад, Санкт-Петербург\",\n",
    "    marker_color=\"orange\",\n",
    "    text=df3[\"Максимальный чистый оклад (max net fix salary)\"],\n",
    "    textposition=\"outside\"\n",
    "))\n",
    "\n",
    "fig2.update_layout(\n",
    "    title=\"Сравнение максимальных окладов\",\n",
    "    xaxis_title=\"Позиция\",\n",
    "    yaxis_title=\"Максимальный оклад (руб)\",\n",
    "    barmode=\"group\",  \n",
    "    template=\"plotly_white\"\n",
    ")\n",
    "\n",
    "# График 3: Сравнение темпов прироста средних рыночных зарплат\n",
    "fig3 = go.Figure()\n",
    "\n",
    "fig3.add_trace(go.Bar(\n",
    "    x=df2[\"Позиция\"],\n",
    "    y=df2[\"Темп прироста средней рыночной зарплаты за год, %\"],\n",
    "    name=\"Темп прироста зарплаты, Москва\",\n",
    "    marker_color=\"purple\",\n",
    "    text=df2[\"Темп прироста средней рыночной зарплаты за год, %\"],\n",
    "    textposition=\"outside\"\n",
    "))\n",
    "\n",
    "fig3.add_trace(go.Bar(\n",
    "    x=df3[\"Позиция\"],\n",
    "    y=df3[\"Темп прироста средней рыночной зарплаты за год, %\"],\n",
    "    name=\"Темп прироста зарплаты, Санкт-Петербург\",\n",
    "    marker_color=\"pink\",\n",
    "    text=df3[\"Темп прироста средней рыночной зарплаты за год, %\"],\n",
    "    textposition=\"outside\"\n",
    "))\n",
    "\n",
    "fig3.update_layout(\n",
    "    title=\"Сравнение темпов прироста зарплаты\",\n",
    "    xaxis_title=\"Позиция\",\n",
    "    yaxis_title=\"Темп прироста зарплаты\",\n",
    "    barmode=\"group\",  \n",
    "    template=\"plotly_white\"\n",
    ")\n",
    "\n",
    "fig1.show()\n",
    "fig2.show()\n",
    "fig3.show()"
   ]
  }
 ],
 "metadata": {
  "kernelspec": {
   "display_name": "base",
   "language": "python",
   "name": "python3"
  },
  "language_info": {
   "codemirror_mode": {
    "name": "ipython",
    "version": 3
   },
   "file_extension": ".py",
   "mimetype": "text/x-python",
   "name": "python",
   "nbconvert_exporter": "python",
   "pygments_lexer": "ipython3",
   "version": "3.8.5"
  }
 },
 "nbformat": 4,
 "nbformat_minor": 2
}
